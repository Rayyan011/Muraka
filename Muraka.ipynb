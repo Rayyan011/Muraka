{
 "cells": [
  {
   "cell_type": "code",
   "execution_count": 1,
   "id": "0d1e05c9-a466-41de-ae5f-1a143af50c9a",
   "metadata": {},
   "outputs": [
    {
     "name": "stdout",
     "output_type": "stream",
     "text": [
      "Requirement already satisfied: roboflow in /system/conda/miniconda3/envs/cloudspace/lib/python3.10/site-packages (1.1.58)\n",
      "Requirement already satisfied: ultralytics in /system/conda/miniconda3/envs/cloudspace/lib/python3.10/site-packages (8.3.96)\n",
      "Requirement already satisfied: opencv-python in /system/conda/miniconda3/envs/cloudspace/lib/python3.10/site-packages (4.11.0.86)\n",
      "Requirement already satisfied: pillow in /system/conda/miniconda3/envs/cloudspace/lib/python3.10/site-packages (11.1.0)\n",
      "Requirement already satisfied: torch in /system/conda/miniconda3/envs/cloudspace/lib/python3.10/site-packages (2.6.0)\n",
      "Requirement already satisfied: torchvision in /system/conda/miniconda3/envs/cloudspace/lib/python3.10/site-packages (0.21.0)\n",
      "Requirement already satisfied: certifi in /system/conda/miniconda3/envs/cloudspace/lib/python3.10/site-packages (from roboflow) (2025.1.31)\n",
      "Requirement already satisfied: idna==3.7 in /system/conda/miniconda3/envs/cloudspace/lib/python3.10/site-packages (from roboflow) (3.7)\n",
      "Requirement already satisfied: cycler in /system/conda/miniconda3/envs/cloudspace/lib/python3.10/site-packages (from roboflow) (0.12.1)\n",
      "Requirement already satisfied: kiwisolver>=1.3.1 in /system/conda/miniconda3/envs/cloudspace/lib/python3.10/site-packages (from roboflow) (1.4.8)\n",
      "Requirement already satisfied: matplotlib in /system/conda/miniconda3/envs/cloudspace/lib/python3.10/site-packages (from roboflow) (3.8.2)\n",
      "Requirement already satisfied: numpy>=1.18.5 in /system/conda/miniconda3/envs/cloudspace/lib/python3.10/site-packages (from roboflow) (1.26.4)\n",
      "Requirement already satisfied: opencv-python-headless==4.10.0.84 in /system/conda/miniconda3/envs/cloudspace/lib/python3.10/site-packages (from roboflow) (4.10.0.84)\n",
      "Requirement already satisfied: pillow-heif>=0.18.0 in /system/conda/miniconda3/envs/cloudspace/lib/python3.10/site-packages (from roboflow) (0.22.0)\n",
      "Requirement already satisfied: python-dateutil in /system/conda/miniconda3/envs/cloudspace/lib/python3.10/site-packages (from roboflow) (2.9.0.post0)\n",
      "Requirement already satisfied: python-dotenv in /system/conda/miniconda3/envs/cloudspace/lib/python3.10/site-packages (from roboflow) (1.0.1)\n",
      "Requirement already satisfied: requests in /system/conda/miniconda3/envs/cloudspace/lib/python3.10/site-packages (from roboflow) (2.32.3)\n",
      "Requirement already satisfied: six in /system/conda/miniconda3/envs/cloudspace/lib/python3.10/site-packages (from roboflow) (1.17.0)\n",
      "Requirement already satisfied: urllib3>=1.26.6 in /system/conda/miniconda3/envs/cloudspace/lib/python3.10/site-packages (from roboflow) (2.3.0)\n",
      "Requirement already satisfied: tqdm>=4.41.0 in /system/conda/miniconda3/envs/cloudspace/lib/python3.10/site-packages (from roboflow) (4.67.1)\n",
      "Requirement already satisfied: PyYAML>=5.3.1 in /system/conda/miniconda3/envs/cloudspace/lib/python3.10/site-packages (from roboflow) (6.0.2)\n",
      "Requirement already satisfied: requests-toolbelt in /system/conda/miniconda3/envs/cloudspace/lib/python3.10/site-packages (from roboflow) (1.0.0)\n",
      "Requirement already satisfied: filetype in /system/conda/miniconda3/envs/cloudspace/lib/python3.10/site-packages (from roboflow) (1.2.0)\n",
      "Requirement already satisfied: scipy>=1.4.1 in /system/conda/miniconda3/envs/cloudspace/lib/python3.10/site-packages (from ultralytics) (1.11.4)\n",
      "Requirement already satisfied: psutil in /system/conda/miniconda3/envs/cloudspace/lib/python3.10/site-packages (from ultralytics) (7.0.0)\n",
      "Requirement already satisfied: py-cpuinfo in /system/conda/miniconda3/envs/cloudspace/lib/python3.10/site-packages (from ultralytics) (9.0.0)\n",
      "Requirement already satisfied: pandas>=1.1.4 in /system/conda/miniconda3/envs/cloudspace/lib/python3.10/site-packages (from ultralytics) (2.1.4)\n",
      "Requirement already satisfied: seaborn>=0.11.0 in /system/conda/miniconda3/envs/cloudspace/lib/python3.10/site-packages (from ultralytics) (0.13.2)\n",
      "Requirement already satisfied: ultralytics-thop>=2.0.0 in /system/conda/miniconda3/envs/cloudspace/lib/python3.10/site-packages (from ultralytics) (2.0.14)\n",
      "Requirement already satisfied: filelock in /system/conda/miniconda3/envs/cloudspace/lib/python3.10/site-packages (from torch) (3.17.0)\n",
      "Requirement already satisfied: typing-extensions>=4.10.0 in /system/conda/miniconda3/envs/cloudspace/lib/python3.10/site-packages (from torch) (4.12.2)\n",
      "Requirement already satisfied: networkx in /system/conda/miniconda3/envs/cloudspace/lib/python3.10/site-packages (from torch) (3.4.2)\n",
      "Requirement already satisfied: jinja2 in /system/conda/miniconda3/envs/cloudspace/lib/python3.10/site-packages (from torch) (3.1.6)\n",
      "Requirement already satisfied: fsspec in /system/conda/miniconda3/envs/cloudspace/lib/python3.10/site-packages (from torch) (2024.12.0)\n",
      "Requirement already satisfied: nvidia-cuda-nvrtc-cu12==12.4.127 in /system/conda/miniconda3/envs/cloudspace/lib/python3.10/site-packages (from torch) (12.4.127)\n",
      "Requirement already satisfied: nvidia-cuda-runtime-cu12==12.4.127 in /system/conda/miniconda3/envs/cloudspace/lib/python3.10/site-packages (from torch) (12.4.127)\n",
      "Requirement already satisfied: nvidia-cuda-cupti-cu12==12.4.127 in /system/conda/miniconda3/envs/cloudspace/lib/python3.10/site-packages (from torch) (12.4.127)\n",
      "Requirement already satisfied: nvidia-cudnn-cu12==9.1.0.70 in /system/conda/miniconda3/envs/cloudspace/lib/python3.10/site-packages (from torch) (9.1.0.70)\n",
      "Requirement already satisfied: nvidia-cublas-cu12==12.4.5.8 in /system/conda/miniconda3/envs/cloudspace/lib/python3.10/site-packages (from torch) (12.4.5.8)\n",
      "Requirement already satisfied: nvidia-cufft-cu12==11.2.1.3 in /system/conda/miniconda3/envs/cloudspace/lib/python3.10/site-packages (from torch) (11.2.1.3)\n",
      "Requirement already satisfied: nvidia-curand-cu12==10.3.5.147 in /system/conda/miniconda3/envs/cloudspace/lib/python3.10/site-packages (from torch) (10.3.5.147)\n",
      "Requirement already satisfied: nvidia-cusolver-cu12==11.6.1.9 in /system/conda/miniconda3/envs/cloudspace/lib/python3.10/site-packages (from torch) (11.6.1.9)\n",
      "Requirement already satisfied: nvidia-cusparse-cu12==12.3.1.170 in /system/conda/miniconda3/envs/cloudspace/lib/python3.10/site-packages (from torch) (12.3.1.170)\n",
      "Requirement already satisfied: nvidia-cusparselt-cu12==0.6.2 in /system/conda/miniconda3/envs/cloudspace/lib/python3.10/site-packages (from torch) (0.6.2)\n",
      "Requirement already satisfied: nvidia-nccl-cu12==2.21.5 in /system/conda/miniconda3/envs/cloudspace/lib/python3.10/site-packages (from torch) (2.21.5)\n",
      "Requirement already satisfied: nvidia-nvtx-cu12==12.4.127 in /system/conda/miniconda3/envs/cloudspace/lib/python3.10/site-packages (from torch) (12.4.127)\n",
      "Requirement already satisfied: nvidia-nvjitlink-cu12==12.4.127 in /system/conda/miniconda3/envs/cloudspace/lib/python3.10/site-packages (from torch) (12.4.127)\n",
      "Requirement already satisfied: triton==3.2.0 in /system/conda/miniconda3/envs/cloudspace/lib/python3.10/site-packages (from torch) (3.2.0)\n",
      "Requirement already satisfied: sympy==1.13.1 in /system/conda/miniconda3/envs/cloudspace/lib/python3.10/site-packages (from torch) (1.13.1)\n",
      "Requirement already satisfied: mpmath<1.4,>=1.1.0 in /system/conda/miniconda3/envs/cloudspace/lib/python3.10/site-packages (from sympy==1.13.1->torch) (1.3.0)\n",
      "Requirement already satisfied: contourpy>=1.0.1 in /system/conda/miniconda3/envs/cloudspace/lib/python3.10/site-packages (from matplotlib->roboflow) (1.3.1)\n",
      "Requirement already satisfied: fonttools>=4.22.0 in /system/conda/miniconda3/envs/cloudspace/lib/python3.10/site-packages (from matplotlib->roboflow) (4.56.0)\n",
      "Requirement already satisfied: packaging>=20.0 in /system/conda/miniconda3/envs/cloudspace/lib/python3.10/site-packages (from matplotlib->roboflow) (24.2)\n",
      "Requirement already satisfied: pyparsing>=2.3.1 in /system/conda/miniconda3/envs/cloudspace/lib/python3.10/site-packages (from matplotlib->roboflow) (3.2.1)\n",
      "Requirement already satisfied: pytz>=2020.1 in /system/conda/miniconda3/envs/cloudspace/lib/python3.10/site-packages (from pandas>=1.1.4->ultralytics) (2025.1)\n",
      "Requirement already satisfied: tzdata>=2022.1 in /system/conda/miniconda3/envs/cloudspace/lib/python3.10/site-packages (from pandas>=1.1.4->ultralytics) (2025.1)\n",
      "Requirement already satisfied: charset-normalizer<4,>=2 in /system/conda/miniconda3/envs/cloudspace/lib/python3.10/site-packages (from requests->roboflow) (3.4.1)\n",
      "Requirement already satisfied: MarkupSafe>=2.0 in /system/conda/miniconda3/envs/cloudspace/lib/python3.10/site-packages (from jinja2->torch) (3.0.2)\n"
     ]
    }
   ],
   "source": [
    "!pip install roboflow ultralytics opencv-python pillow torch torchvision"
   ]
  },
  {
   "cell_type": "code",
   "execution_count": 2,
   "id": "196e0428-ff46-4494-a39a-729a16483415",
   "metadata": {},
   "outputs": [],
   "source": [
    "import os\n",
    "import random\n",
    "from roboflow import Roboflow\n",
    "from ultralytics import YOLO"
   ]
  },
  {
   "cell_type": "code",
   "execution_count": 3,
   "id": "6d9104c3-ca9f-431d-a6ab-c92b3fca87eb",
   "metadata": {},
   "outputs": [
    {
     "name": "stdout",
     "output_type": "stream",
     "text": [
      "loading Roboflow workspace...\n",
      "loading Roboflow project...\n"
     ]
    },
    {
     "name": "stderr",
     "output_type": "stream",
     "text": [
      "Downloading Dataset Version Zip in /teamspace/studios/this_studio/dataset to yolov8-obb:: 100%|██████████| 279588/279588 [00:08<00:00, 34864.13it/s]"
     ]
    },
    {
     "name": "stdout",
     "output_type": "stream",
     "text": [
      "\n"
     ]
    },
    {
     "name": "stderr",
     "output_type": "stream",
     "text": [
      "\n",
      "Extracting Dataset Version Zip to /teamspace/studios/this_studio/dataset in yolov8-obb:: 100%|██████████| 9874/9874 [00:02<00:00, 4246.90it/s]\n"
     ]
    },
    {
     "name": "stdout",
     "output_type": "stream",
     "text": [
      "Downloading https://github.com/ultralytics/assets/releases/download/v8.3.0/yolov8n.pt to 'yolov8n.pt'...\n"
     ]
    },
    {
     "name": "stderr",
     "output_type": "stream",
     "text": [
      "100%|██████████| 6.25M/6.25M [00:00<00:00, 324MB/s]\n"
     ]
    },
    {
     "name": "stdout",
     "output_type": "stream",
     "text": [
      "Ultralytics 8.3.96 🚀 Python-3.10.10 torch-2.6.0+cu124 CUDA:0 (Tesla T4, 15102MiB)\n",
      "\u001b[34m\u001b[1mengine/trainer: \u001b[0mtask=detect, mode=train, model=yolov8n.pt, data=/teamspace/studios/this_studio/dataset/data.yaml, epochs=20, time=None, patience=100, batch=8, imgsz=640, save=True, save_period=-1, cache=False, device=None, workers=8, project=/teamspace/studios/this_studio, name=Coral_Exp1, exist_ok=False, pretrained=True, optimizer=auto, verbose=True, seed=0, deterministic=True, single_cls=False, rect=False, cos_lr=False, close_mosaic=10, resume=False, amp=True, fraction=1.0, profile=False, freeze=None, multi_scale=False, overlap_mask=True, mask_ratio=4, dropout=0.0, val=True, split=val, save_json=False, save_hybrid=False, conf=None, iou=0.7, max_det=300, half=False, dnn=False, plots=True, source=None, vid_stride=1, stream_buffer=False, visualize=False, augment=False, agnostic_nms=False, classes=None, retina_masks=False, embed=None, show=False, save_frames=False, save_txt=False, save_conf=False, save_crop=False, show_labels=True, show_conf=True, show_boxes=True, line_width=None, format=torchscript, keras=False, optimize=False, int8=False, dynamic=False, simplify=True, opset=None, workspace=None, nms=False, lr0=0.01, lrf=0.01, momentum=0.937, weight_decay=0.0005, warmup_epochs=3.0, warmup_momentum=0.8, warmup_bias_lr=0.1, box=7.5, cls=0.5, dfl=1.5, pose=12.0, kobj=1.0, nbs=64, hsv_h=0.015, hsv_s=0.7, hsv_v=0.4, degrees=0.0, translate=0.1, scale=0.5, shear=0.0, perspective=0.0, flipud=0.0, fliplr=0.5, bgr=0.0, mosaic=1.0, mixup=0.0, copy_paste=0.0, copy_paste_mode=flip, auto_augment=randaugment, erasing=0.4, crop_fraction=1.0, cfg=None, tracker=botsort.yaml, save_dir=/teamspace/studios/this_studio/Coral_Exp1\n",
      "Overriding model.yaml nc=80 with nc=16\n",
      "\n",
      "                   from  n    params  module                                       arguments                     \n",
      "  0                  -1  1       464  ultralytics.nn.modules.conv.Conv             [3, 16, 3, 2]                 \n",
      "  1                  -1  1      4672  ultralytics.nn.modules.conv.Conv             [16, 32, 3, 2]                \n",
      "  2                  -1  1      7360  ultralytics.nn.modules.block.C2f             [32, 32, 1, True]             \n",
      "  3                  -1  1     18560  ultralytics.nn.modules.conv.Conv             [32, 64, 3, 2]                \n",
      "  4                  -1  2     49664  ultralytics.nn.modules.block.C2f             [64, 64, 2, True]             \n",
      "  5                  -1  1     73984  ultralytics.nn.modules.conv.Conv             [64, 128, 3, 2]               \n",
      "  6                  -1  2    197632  ultralytics.nn.modules.block.C2f             [128, 128, 2, True]           \n",
      "  7                  -1  1    295424  ultralytics.nn.modules.conv.Conv             [128, 256, 3, 2]              \n",
      "  8                  -1  1    460288  ultralytics.nn.modules.block.C2f             [256, 256, 1, True]           \n",
      "  9                  -1  1    164608  ultralytics.nn.modules.block.SPPF            [256, 256, 5]                 \n",
      " 10                  -1  1         0  torch.nn.modules.upsampling.Upsample         [None, 2, 'nearest']          \n",
      " 11             [-1, 6]  1         0  ultralytics.nn.modules.conv.Concat           [1]                           \n",
      " 12                  -1  1    148224  ultralytics.nn.modules.block.C2f             [384, 128, 1]                 \n",
      " 13                  -1  1         0  torch.nn.modules.upsampling.Upsample         [None, 2, 'nearest']          \n",
      " 14             [-1, 4]  1         0  ultralytics.nn.modules.conv.Concat           [1]                           \n",
      " 15                  -1  1     37248  ultralytics.nn.modules.block.C2f             [192, 64, 1]                  \n",
      " 16                  -1  1     36992  ultralytics.nn.modules.conv.Conv             [64, 64, 3, 2]                \n",
      " 17            [-1, 12]  1         0  ultralytics.nn.modules.conv.Concat           [1]                           \n",
      " 18                  -1  1    123648  ultralytics.nn.modules.block.C2f             [192, 128, 1]                 \n",
      " 19                  -1  1    147712  ultralytics.nn.modules.conv.Conv             [128, 128, 3, 2]              \n",
      " 20             [-1, 9]  1         0  ultralytics.nn.modules.conv.Concat           [1]                           \n",
      " 21                  -1  1    493056  ultralytics.nn.modules.block.C2f             [384, 256, 1]                 \n",
      " 22        [15, 18, 21]  1    754432  ultralytics.nn.modules.head.Detect           [16, [64, 128, 256]]          \n",
      "Model summary: 129 layers, 3,013,968 parameters, 3,013,952 gradients, 8.2 GFLOPs\n",
      "\n",
      "Transferred 319/355 items from pretrained weights\n",
      "\u001b[34m\u001b[1mTensorBoard: \u001b[0mStart with 'tensorboard --logdir /teamspace/studios/this_studio/Coral_Exp1', view at http://localhost:6006/\n",
      "Freezing layer 'model.22.dfl.conv.weight'\n",
      "\u001b[34m\u001b[1mAMP: \u001b[0mrunning Automatic Mixed Precision (AMP) checks...\n",
      "Downloading https://github.com/ultralytics/assets/releases/download/v8.3.0/yolo11n.pt to 'yolo11n.pt'...\n"
     ]
    },
    {
     "name": "stderr",
     "output_type": "stream",
     "text": [
      "100%|██████████| 5.35M/5.35M [00:00<00:00, 272MB/s]\n"
     ]
    },
    {
     "name": "stdout",
     "output_type": "stream",
     "text": [
      "\u001b[34m\u001b[1mAMP: \u001b[0mchecks passed ✅\n"
     ]
    },
    {
     "name": "stderr",
     "output_type": "stream",
     "text": [
      "\u001b[34m\u001b[1mtrain: \u001b[0mScanning /teamspace/studios/this_studio/dataset/train/labels... 4274 images, 2 backgrounds, 594 corrupt: 100%|██████████| 4274/4274 [00:04<00:00, 997.14it/s] "
     ]
    },
    {
     "name": "stdout",
     "output_type": "stream",
     "text": [
      "\u001b[34m\u001b[1mtrain: \u001b[0mWARNING ⚠️ /teamspace/studios/this_studio/dataset/train/images/1-0-_jpg.rf.16d348eefe5b67425fd1d42dfb638e83.jpg: ignoring corrupt image/label: non-normalized or out of bounds coordinates [     1.0314]\n",
      "\u001b[34m\u001b[1mtrain: \u001b[0mWARNING ⚠️ /teamspace/studios/this_studio/dataset/train/images/1-0-_jpg.rf.645b9338657d05ec49a5a9f32488be4f.jpg: ignoring corrupt image/label: non-normalized or out of bounds coordinates [     1.0131]\n",
      "\u001b[34m\u001b[1mtrain: \u001b[0mWARNING ⚠️ /teamspace/studios/this_studio/dataset/train/images/1-0-_jpg.rf.d0eab3a144c5f312a284c4d4cf64c75b.jpg: ignoring corrupt image/label: non-normalized or out of bounds coordinates [     1.0131]\n",
      "\u001b[34m\u001b[1mtrain: \u001b[0mWARNING ⚠️ /teamspace/studios/this_studio/dataset/train/images/1-103-_jpg.rf.f8b3a4ea10c37b7e3f209cffe2126753.jpg: ignoring corrupt image/label: non-normalized or out of bounds coordinates [     1.0242]\n",
      "\u001b[34m\u001b[1mtrain: \u001b[0mWARNING ⚠️ /teamspace/studios/this_studio/dataset/train/images/1-12-_jpg.rf.45be30f7787845c9b4b8d8bb5f2caad9.jpg: ignoring corrupt image/label: non-normalized or out of bounds coordinates [     1.0006]\n",
      "\u001b[34m\u001b[1mtrain: \u001b[0mWARNING ⚠️ /teamspace/studios/this_studio/dataset/train/images/1-124-_jpg.rf.6acb6e07b0b0163205420c2bbd20aa94.jpg: ignoring corrupt image/label: non-normalized or out of bounds coordinates [          1]\n",
      "\u001b[34m\u001b[1mtrain: \u001b[0mWARNING ⚠️ /teamspace/studios/this_studio/dataset/train/images/1-125-_jpg.rf.3d558a62b33f6272bcebcb3f90a79269.jpg: ignoring corrupt image/label: non-normalized or out of bounds coordinates [     1.0001]\n",
      "\u001b[34m\u001b[1mtrain: \u001b[0mWARNING ⚠️ /teamspace/studios/this_studio/dataset/train/images/1-125-_jpg.rf.54c43d4f87082005e97aaa223fc43643.jpg: ignoring corrupt image/label: non-normalized or out of bounds coordinates [     1.0001]\n",
      "\u001b[34m\u001b[1mtrain: \u001b[0mWARNING ⚠️ /teamspace/studios/this_studio/dataset/train/images/1-128-_jpg.rf.460fe8cc8cbc2ecb9593b35c63df786c.jpg: ignoring corrupt image/label: non-normalized or out of bounds coordinates [     1.0028]\n",
      "\u001b[34m\u001b[1mtrain: \u001b[0mWARNING ⚠️ /teamspace/studios/this_studio/dataset/train/images/1-13-_jpg.rf.ccff62e192830c325fbc852deccecef8.jpg: ignoring corrupt image/label: non-normalized or out of bounds coordinates [     1.0004]\n",
      "\u001b[34m\u001b[1mtrain: \u001b[0mWARNING ⚠️ /teamspace/studios/this_studio/dataset/train/images/1-13-_jpg.rf.f82a69b97cd3b094fe1f272e260600de.jpg: ignoring corrupt image/label: non-normalized or out of bounds coordinates [     1.0004]\n",
      "\u001b[34m\u001b[1mtrain: \u001b[0mWARNING ⚠️ /teamspace/studios/this_studio/dataset/train/images/1-130-_jpg.rf.1196d4b52c6444555d6023ff1b2929f1.jpg: ignoring corrupt image/label: non-normalized or out of bounds coordinates [     1.0014]\n",
      "\u001b[34m\u001b[1mtrain: \u001b[0mWARNING ⚠️ /teamspace/studios/this_studio/dataset/train/images/1-130-_jpg.rf.36a0209f6fbc6a18eef6cdaf0d1ebaf2.jpg: ignoring corrupt image/label: non-normalized or out of bounds coordinates [     1.0014]\n",
      "\u001b[34m\u001b[1mtrain: \u001b[0mWARNING ⚠️ /teamspace/studios/this_studio/dataset/train/images/1-132-_jpg.rf.877fc26db18f8c78a9e98f64a890b0fc.jpg: ignoring corrupt image/label: non-normalized or out of bounds coordinates [     1.0029]\n",
      "\u001b[34m\u001b[1mtrain: \u001b[0mWARNING ⚠️ /teamspace/studios/this_studio/dataset/train/images/1-132-_jpg.rf.cd3746c82f64c978ad09fdca5168b873.jpg: ignoring corrupt image/label: non-normalized or out of bounds coordinates [     1.0029]\n",
      "\u001b[34m\u001b[1mtrain: \u001b[0mWARNING ⚠️ /teamspace/studios/this_studio/dataset/train/images/1-134-_jpg.rf.6d8f8c9510d5a6cee80173b6fcc96758.jpg: ignoring corrupt image/label: non-normalized or out of bounds coordinates [     1.0014]\n",
      "\u001b[34m\u001b[1mtrain: \u001b[0mWARNING ⚠️ /teamspace/studios/this_studio/dataset/train/images/1-134-_jpg.rf.d05bc6a0c2044cf036cb6fd1defb9171.jpg: ignoring corrupt image/label: non-normalized or out of bounds coordinates [     1.0014]\n",
      "\u001b[34m\u001b[1mtrain: \u001b[0mWARNING ⚠️ /teamspace/studios/this_studio/dataset/train/images/1-139-_jpg.rf.7a0553abc0475b8ab3092b4c791d77bb.jpg: ignoring corrupt image/label: non-normalized or out of bounds coordinates [     1.0016]\n",
      "\u001b[34m\u001b[1mtrain: \u001b[0mWARNING ⚠️ /teamspace/studios/this_studio/dataset/train/images/1-144-_jpg.rf.0c1c4a59b436580bce16a86ea76ebd43.jpg: ignoring corrupt image/label: non-normalized or out of bounds coordinates [      1.033]\n",
      "\u001b[34m\u001b[1mtrain: \u001b[0mWARNING ⚠️ /teamspace/studios/this_studio/dataset/train/images/1-144-_jpg.rf.adc92bcd49d92a4cd68705a87db2f6a5.jpg: ignoring corrupt image/label: non-normalized or out of bounds coordinates [     1.1103]\n",
      "\u001b[34m\u001b[1mtrain: \u001b[0mWARNING ⚠️ /teamspace/studios/this_studio/dataset/train/images/1-145-_jpg.rf.38c5c3a41ce43007a7109ffe9253fac5.jpg: ignoring corrupt image/label: non-normalized or out of bounds coordinates [     1.0001]\n",
      "\u001b[34m\u001b[1mtrain: \u001b[0mWARNING ⚠️ /teamspace/studios/this_studio/dataset/train/images/1-153-_jpg.rf.9bd02c091d5b816b5b524a435c235085.jpg: ignoring corrupt image/label: non-normalized or out of bounds coordinates [     1.1916]\n",
      "\u001b[34m\u001b[1mtrain: \u001b[0mWARNING ⚠️ /teamspace/studios/this_studio/dataset/train/images/1-153-_jpg.rf.d7f74ac347105d141cf10894b572f03e.jpg: ignoring corrupt image/label: non-normalized or out of bounds coordinates [     1.1916]\n",
      "\u001b[34m\u001b[1mtrain: \u001b[0mWARNING ⚠️ /teamspace/studios/this_studio/dataset/train/images/1-16-_jpg.rf.2934b3a00d37506106c8f431facef86e.jpg: ignoring corrupt image/label: non-normalized or out of bounds coordinates [     1.0032      1.0026]\n",
      "\u001b[34m\u001b[1mtrain: \u001b[0mWARNING ⚠️ /teamspace/studios/this_studio/dataset/train/images/1-17-_jpg.rf.14a095a317388802c43384bbbe877557.jpg: ignoring corrupt image/label: non-normalized or out of bounds coordinates [          1]\n",
      "\u001b[34m\u001b[1mtrain: \u001b[0mWARNING ⚠️ /teamspace/studios/this_studio/dataset/train/images/1-17-_jpg.rf.7ed73d748acc14f9d9ba907b52d6b2ee.jpg: ignoring corrupt image/label: non-normalized or out of bounds coordinates [          1]\n",
      "\u001b[34m\u001b[1mtrain: \u001b[0mWARNING ⚠️ /teamspace/studios/this_studio/dataset/train/images/1-17-_jpg.rf.b4e7b86296642b81aa3e3b621c928858.jpg: ignoring corrupt image/label: non-normalized or out of bounds coordinates [     1.0045]\n",
      "\u001b[34m\u001b[1mtrain: \u001b[0mWARNING ⚠️ /teamspace/studios/this_studio/dataset/train/images/1-173-_jpg.rf.f79893f6f1f121efb01b5c724f28b411.jpg: ignoring corrupt image/label: non-normalized or out of bounds coordinates [     1.0009]\n",
      "\u001b[34m\u001b[1mtrain: \u001b[0mWARNING ⚠️ /teamspace/studios/this_studio/dataset/train/images/1-180-_jpg.rf.49bc7d5c401d416680e1532d990f8498.jpg: ignoring corrupt image/label: non-normalized or out of bounds coordinates [     1.0595]\n",
      "\u001b[34m\u001b[1mtrain: \u001b[0mWARNING ⚠️ /teamspace/studios/this_studio/dataset/train/images/1-180-_jpg.rf.582ea8bf5a0b6919387d67e8eb7699a1.jpg: ignoring corrupt image/label: non-normalized or out of bounds coordinates [     1.0595]\n",
      "\u001b[34m\u001b[1mtrain: \u001b[0mWARNING ⚠️ /teamspace/studios/this_studio/dataset/train/images/1-181-_jpg.rf.4358bd0cbacd0d5c5a20465d27d3560a.jpg: ignoring corrupt image/label: non-normalized or out of bounds coordinates [     1.1017]\n",
      "\u001b[34m\u001b[1mtrain: \u001b[0mWARNING ⚠️ /teamspace/studios/this_studio/dataset/train/images/1-181-_jpg.rf.629e8f7ef466740a71aa07a0aecaf7ce.jpg: ignoring corrupt image/label: non-normalized or out of bounds coordinates [     1.1017]\n",
      "\u001b[34m\u001b[1mtrain: \u001b[0mWARNING ⚠️ /teamspace/studios/this_studio/dataset/train/images/1-181-_jpg.rf.c3c04900f0ac516c737ccb44e1949ee7.jpg: ignoring corrupt image/label: non-normalized or out of bounds coordinates [     1.1468]\n",
      "\u001b[34m\u001b[1mtrain: \u001b[0mWARNING ⚠️ /teamspace/studios/this_studio/dataset/train/images/1-182-_jpg.rf.95e3c3b4ed7f2ff14c9c770b7668038a.jpg: ignoring corrupt image/label: non-normalized or out of bounds coordinates [     1.4021]\n",
      "\u001b[34m\u001b[1mtrain: \u001b[0mWARNING ⚠️ /teamspace/studios/this_studio/dataset/train/images/1-182-_jpg.rf.cdf8910b3e7c2fb3d8afae9949860ff8.jpg: ignoring corrupt image/label: non-normalized or out of bounds coordinates [     1.0329       1.498]\n",
      "\u001b[34m\u001b[1mtrain: \u001b[0mWARNING ⚠️ /teamspace/studios/this_studio/dataset/train/images/1-182-_jpg.rf.fec4ddbe55ea14eeecce0fe2201f41e0.jpg: ignoring corrupt image/label: non-normalized or out of bounds coordinates [      1.395]\n",
      "\u001b[34m\u001b[1mtrain: \u001b[0mWARNING ⚠️ /teamspace/studios/this_studio/dataset/train/images/1-184-_jpg.rf.0c1fc1b4481a2736cc4e4cb133cfc028.jpg: ignoring corrupt image/label: non-normalized or out of bounds coordinates [     1.0007]\n",
      "\u001b[34m\u001b[1mtrain: \u001b[0mWARNING ⚠️ /teamspace/studios/this_studio/dataset/train/images/1-184-_jpg.rf.5561ee2fb676a18ee84a0ba86204dc35.jpg: ignoring corrupt image/label: non-normalized or out of bounds coordinates [     1.0023]\n",
      "\u001b[34m\u001b[1mtrain: \u001b[0mWARNING ⚠️ /teamspace/studios/this_studio/dataset/train/images/1-190-_jpg.rf.ea1db485372f2876de9e985524ef0134.jpg: ignoring corrupt image/label: non-normalized or out of bounds coordinates [     1.0328]\n",
      "\u001b[34m\u001b[1mtrain: \u001b[0mWARNING ⚠️ /teamspace/studios/this_studio/dataset/train/images/1-198-_jpg.rf.0e9ef375af56de5e2592ea95d17a2be5.jpg: ignoring corrupt image/label: non-normalized or out of bounds coordinates [     1.0559]\n",
      "\u001b[34m\u001b[1mtrain: \u001b[0mWARNING ⚠️ /teamspace/studios/this_studio/dataset/train/images/1-205-_jpg.rf.0d2a7d153ee758efa4da88cadf4cede4.jpg: ignoring corrupt image/label: non-normalized or out of bounds coordinates [     1.0004]\n",
      "\u001b[34m\u001b[1mtrain: \u001b[0mWARNING ⚠️ /teamspace/studios/this_studio/dataset/train/images/1-21-_jpg.rf.e59e23cc6856d6ccc7d04fc9ebee5747.jpg: ignoring corrupt image/label: non-normalized or out of bounds coordinates [     1.0043]\n",
      "\u001b[34m\u001b[1mtrain: \u001b[0mWARNING ⚠️ /teamspace/studios/this_studio/dataset/train/images/1-22-_jpg.rf.ad0e0a15707dab8ed20cadacf52c62a6.jpg: ignoring corrupt image/label: non-normalized or out of bounds coordinates [     1.0005]\n",
      "\u001b[34m\u001b[1mtrain: \u001b[0mWARNING ⚠️ /teamspace/studios/this_studio/dataset/train/images/1-22-_jpg.rf.c08424474f7e3241bf11672a8f6e3f4a.jpg: ignoring corrupt image/label: non-normalized or out of bounds coordinates [     1.0005]\n",
      "\u001b[34m\u001b[1mtrain: \u001b[0mWARNING ⚠️ /teamspace/studios/this_studio/dataset/train/images/1-239-_jpg.rf.63849a324924fe29582c3346754757f9.jpg: ignoring corrupt image/label: non-normalized or out of bounds coordinates [     1.0004      1.0018]\n",
      "\u001b[34m\u001b[1mtrain: \u001b[0mWARNING ⚠️ /teamspace/studios/this_studio/dataset/train/images/1-239-_jpg.rf.84e33516dd958528bb10b98bdd709ea9.jpg: ignoring corrupt image/label: non-normalized or out of bounds coordinates [     1.0004      1.0018]\n",
      "\u001b[34m\u001b[1mtrain: \u001b[0mWARNING ⚠️ /teamspace/studios/this_studio/dataset/train/images/1-247-_jpg.rf.b1989385797b13bfd15eb5411b31e748.jpg: ignoring corrupt image/label: non-normalized or out of bounds coordinates [     1.0048]\n",
      "\u001b[34m\u001b[1mtrain: \u001b[0mWARNING ⚠️ /teamspace/studios/this_studio/dataset/train/images/1-253-_jpg.rf.98e20ce802b2cbebc188db42acaee675.jpg: ignoring corrupt image/label: non-normalized or out of bounds coordinates [     1.0028]\n",
      "\u001b[34m\u001b[1mtrain: \u001b[0mWARNING ⚠️ /teamspace/studios/this_studio/dataset/train/images/1-254-_jpg.rf.a1502c00ea82007d586879fc0caf1f14.jpg: ignoring corrupt image/label: non-normalized or out of bounds coordinates [          1]\n",
      "\u001b[34m\u001b[1mtrain: \u001b[0mWARNING ⚠️ /teamspace/studios/this_studio/dataset/train/images/1-254-_jpg.rf.e853e3bef995d42ef75af97b4f33b312.jpg: ignoring corrupt image/label: non-normalized or out of bounds coordinates [          1]\n",
      "\u001b[34m\u001b[1mtrain: \u001b[0mWARNING ⚠️ /teamspace/studios/this_studio/dataset/train/images/1-26-_jpg.rf.b13187f401e2b10adb9e3cbfc40a9faf.jpg: ignoring corrupt image/label: non-normalized or out of bounds coordinates [      1.128]\n",
      "\u001b[34m\u001b[1mtrain: \u001b[0mWARNING ⚠️ /teamspace/studios/this_studio/dataset/train/images/1-26-_jpg.rf.d2adcccba6abaeb6127dba8c1760bce0.jpg: ignoring corrupt image/label: non-normalized or out of bounds coordinates [      1.036]\n",
      "\u001b[34m\u001b[1mtrain: \u001b[0mWARNING ⚠️ /teamspace/studios/this_studio/dataset/train/images/1-26-_jpg.rf.fa058ba5faf71e3b06c68c8d1539216d.jpg: ignoring corrupt image/label: non-normalized or out of bounds coordinates [     1.1073]\n",
      "\u001b[34m\u001b[1mtrain: \u001b[0mWARNING ⚠️ /teamspace/studios/this_studio/dataset/train/images/1-270-_jpg.rf.105256ff90acdb3386e5a764d954a5e9.jpg: ignoring corrupt image/label: non-normalized or out of bounds coordinates [     1.0081      1.0029]\n",
      "\u001b[34m\u001b[1mtrain: \u001b[0mWARNING ⚠️ /teamspace/studios/this_studio/dataset/train/images/1-270-_jpg.rf.86439d1c3b5ab367fb786076d00313e3.jpg: ignoring corrupt image/label: non-normalized or out of bounds coordinates [     1.0081      1.0029]\n",
      "\u001b[34m\u001b[1mtrain: \u001b[0mWARNING ⚠️ /teamspace/studios/this_studio/dataset/train/images/1-270-_jpg.rf.c991b9eecf730da2f2f23bec439afc7b.jpg: ignoring corrupt image/label: non-normalized or out of bounds coordinates [     1.0055]\n",
      "\u001b[34m\u001b[1mtrain: \u001b[0mWARNING ⚠️ /teamspace/studios/this_studio/dataset/train/images/1-273-_jpg.rf.8da9d2676b6a1cc0bc3a0b95b9a4a33a.jpg: ignoring corrupt image/label: non-normalized or out of bounds coordinates [     1.0009]\n",
      "\u001b[34m\u001b[1mtrain: \u001b[0mWARNING ⚠️ /teamspace/studios/this_studio/dataset/train/images/1-273-_jpg.rf.df27355be937fbec5bd3ed75b3f3722f.jpg: ignoring corrupt image/label: non-normalized or out of bounds coordinates [     1.0009]\n",
      "\u001b[34m\u001b[1mtrain: \u001b[0mWARNING ⚠️ /teamspace/studios/this_studio/dataset/train/images/1-279-_jpg.rf.23dc8bab8795f7cb163d427ce531011e.jpg: ignoring corrupt image/label: non-normalized or out of bounds coordinates [     1.0222]\n",
      "\u001b[34m\u001b[1mtrain: \u001b[0mWARNING ⚠️ /teamspace/studios/this_studio/dataset/train/images/1-279-_jpg.rf.5a8cc233b8bdb2affb8ea4534c8ca0db.jpg: ignoring corrupt image/label: non-normalized or out of bounds coordinates [     1.0094]\n",
      "\u001b[34m\u001b[1mtrain: \u001b[0mWARNING ⚠️ /teamspace/studios/this_studio/dataset/train/images/1-279-_jpg.rf.f8f9831f23e212320a8fc741975a6dda.jpg: ignoring corrupt image/label: non-normalized or out of bounds coordinates [     1.0222]\n",
      "\u001b[34m\u001b[1mtrain: \u001b[0mWARNING ⚠️ /teamspace/studios/this_studio/dataset/train/images/1-285-_jpg.rf.901acf4df4719c87d5334411b716a346.jpg: ignoring corrupt image/label: non-normalized or out of bounds coordinates [     1.0013]\n",
      "\u001b[34m\u001b[1mtrain: \u001b[0mWARNING ⚠️ /teamspace/studios/this_studio/dataset/train/images/1-285-_jpg.rf.95b1edce7962730ec3633d6ddea747e4.jpg: ignoring corrupt image/label: non-normalized or out of bounds coordinates [     1.0013]\n",
      "\u001b[34m\u001b[1mtrain: \u001b[0mWARNING ⚠️ /teamspace/studios/this_studio/dataset/train/images/1-285-_jpg.rf.e1462efff6afc1262b4e7140cce4f34f.jpg: ignoring corrupt image/label: non-normalized or out of bounds coordinates [     1.0041]\n",
      "\u001b[34m\u001b[1mtrain: \u001b[0mWARNING ⚠️ /teamspace/studios/this_studio/dataset/train/images/1-303-_jpg.rf.6667eae57bebfeaa9fcba29acedd51bd.jpg: ignoring corrupt image/label: non-normalized or out of bounds coordinates [     1.0014]\n",
      "\u001b[34m\u001b[1mtrain: \u001b[0mWARNING ⚠️ /teamspace/studios/this_studio/dataset/train/images/1-303-_jpg.rf.6e8390cb084168134824e04e20f01d84.jpg: ignoring corrupt image/label: non-normalized or out of bounds coordinates [     1.0031]\n",
      "\u001b[34m\u001b[1mtrain: \u001b[0mWARNING ⚠️ /teamspace/studios/this_studio/dataset/train/images/1-303-_jpg.rf.9c4a726c0e6b611a7dcce2e8e63cef5a.jpg: ignoring corrupt image/label: non-normalized or out of bounds coordinates [     1.0014]\n",
      "\u001b[34m\u001b[1mtrain: \u001b[0mWARNING ⚠️ /teamspace/studios/this_studio/dataset/train/images/1-308-_jpg.rf.a5fba18f9246c65f18bc8e6f690f0a43.jpg: ignoring corrupt image/label: non-normalized or out of bounds coordinates [     1.0035]\n",
      "\u001b[34m\u001b[1mtrain: \u001b[0mWARNING ⚠️ /teamspace/studios/this_studio/dataset/train/images/1-308-_jpg.rf.b394f97c4edd029ee040f24c01a6d041.jpg: ignoring corrupt image/label: non-normalized or out of bounds coordinates [     1.0035]\n",
      "\u001b[34m\u001b[1mtrain: \u001b[0mWARNING ⚠️ /teamspace/studios/this_studio/dataset/train/images/1-312-_jpg.rf.d6c5894e72142cf82b9a36d6ebedd678.jpg: ignoring corrupt image/label: non-normalized or out of bounds coordinates [     1.0053]\n",
      "\u001b[34m\u001b[1mtrain: \u001b[0mWARNING ⚠️ /teamspace/studios/this_studio/dataset/train/images/1-322-_jpg.rf.7e81b1d68ea0f2ee5cb7180fd8fae281.jpg: ignoring corrupt image/label: non-normalized or out of bounds coordinates [     1.0002]\n",
      "\u001b[34m\u001b[1mtrain: \u001b[0mWARNING ⚠️ /teamspace/studios/this_studio/dataset/train/images/1-327-_jpg.rf.9534f56a0fefeef64ba3f311a68d5f1b.jpg: ignoring corrupt image/label: non-normalized or out of bounds coordinates [     1.0015]\n",
      "\u001b[34m\u001b[1mtrain: \u001b[0mWARNING ⚠️ /teamspace/studios/this_studio/dataset/train/images/1-327-_jpg.rf.ccafa6391ec897eff65fb9e6f25acde4.jpg: ignoring corrupt image/label: non-normalized or out of bounds coordinates [     1.0015]\n",
      "\u001b[34m\u001b[1mtrain: \u001b[0mWARNING ⚠️ /teamspace/studios/this_studio/dataset/train/images/1-331-_jpg.rf.a64c63480b235daedb3b469654ae32b4.jpg: ignoring corrupt image/label: non-normalized or out of bounds coordinates [     1.1367      1.3005]\n",
      "\u001b[34m\u001b[1mtrain: \u001b[0mWARNING ⚠️ /teamspace/studios/this_studio/dataset/train/images/1-352-_jpg.rf.473dc481635f2dd9eaca11c94dcf9c61.jpg: ignoring corrupt image/label: non-normalized or out of bounds coordinates [     1.0059]\n",
      "\u001b[34m\u001b[1mtrain: \u001b[0mWARNING ⚠️ /teamspace/studios/this_studio/dataset/train/images/1-352-_jpg.rf.685c60e57a8b659168b110b2b39581e3.jpg: ignoring corrupt image/label: non-normalized or out of bounds coordinates [     1.0013]\n",
      "\u001b[34m\u001b[1mtrain: \u001b[0mWARNING ⚠️ /teamspace/studios/this_studio/dataset/train/images/1-358-_jpg.rf.8fbaacd0e82e5986e9593c875b2133be.jpg: ignoring corrupt image/label: non-normalized or out of bounds coordinates [     1.0056]\n",
      "\u001b[34m\u001b[1mtrain: \u001b[0mWARNING ⚠️ /teamspace/studios/this_studio/dataset/train/images/1-358-_jpg.rf.9917ecca44b3b104d007ac7af832e52f.jpg: ignoring corrupt image/label: non-normalized or out of bounds coordinates [     1.0056]\n",
      "\u001b[34m\u001b[1mtrain: \u001b[0mWARNING ⚠️ /teamspace/studios/this_studio/dataset/train/images/1-361-_jpg.rf.c83f4e7c60deebfaea72d9eb9b808e18.jpg: ignoring corrupt image/label: non-normalized or out of bounds coordinates [      1.002]\n",
      "\u001b[34m\u001b[1mtrain: \u001b[0mWARNING ⚠️ /teamspace/studios/this_studio/dataset/train/images/1-374-_jpg.rf.796da2bdba5e440fb6c45d77bbe40252.jpg: ignoring corrupt image/label: non-normalized or out of bounds coordinates [     1.1552]\n",
      "\u001b[34m\u001b[1mtrain: \u001b[0mWARNING ⚠️ /teamspace/studios/this_studio/dataset/train/images/1-374-_jpg.rf.cb6313375cffdb6da1e30ec316c380c1.jpg: ignoring corrupt image/label: non-normalized or out of bounds coordinates [     1.3943]\n",
      "\u001b[34m\u001b[1mtrain: \u001b[0mWARNING ⚠️ /teamspace/studios/this_studio/dataset/train/images/1-378-_jpg.rf.2163067320dcac6f224801a0190f2ba1.jpg: ignoring corrupt image/label: non-normalized or out of bounds coordinates [     1.3623]\n",
      "\u001b[34m\u001b[1mtrain: \u001b[0mWARNING ⚠️ /teamspace/studios/this_studio/dataset/train/images/1-378-_jpg.rf.62e8e3dc17200aa89f0e3002f5b2f3b3.jpg: ignoring corrupt image/label: non-normalized or out of bounds coordinates [     1.2052      1.1108]\n",
      "\u001b[34m\u001b[1mtrain: \u001b[0mWARNING ⚠️ /teamspace/studios/this_studio/dataset/train/images/1-378-_jpg.rf.f85ee6cde49184cbbe8719e6d5b94854.jpg: ignoring corrupt image/label: non-normalized or out of bounds coordinates [     1.2052      1.1108]\n",
      "\u001b[34m\u001b[1mtrain: \u001b[0mWARNING ⚠️ /teamspace/studios/this_studio/dataset/train/images/1-379-_jpg.rf.653306be5e00d3506349184505ae9f44.jpg: ignoring corrupt image/label: non-normalized or out of bounds coordinates [     1.0219]\n",
      "\u001b[34m\u001b[1mtrain: \u001b[0mWARNING ⚠️ /teamspace/studios/this_studio/dataset/train/images/1-379-_jpg.rf.eba90edb61afafac175753633cc82f2a.jpg: ignoring corrupt image/label: non-normalized or out of bounds coordinates [     1.0219]\n",
      "\u001b[34m\u001b[1mtrain: \u001b[0mWARNING ⚠️ /teamspace/studios/this_studio/dataset/train/images/1-382-_jpg.rf.0694edb262cf23efecbcd0f0365a4242.jpg: ignoring corrupt image/label: non-normalized or out of bounds coordinates [     1.0049]\n",
      "\u001b[34m\u001b[1mtrain: \u001b[0mWARNING ⚠️ /teamspace/studios/this_studio/dataset/train/images/1-382-_jpg.rf.2089e3e7edb2a29e9a596c556180d7ab.jpg: ignoring corrupt image/label: non-normalized or out of bounds coordinates [     1.0035]\n",
      "\u001b[34m\u001b[1mtrain: \u001b[0mWARNING ⚠️ /teamspace/studios/this_studio/dataset/train/images/1-388-_jpg.rf.23ed517967d63016536d0e6cc4414306.jpg: ignoring corrupt image/label: non-normalized or out of bounds coordinates [     1.0026]\n",
      "\u001b[34m\u001b[1mtrain: \u001b[0mWARNING ⚠️ /teamspace/studios/this_studio/dataset/train/images/1-388-_jpg.rf.ab358a8a60d4d5a9a2692861a767b0e9.jpg: ignoring corrupt image/label: non-normalized or out of bounds coordinates [     1.0001]\n",
      "\u001b[34m\u001b[1mtrain: \u001b[0mWARNING ⚠️ /teamspace/studios/this_studio/dataset/train/images/1-389-_jpg.rf.b616d6f91eb1e6e0aed41c4d1be1fabc.jpg: ignoring corrupt image/label: non-normalized or out of bounds coordinates [     1.0333      1.3778]\n",
      "\u001b[34m\u001b[1mtrain: \u001b[0mWARNING ⚠️ /teamspace/studios/this_studio/dataset/train/images/1-389-_jpg.rf.cb6bec2a2f8eaaf7007e3d63aaf6200b.jpg: ignoring corrupt image/label: non-normalized or out of bounds coordinates [     1.0147]\n",
      "\u001b[34m\u001b[1mtrain: \u001b[0mWARNING ⚠️ /teamspace/studios/this_studio/dataset/train/images/1-392-_jpg.rf.73e9386ce180a58f6daf29d45b366757.jpg: ignoring corrupt image/label: non-normalized or out of bounds coordinates [      1.002]\n",
      "\u001b[34m\u001b[1mtrain: \u001b[0mWARNING ⚠️ /teamspace/studios/this_studio/dataset/train/images/1-394-_jpg.rf.16876481e0576b6213d8e5d99c5ed675.jpg: ignoring corrupt image/label: non-normalized or out of bounds coordinates [          1      1.0051]\n",
      "\u001b[34m\u001b[1mtrain: \u001b[0mWARNING ⚠️ /teamspace/studios/this_studio/dataset/train/images/1-394-_jpg.rf.6d21a70747a24ab3be1011cdd27b700a.jpg: ignoring corrupt image/label: non-normalized or out of bounds coordinates [          1      1.0051]\n",
      "\u001b[34m\u001b[1mtrain: \u001b[0mWARNING ⚠️ /teamspace/studios/this_studio/dataset/train/images/1-395-_jpg.rf.4ed13eb3e0a0fefdd41bc1bb9bb95eb9.jpg: ignoring corrupt image/label: non-normalized or out of bounds coordinates [     1.0062]\n",
      "\u001b[34m\u001b[1mtrain: \u001b[0mWARNING ⚠️ /teamspace/studios/this_studio/dataset/train/images/1-395-_jpg.rf.e54defe39ad23b82268169fa27278fdb.jpg: ignoring corrupt image/label: non-normalized or out of bounds coordinates [     1.0062]\n",
      "\u001b[34m\u001b[1mtrain: \u001b[0mWARNING ⚠️ /teamspace/studios/this_studio/dataset/train/images/1-396-_jpg.rf.b367fc221b9df56f26c673a981c29d9e.jpg: ignoring corrupt image/label: non-normalized or out of bounds coordinates [     1.0694]\n",
      "\u001b[34m\u001b[1mtrain: \u001b[0mWARNING ⚠️ /teamspace/studios/this_studio/dataset/train/images/1-408-_jpg.rf.57bcf73116f62358ddf34b2ef5844541.jpg: ignoring corrupt image/label: non-normalized or out of bounds coordinates [     1.0218]\n",
      "\u001b[34m\u001b[1mtrain: \u001b[0mWARNING ⚠️ /teamspace/studios/this_studio/dataset/train/images/1-411-_jpg.rf.65763dca85c3d2a8bbc2fc27c370654e.jpg: ignoring corrupt image/label: non-normalized or out of bounds coordinates [     1.0009]\n",
      "\u001b[34m\u001b[1mtrain: \u001b[0mWARNING ⚠️ /teamspace/studios/this_studio/dataset/train/images/1-411-_jpg.rf.71831f9117cb49de5842895dc5ed9872.jpg: ignoring corrupt image/label: non-normalized or out of bounds coordinates [     1.0009]\n",
      "\u001b[34m\u001b[1mtrain: \u001b[0mWARNING ⚠️ /teamspace/studios/this_studio/dataset/train/images/1-414-_jpg.rf.81df852a19ea60819d49758a4f8b249f.jpg: ignoring corrupt image/label: non-normalized or out of bounds coordinates [      1.092]\n",
      "\u001b[34m\u001b[1mtrain: \u001b[0mWARNING ⚠️ /teamspace/studios/this_studio/dataset/train/images/1-414-_jpg.rf.91611ff0b07bac4c47156c350c414da6.jpg: ignoring corrupt image/label: non-normalized or out of bounds coordinates [      1.092]\n",
      "\u001b[34m\u001b[1mtrain: \u001b[0mWARNING ⚠️ /teamspace/studios/this_studio/dataset/train/images/1-419-_jpg.rf.38318e029e63ed005cebbea5ede0dee5.jpg: ignoring corrupt image/label: non-normalized or out of bounds coordinates [     1.1753]\n",
      "\u001b[34m\u001b[1mtrain: \u001b[0mWARNING ⚠️ /teamspace/studios/this_studio/dataset/train/images/1-419-_jpg.rf.abce3d7da545f4679f66d5f470d5225c.jpg: ignoring corrupt image/label: non-normalized or out of bounds coordinates [     1.1551]\n",
      "\u001b[34m\u001b[1mtrain: \u001b[0mWARNING ⚠️ /teamspace/studios/this_studio/dataset/train/images/1-419-_jpg.rf.d81960ad8aadc576eb55a633220fddef.jpg: ignoring corrupt image/label: non-normalized or out of bounds coordinates [     1.1753]\n",
      "\u001b[34m\u001b[1mtrain: \u001b[0mWARNING ⚠️ /teamspace/studios/this_studio/dataset/train/images/1-421-_jpg.rf.90e8893e860bdefdb87fa5cf63a00606.jpg: ignoring corrupt image/label: non-normalized or out of bounds coordinates [          1]\n",
      "\u001b[34m\u001b[1mtrain: \u001b[0mWARNING ⚠️ /teamspace/studios/this_studio/dataset/train/images/1-421-_jpg.rf.df1e832997548bfb5e58f1d686500736.jpg: ignoring corrupt image/label: non-normalized or out of bounds coordinates [          1]\n",
      "\u001b[34m\u001b[1mtrain: \u001b[0mWARNING ⚠️ /teamspace/studios/this_studio/dataset/train/images/1-428-_jpg.rf.7899defb022ac7826a32dd1872c97cca.jpg: ignoring corrupt image/label: non-normalized or out of bounds coordinates [     1.2994]\n",
      "\u001b[34m\u001b[1mtrain: \u001b[0mWARNING ⚠️ /teamspace/studios/this_studio/dataset/train/images/1-428-_jpg.rf.d3654bb8400a2ed27293670515d11fbd.jpg: ignoring corrupt image/label: non-normalized or out of bounds coordinates [     1.2994]\n",
      "\u001b[34m\u001b[1mtrain: \u001b[0mWARNING ⚠️ /teamspace/studios/this_studio/dataset/train/images/1-431-_jpg.rf.73f327a1e1dffa9b7546964013d74336.jpg: ignoring corrupt image/label: non-normalized or out of bounds coordinates [     1.1553]\n",
      "\u001b[34m\u001b[1mtrain: \u001b[0mWARNING ⚠️ /teamspace/studios/this_studio/dataset/train/images/1-431-_jpg.rf.bbe78ab4b9735f54b0c3d577102a44f0.jpg: ignoring corrupt image/label: non-normalized or out of bounds coordinates [     1.0102]\n",
      "\u001b[34m\u001b[1mtrain: \u001b[0mWARNING ⚠️ /teamspace/studios/this_studio/dataset/train/images/1-431-_jpg.rf.fde0fdf9828d143be5e20c18a43ef529.jpg: ignoring corrupt image/label: non-normalized or out of bounds coordinates [     1.0102]\n",
      "\u001b[34m\u001b[1mtrain: \u001b[0mWARNING ⚠️ /teamspace/studios/this_studio/dataset/train/images/1-433-_jpg.rf.33260a8541efa64a868faf7e4b55c385.jpg: ignoring corrupt image/label: non-normalized or out of bounds coordinates [     1.0457]\n",
      "\u001b[34m\u001b[1mtrain: \u001b[0mWARNING ⚠️ /teamspace/studios/this_studio/dataset/train/images/1-433-_jpg.rf.36e6e4a64d357251bb7473d3dcb39000.jpg: ignoring corrupt image/label: non-normalized or out of bounds coordinates [     1.0457]\n",
      "\u001b[34m\u001b[1mtrain: \u001b[0mWARNING ⚠️ /teamspace/studios/this_studio/dataset/train/images/1-433-_jpg.rf.6de9daf7fcc68a46d05d06a2411f8b81.jpg: ignoring corrupt image/label: non-normalized or out of bounds coordinates [     1.1132      1.0033]\n",
      "\u001b[34m\u001b[1mtrain: \u001b[0mWARNING ⚠️ /teamspace/studios/this_studio/dataset/train/images/1-434-_jpg.rf.f9446090fa499193d8fc1ee7fbcd09ec.jpg: ignoring corrupt image/label: non-normalized or out of bounds coordinates [     1.0357]\n",
      "\u001b[34m\u001b[1mtrain: \u001b[0mWARNING ⚠️ /teamspace/studios/this_studio/dataset/train/images/1-440-_jpg.rf.12e44eee56fc13929cbddf8425beecc6.jpg: ignoring corrupt image/label: non-normalized or out of bounds coordinates [     1.1738]\n",
      "\u001b[34m\u001b[1mtrain: \u001b[0mWARNING ⚠️ /teamspace/studios/this_studio/dataset/train/images/1-440-_jpg.rf.19f8ccb446fdc4263e0931cdd902e4c1.jpg: ignoring corrupt image/label: non-normalized or out of bounds coordinates [     1.0556]\n",
      "\u001b[34m\u001b[1mtrain: \u001b[0mWARNING ⚠️ /teamspace/studios/this_studio/dataset/train/images/1-440-_jpg.rf.748ad61a61e05f8a6ca7441b7c12c776.jpg: ignoring corrupt image/label: non-normalized or out of bounds coordinates [     1.0556]\n",
      "\u001b[34m\u001b[1mtrain: \u001b[0mWARNING ⚠️ /teamspace/studios/this_studio/dataset/train/images/1-442-_jpg.rf.988467354c174de4ba6018f8d08894e3.jpg: ignoring corrupt image/label: non-normalized or out of bounds coordinates [     1.0437      1.4098]\n",
      "\u001b[34m\u001b[1mtrain: \u001b[0mWARNING ⚠️ /teamspace/studios/this_studio/dataset/train/images/1-442-_jpg.rf.c065d97b96d87160690b293190401dcc.jpg: ignoring corrupt image/label: non-normalized or out of bounds coordinates [     1.0437      1.4098]\n",
      "\u001b[34m\u001b[1mtrain: \u001b[0mWARNING ⚠️ /teamspace/studios/this_studio/dataset/train/images/1-443-_jpg.rf.b5a3bbc804e63c45c13bfa462f49d2e5.jpg: ignoring corrupt image/label: non-normalized or out of bounds coordinates [     1.2714]\n",
      "\u001b[34m\u001b[1mtrain: \u001b[0mWARNING ⚠️ /teamspace/studios/this_studio/dataset/train/images/1-443-_jpg.rf.b7a0673a05d1afecb409a0044e5dbdd8.jpg: ignoring corrupt image/label: non-normalized or out of bounds coordinates [     1.2714]\n",
      "\u001b[34m\u001b[1mtrain: \u001b[0mWARNING ⚠️ /teamspace/studios/this_studio/dataset/train/images/1-447-_jpg.rf.2e3b5ba3e0f8e3c0106dfacba027b724.jpg: ignoring corrupt image/label: non-normalized or out of bounds coordinates [     1.0007]\n",
      "\u001b[34m\u001b[1mtrain: \u001b[0mWARNING ⚠️ /teamspace/studios/this_studio/dataset/train/images/1-450-_jpg.rf.6b21c1082d59a475903ad84baee7fe70.jpg: ignoring corrupt image/label: non-normalized or out of bounds coordinates [     1.1801]\n",
      "\u001b[34m\u001b[1mtrain: \u001b[0mWARNING ⚠️ /teamspace/studios/this_studio/dataset/train/images/1-451-_jpg.rf.52087f8ffb13d8addb5bfd925fcaa50c.jpg: ignoring corrupt image/label: non-normalized or out of bounds coordinates [     1.2283]\n",
      "\u001b[34m\u001b[1mtrain: \u001b[0mWARNING ⚠️ /teamspace/studios/this_studio/dataset/train/images/1-451-_jpg.rf.bb7eea6f21ba3dd308173834dbd5a2ab.jpg: ignoring corrupt image/label: non-normalized or out of bounds coordinates [     1.2283]\n",
      "\u001b[34m\u001b[1mtrain: \u001b[0mWARNING ⚠️ /teamspace/studios/this_studio/dataset/train/images/1-453-_jpg.rf.b195935856020ddf40d19ab988e26518.jpg: ignoring corrupt image/label: non-normalized or out of bounds coordinates [     1.0036]\n",
      "\u001b[34m\u001b[1mtrain: \u001b[0mWARNING ⚠️ /teamspace/studios/this_studio/dataset/train/images/1-454-_jpg.rf.6fa5f4060ed5440798d1518729a07215.jpg: ignoring corrupt image/label: non-normalized or out of bounds coordinates [     1.0258      1.1201]\n",
      "\u001b[34m\u001b[1mtrain: \u001b[0mWARNING ⚠️ /teamspace/studios/this_studio/dataset/train/images/1-454-_jpg.rf.a6986a1f2011f5948290e453c16d25cb.jpg: ignoring corrupt image/label: non-normalized or out of bounds coordinates [     1.0258      1.1201]\n",
      "\u001b[34m\u001b[1mtrain: \u001b[0mWARNING ⚠️ /teamspace/studios/this_studio/dataset/train/images/1-455-_jpg.rf.4a9457a0bb69ea93d2114a0e2979ad4e.jpg: ignoring corrupt image/label: non-normalized or out of bounds coordinates [     1.0498]\n",
      "\u001b[34m\u001b[1mtrain: \u001b[0mWARNING ⚠️ /teamspace/studios/this_studio/dataset/train/images/1-462-_jpg.rf.8abc3e932307efc946f5e0700d85e329.jpg: ignoring corrupt image/label: non-normalized or out of bounds coordinates [     1.0355      1.0081]\n",
      "\u001b[34m\u001b[1mtrain: \u001b[0mWARNING ⚠️ /teamspace/studios/this_studio/dataset/train/images/1-465-_jpg.rf.32311caa6c5663310554b08dc4472b75.jpg: ignoring corrupt image/label: non-normalized or out of bounds coordinates [     1.0033]\n",
      "\u001b[34m\u001b[1mtrain: \u001b[0mWARNING ⚠️ /teamspace/studios/this_studio/dataset/train/images/1-465-_jpg.rf.60db6286952762bd4978ac5b3f2f2c0b.jpg: ignoring corrupt image/label: non-normalized or out of bounds coordinates [     1.0008]\n",
      "\u001b[34m\u001b[1mtrain: \u001b[0mWARNING ⚠️ /teamspace/studios/this_studio/dataset/train/images/1-465-_jpg.rf.fc5ed67f43f70cf84c130a2a8e70b540.jpg: ignoring corrupt image/label: non-normalized or out of bounds coordinates [     1.0008]\n",
      "\u001b[34m\u001b[1mtrain: \u001b[0mWARNING ⚠️ /teamspace/studios/this_studio/dataset/train/images/1-469-_jpg.rf.c50f782a56dca2b4de244648b15c77e7.jpg: ignoring corrupt image/label: non-normalized or out of bounds coordinates [     1.0078]\n",
      "\u001b[34m\u001b[1mtrain: \u001b[0mWARNING ⚠️ /teamspace/studios/this_studio/dataset/train/images/1-472-_jpg.rf.0e90951d251d7773b32573f0881f09bc.jpg: ignoring corrupt image/label: non-normalized or out of bounds coordinates [     1.0017]\n",
      "\u001b[34m\u001b[1mtrain: \u001b[0mWARNING ⚠️ /teamspace/studios/this_studio/dataset/train/images/1-472-_jpg.rf.58783aa4bb1680c3bfab718bf10a69c5.jpg: ignoring corrupt image/label: non-normalized or out of bounds coordinates [     1.0017]\n",
      "\u001b[34m\u001b[1mtrain: \u001b[0mWARNING ⚠️ /teamspace/studios/this_studio/dataset/train/images/1-476-_jpg.rf.6adbca3c15f6f3132172f5dc434d5e99.jpg: ignoring corrupt image/label: non-normalized or out of bounds coordinates [     1.2336]\n",
      "\u001b[34m\u001b[1mtrain: \u001b[0mWARNING ⚠️ /teamspace/studios/this_studio/dataset/train/images/1-478-_jpg.rf.9ccc9d0144994670a92be7f21205e13c.jpg: ignoring corrupt image/label: non-normalized or out of bounds coordinates [     1.0462]\n",
      "\u001b[34m\u001b[1mtrain: \u001b[0mWARNING ⚠️ /teamspace/studios/this_studio/dataset/train/images/1-480-_jpg.rf.29bda792736198ea26a2f1934059010f.jpg: ignoring corrupt image/label: non-normalized or out of bounds coordinates [          1      1.0015]\n",
      "\u001b[34m\u001b[1mtrain: \u001b[0mWARNING ⚠️ /teamspace/studios/this_studio/dataset/train/images/1-480-_jpg.rf.542039e095d906b0b63319f477e90b59.jpg: ignoring corrupt image/label: non-normalized or out of bounds coordinates [          1      1.0015]\n",
      "\u001b[34m\u001b[1mtrain: \u001b[0mWARNING ⚠️ /teamspace/studios/this_studio/dataset/train/images/1-481-_jpg.rf.052d16c52ab1358ce9264382adbbd102.jpg: ignoring corrupt image/label: non-normalized or out of bounds coordinates [     1.0004      1.0007]\n",
      "\u001b[34m\u001b[1mtrain: \u001b[0mWARNING ⚠️ /teamspace/studios/this_studio/dataset/train/images/1-481-_jpg.rf.559b76c38681556003d0e8500a33f3a4.jpg: ignoring corrupt image/label: non-normalized or out of bounds coordinates [     1.0004      1.0007]\n",
      "\u001b[34m\u001b[1mtrain: \u001b[0mWARNING ⚠️ /teamspace/studios/this_studio/dataset/train/images/1-482-_jpg.rf.05d327a4417ffdc379ce033e28f3997f.jpg: ignoring corrupt image/label: non-normalized or out of bounds coordinates [     1.1727]\n",
      "\u001b[34m\u001b[1mtrain: \u001b[0mWARNING ⚠️ /teamspace/studios/this_studio/dataset/train/images/1-482-_jpg.rf.2795c95f6648290f4173fa492a6107aa.jpg: ignoring corrupt image/label: non-normalized or out of bounds coordinates [     1.0962]\n",
      "\u001b[34m\u001b[1mtrain: \u001b[0mWARNING ⚠️ /teamspace/studios/this_studio/dataset/train/images/1-482-_jpg.rf.39f95f2eab563c4308e91bcd215200ea.jpg: ignoring corrupt image/label: non-normalized or out of bounds coordinates [     1.0962]\n",
      "\u001b[34m\u001b[1mtrain: \u001b[0mWARNING ⚠️ /teamspace/studios/this_studio/dataset/train/images/1-484-_jpg.rf.dbf35e55ac5d727e325ef3ab4c14d619.jpg: ignoring corrupt image/label: non-normalized or out of bounds coordinates [     1.0379      1.0759]\n",
      "\u001b[34m\u001b[1mtrain: \u001b[0mWARNING ⚠️ /teamspace/studios/this_studio/dataset/train/images/1-490-_jpg.rf.5957d03dab5a19482d08d3629e5d35b5.jpg: ignoring corrupt image/label: non-normalized or out of bounds coordinates [          1]\n",
      "\u001b[34m\u001b[1mtrain: \u001b[0mWARNING ⚠️ /teamspace/studios/this_studio/dataset/train/images/1-490-_jpg.rf.d4bafd858c07696fde6602d601a288b1.jpg: ignoring corrupt image/label: non-normalized or out of bounds coordinates [          1]\n",
      "\u001b[34m\u001b[1mtrain: \u001b[0mWARNING ⚠️ /teamspace/studios/this_studio/dataset/train/images/1-491-_jpg.rf.0e6413e6f3e68001b89a305a9301eadd.jpg: ignoring corrupt image/label: non-normalized or out of bounds coordinates [          1      1.0026]\n",
      "\u001b[34m\u001b[1mtrain: \u001b[0mWARNING ⚠️ /teamspace/studios/this_studio/dataset/train/images/1-491-_jpg.rf.108cc388bf949712db98f67d4d781ff9.jpg: ignoring corrupt image/label: non-normalized or out of bounds coordinates [          1      1.0026]\n",
      "\u001b[34m\u001b[1mtrain: \u001b[0mWARNING ⚠️ /teamspace/studios/this_studio/dataset/train/images/1-493-_jpg.rf.895c1a7527255fad130b534dd485d8fd.jpg: ignoring corrupt image/label: non-normalized or out of bounds coordinates [     1.0033]\n",
      "\u001b[34m\u001b[1mtrain: \u001b[0mWARNING ⚠️ /teamspace/studios/this_studio/dataset/train/images/1-493-_jpg.rf.fc908fdbcd1e34e74806988a8fa19e49.jpg: ignoring corrupt image/label: non-normalized or out of bounds coordinates [          1]\n",
      "\u001b[34m\u001b[1mtrain: \u001b[0mWARNING ⚠️ /teamspace/studios/this_studio/dataset/train/images/1-494-_jpg.rf.165f3981f21d423299a5af36c123a6d6.jpg: ignoring corrupt image/label: non-normalized or out of bounds coordinates [     1.0996]\n",
      "\u001b[34m\u001b[1mtrain: \u001b[0mWARNING ⚠️ /teamspace/studios/this_studio/dataset/train/images/1-494-_jpg.rf.1f159099cdb4c00586e75f336a2fa7e3.jpg: ignoring corrupt image/label: non-normalized or out of bounds coordinates [     1.0935]\n",
      "\u001b[34m\u001b[1mtrain: \u001b[0mWARNING ⚠️ /teamspace/studios/this_studio/dataset/train/images/1-494-_jpg.rf.5f026d625bf9bc132d0be70d6e2f8b1c.jpg: ignoring corrupt image/label: non-normalized or out of bounds coordinates [     1.0935]\n",
      "\u001b[34m\u001b[1mtrain: \u001b[0mWARNING ⚠️ /teamspace/studios/this_studio/dataset/train/images/1-504-_jpg.rf.cd4e3abda769caeb9558d41ff99f88ac.jpg: ignoring corrupt image/label: non-normalized or out of bounds coordinates [     1.0015]\n",
      "\u001b[34m\u001b[1mtrain: \u001b[0mWARNING ⚠️ /teamspace/studios/this_studio/dataset/train/images/1-505-_jpg.rf.0e404d72e7a4bc18faeb9d0a3d1755f3.jpg: ignoring corrupt image/label: non-normalized or out of bounds coordinates [     1.0097]\n",
      "\u001b[34m\u001b[1mtrain: \u001b[0mWARNING ⚠️ /teamspace/studios/this_studio/dataset/train/images/1-505-_jpg.rf.ec827ad54575ed58e3e51dd11ff3ccb0.jpg: ignoring corrupt image/label: non-normalized or out of bounds coordinates [     1.0097]\n",
      "\u001b[34m\u001b[1mtrain: \u001b[0mWARNING ⚠️ /teamspace/studios/this_studio/dataset/train/images/1-508-_jpg.rf.45ef7afdb998a6b9e1c504717fdd611f.jpg: ignoring corrupt image/label: non-normalized or out of bounds coordinates [     1.0027]\n",
      "\u001b[34m\u001b[1mtrain: \u001b[0mWARNING ⚠️ /teamspace/studios/this_studio/dataset/train/images/1-519-_jpg.rf.982a385874ddd8268d354316ef666015.jpg: ignoring corrupt image/label: non-normalized or out of bounds coordinates [     1.0024      1.0007]\n",
      "\u001b[34m\u001b[1mtrain: \u001b[0mWARNING ⚠️ /teamspace/studios/this_studio/dataset/train/images/1-525-_jpg.rf.782e2b0cee554e7a37045a5bef14fcee.jpg: ignoring corrupt image/label: non-normalized or out of bounds coordinates [     1.0088      1.0016]\n",
      "\u001b[34m\u001b[1mtrain: \u001b[0mWARNING ⚠️ /teamspace/studios/this_studio/dataset/train/images/1-525-_jpg.rf.9e43916a4cde14784f3ee9dfb9e40ad4.jpg: ignoring corrupt image/label: non-normalized or out of bounds coordinates [     1.0226]\n",
      "\u001b[34m\u001b[1mtrain: \u001b[0mWARNING ⚠️ /teamspace/studios/this_studio/dataset/train/images/1-525-_jpg.rf.d8123cdc5047f5c7547356666f5a8730.jpg: ignoring corrupt image/label: non-normalized or out of bounds coordinates [     1.0006]\n",
      "\u001b[34m\u001b[1mtrain: \u001b[0mWARNING ⚠️ /teamspace/studios/this_studio/dataset/train/images/1-531-_jpg.rf.977dc8313cd0a1742c2f9c57300067df.jpg: ignoring corrupt image/label: non-normalized or out of bounds coordinates [     1.0002]\n",
      "\u001b[34m\u001b[1mtrain: \u001b[0mWARNING ⚠️ /teamspace/studios/this_studio/dataset/train/images/1-531-_jpg.rf.e85cd2168c69e40ff52bd0dfbf42e0e3.jpg: ignoring corrupt image/label: non-normalized or out of bounds coordinates [     1.0028]\n",
      "\u001b[34m\u001b[1mtrain: \u001b[0mWARNING ⚠️ /teamspace/studios/this_studio/dataset/train/images/1-532-_jpg.rf.66d0eeb54f5452ed8cb71bd5807d1086.jpg: ignoring corrupt image/label: non-normalized or out of bounds coordinates [     1.0004]\n",
      "\u001b[34m\u001b[1mtrain: \u001b[0mWARNING ⚠️ /teamspace/studios/this_studio/dataset/train/images/1-532-_jpg.rf.93085495b5f1a4cbc5f52a2eb0dd6397.jpg: ignoring corrupt image/label: non-normalized or out of bounds coordinates [     1.0004]\n",
      "\u001b[34m\u001b[1mtrain: \u001b[0mWARNING ⚠️ /teamspace/studios/this_studio/dataset/train/images/1-540-_jpg.rf.86fbcb6a6ab7134e57e96a71da713182.jpg: ignoring corrupt image/label: non-normalized or out of bounds coordinates [          1]\n",
      "\u001b[34m\u001b[1mtrain: \u001b[0mWARNING ⚠️ /teamspace/studios/this_studio/dataset/train/images/1-551-_jpg.rf.8f14d3517e17cba772eb0f7d3c697a40.jpg: ignoring corrupt image/label: non-normalized or out of bounds coordinates [     1.0026]\n",
      "\u001b[34m\u001b[1mtrain: \u001b[0mWARNING ⚠️ /teamspace/studios/this_studio/dataset/train/images/1-558-_jpg.rf.ed00bbb7ecbeb79b49408d76ebfa154b.jpg: ignoring corrupt image/label: non-normalized or out of bounds coordinates [     1.1842      1.0695]\n",
      "\u001b[34m\u001b[1mtrain: \u001b[0mWARNING ⚠️ /teamspace/studios/this_studio/dataset/train/images/1-561-_jpg.rf.1de302a1317fc10b3697cd008b9330e7.jpg: ignoring corrupt image/label: non-normalized or out of bounds coordinates [     1.0009           1]\n",
      "\u001b[34m\u001b[1mtrain: \u001b[0mWARNING ⚠️ /teamspace/studios/this_studio/dataset/train/images/1-561-_jpg.rf.c7382d94533f49309a57874959573e26.jpg: ignoring corrupt image/label: non-normalized or out of bounds coordinates [     1.0009           1]\n",
      "\u001b[34m\u001b[1mtrain: \u001b[0mWARNING ⚠️ /teamspace/studios/this_studio/dataset/train/images/1-567-_jpg.rf.0d542b076bd562c303a90ea471a0ec34.jpg: ignoring corrupt image/label: non-normalized or out of bounds coordinates [     1.0872]\n",
      "\u001b[34m\u001b[1mtrain: \u001b[0mWARNING ⚠️ /teamspace/studios/this_studio/dataset/train/images/1-567-_jpg.rf.5b31c672d7fa0b4d5f73cba5d70e972b.jpg: ignoring corrupt image/label: non-normalized or out of bounds coordinates [     1.1676]\n",
      "\u001b[34m\u001b[1mtrain: \u001b[0mWARNING ⚠️ /teamspace/studios/this_studio/dataset/train/images/1-567-_jpg.rf.614355a9f48e5cd18377e7ef3d7ae87a.jpg: ignoring corrupt image/label: non-normalized or out of bounds coordinates [     1.0872]\n",
      "\u001b[34m\u001b[1mtrain: \u001b[0mWARNING ⚠️ /teamspace/studios/this_studio/dataset/train/images/1-569-_jpg.rf.1ee083a8719f4319075ec04e889a59e2.jpg: ignoring corrupt image/label: non-normalized or out of bounds coordinates [      1.025]\n",
      "\u001b[34m\u001b[1mtrain: \u001b[0mWARNING ⚠️ /teamspace/studios/this_studio/dataset/train/images/1-569-_jpg.rf.55a893717200604353daa4560623ebc3.jpg: ignoring corrupt image/label: non-normalized or out of bounds coordinates [     1.0173]\n",
      "\u001b[34m\u001b[1mtrain: \u001b[0mWARNING ⚠️ /teamspace/studios/this_studio/dataset/train/images/1-570-_jpg.rf.8c157457a3c2c69335abe102b2d47adf.jpg: ignoring corrupt image/label: non-normalized or out of bounds coordinates [     1.1287]\n",
      "\u001b[34m\u001b[1mtrain: \u001b[0mWARNING ⚠️ /teamspace/studios/this_studio/dataset/train/images/1-570-_jpg.rf.d32d29eef9b68e500239abbfca01d591.jpg: ignoring corrupt image/label: non-normalized or out of bounds coordinates [     1.0827]\n",
      "\u001b[34m\u001b[1mtrain: \u001b[0mWARNING ⚠️ /teamspace/studios/this_studio/dataset/train/images/1-571-_jpg.rf.7769d9d5a1885034dfaca5ca8e394464.jpg: ignoring corrupt image/label: non-normalized or out of bounds coordinates [     1.0021]\n",
      "\u001b[34m\u001b[1mtrain: \u001b[0mWARNING ⚠️ /teamspace/studios/this_studio/dataset/train/images/1-571-_jpg.rf.922c52624e7f8045a91a56a2959925c8.jpg: ignoring corrupt image/label: non-normalized or out of bounds coordinates [     1.0021]\n",
      "\u001b[34m\u001b[1mtrain: \u001b[0mWARNING ⚠️ /teamspace/studios/this_studio/dataset/train/images/1-572-_jpg.rf.15e50674765c4fe7b1a0d6280f3c8b7f.jpg: ignoring corrupt image/label: non-normalized or out of bounds coordinates [     1.1107]\n",
      "\u001b[34m\u001b[1mtrain: \u001b[0mWARNING ⚠️ /teamspace/studios/this_studio/dataset/train/images/1-572-_jpg.rf.63dcf094e0d2d5ef186f0bca73e9914d.jpg: ignoring corrupt image/label: non-normalized or out of bounds coordinates [     1.1107]\n",
      "\u001b[34m\u001b[1mtrain: \u001b[0mWARNING ⚠️ /teamspace/studios/this_studio/dataset/train/images/1-573-_jpg.rf.c61799177642db74ae3aabf05c983923.jpg: ignoring corrupt image/label: non-normalized or out of bounds coordinates [      1.167]\n",
      "\u001b[34m\u001b[1mtrain: \u001b[0mWARNING ⚠️ /teamspace/studios/this_studio/dataset/train/images/1-573-_jpg.rf.f07b0fac0ce3ee8fc35b699dc306eda4.jpg: ignoring corrupt image/label: non-normalized or out of bounds coordinates [     1.0425]\n",
      "\u001b[34m\u001b[1mtrain: \u001b[0mWARNING ⚠️ /teamspace/studios/this_studio/dataset/train/images/1-583-_jpg.rf.29838b68ed12bfd5ed754a773951b29c.jpg: ignoring corrupt image/label: non-normalized or out of bounds coordinates [     1.0504]\n",
      "\u001b[34m\u001b[1mtrain: \u001b[0mWARNING ⚠️ /teamspace/studios/this_studio/dataset/train/images/1-583-_jpg.rf.b1d71dfed4f0ac920e7ca2c701fd4db6.jpg: ignoring corrupt image/label: non-normalized or out of bounds coordinates [     1.0794]\n",
      "\u001b[34m\u001b[1mtrain: \u001b[0mWARNING ⚠️ /teamspace/studios/this_studio/dataset/train/images/1-583-_jpg.rf.ca6e117bccc2730b36a336140b7ab5a3.jpg: ignoring corrupt image/label: non-normalized or out of bounds coordinates [     1.0723]\n",
      "\u001b[34m\u001b[1mtrain: \u001b[0mWARNING ⚠️ /teamspace/studios/this_studio/dataset/train/images/1-592-_jpg.rf.594c2038207c3f46d8222a819affa19a.jpg: ignoring corrupt image/label: non-normalized or out of bounds coordinates [     1.0034]\n",
      "\u001b[34m\u001b[1mtrain: \u001b[0mWARNING ⚠️ /teamspace/studios/this_studio/dataset/train/images/1-592-_jpg.rf.ece918993aad6d4375c4f677271b8d86.jpg: ignoring corrupt image/label: non-normalized or out of bounds coordinates [     1.0034]\n",
      "\u001b[34m\u001b[1mtrain: \u001b[0mWARNING ⚠️ /teamspace/studios/this_studio/dataset/train/images/1-593-_jpg.rf.2453b2c3079bc4e558e1b393ad785256.jpg: 1 duplicate labels removed\n",
      "\u001b[34m\u001b[1mtrain: \u001b[0mWARNING ⚠️ /teamspace/studios/this_studio/dataset/train/images/1-598-_jpg.rf.e1d3fdf22ea77496ddec55c7de453924.jpg: ignoring corrupt image/label: non-normalized or out of bounds coordinates [      1.177]\n",
      "\u001b[34m\u001b[1mtrain: \u001b[0mWARNING ⚠️ /teamspace/studios/this_studio/dataset/train/images/1-598-_jpg.rf.f5d11376dfcf304772fc78e311b681d2.jpg: ignoring corrupt image/label: non-normalized or out of bounds coordinates [      1.177]\n",
      "\u001b[34m\u001b[1mtrain: \u001b[0mWARNING ⚠️ /teamspace/studios/this_studio/dataset/train/images/1-60-_jpg.rf.8eb2dcf903e0a4d789db0b901e30067c.jpg: ignoring corrupt image/label: non-normalized or out of bounds coordinates [     1.0005]\n",
      "\u001b[34m\u001b[1mtrain: \u001b[0mWARNING ⚠️ /teamspace/studios/this_studio/dataset/train/images/1-60-_jpg.rf.f3a72b6450dba665659332d0afdda6db.jpg: ignoring corrupt image/label: non-normalized or out of bounds coordinates [     1.0005]\n",
      "\u001b[34m\u001b[1mtrain: \u001b[0mWARNING ⚠️ /teamspace/studios/this_studio/dataset/train/images/1-602-_jpg.rf.66d93447fc9470ff94f4972d5ff458bd.jpg: ignoring corrupt image/label: non-normalized or out of bounds coordinates [     1.1998]\n",
      "\u001b[34m\u001b[1mtrain: \u001b[0mWARNING ⚠️ /teamspace/studios/this_studio/dataset/train/images/1-602-_jpg.rf.7e800f10817e1bf503dca7f342ec1fc2.jpg: ignoring corrupt image/label: non-normalized or out of bounds coordinates [     1.1755]\n",
      "\u001b[34m\u001b[1mtrain: \u001b[0mWARNING ⚠️ /teamspace/studios/this_studio/dataset/train/images/1-602-_jpg.rf.d6a3fdfffdaef7bdb8cde56bb983b92f.jpg: ignoring corrupt image/label: non-normalized or out of bounds coordinates [     1.0534]\n",
      "\u001b[34m\u001b[1mtrain: \u001b[0mWARNING ⚠️ /teamspace/studios/this_studio/dataset/train/images/1-603-_jpg.rf.7f7332f1cf89aa47f497c763fac3d447.jpg: ignoring corrupt image/label: non-normalized or out of bounds coordinates [     1.0744]\n",
      "\u001b[34m\u001b[1mtrain: \u001b[0mWARNING ⚠️ /teamspace/studios/this_studio/dataset/train/images/1-603-_jpg.rf.fb5f02860e85d9c3a3cf139bd8cca4c7.jpg: ignoring corrupt image/label: non-normalized or out of bounds coordinates [     1.0731]\n",
      "\u001b[34m\u001b[1mtrain: \u001b[0mWARNING ⚠️ /teamspace/studios/this_studio/dataset/train/images/1-607-_jpg.rf.0759222f28eecb5b39d41c04a911e798.jpg: ignoring corrupt image/label: non-normalized or out of bounds coordinates [     1.0462]\n",
      "\u001b[34m\u001b[1mtrain: \u001b[0mWARNING ⚠️ /teamspace/studios/this_studio/dataset/train/images/1-607-_jpg.rf.141c497ccb860a0ff90e3c994a27f7e2.jpg: ignoring corrupt image/label: non-normalized or out of bounds coordinates [     1.0462]\n",
      "\u001b[34m\u001b[1mtrain: \u001b[0mWARNING ⚠️ /teamspace/studios/this_studio/dataset/train/images/1-608-_jpg.rf.84d6a0f00f4ce61ef0a6073ab163209f.jpg: ignoring corrupt image/label: non-normalized or out of bounds coordinates [     1.0004]\n",
      "\u001b[34m\u001b[1mtrain: \u001b[0mWARNING ⚠️ /teamspace/studios/this_studio/dataset/train/images/1-608-_jpg.rf.858f38d5f0a54d5cb0715d96c0223d6c.jpg: ignoring corrupt image/label: non-normalized or out of bounds coordinates [     1.0004]\n",
      "\u001b[34m\u001b[1mtrain: \u001b[0mWARNING ⚠️ /teamspace/studios/this_studio/dataset/train/images/1-612-_jpg.rf.8f761322bbb1bd9f180ddb2f7edf83ce.jpg: ignoring corrupt image/label: non-normalized or out of bounds coordinates [     1.0473]\n",
      "\u001b[34m\u001b[1mtrain: \u001b[0mWARNING ⚠️ /teamspace/studios/this_studio/dataset/train/images/1-612-_jpg.rf.b3eacd1d0a2c9f1cdac14d1fc6a5c25b.jpg: ignoring corrupt image/label: non-normalized or out of bounds coordinates [     1.0473]\n",
      "\u001b[34m\u001b[1mtrain: \u001b[0mWARNING ⚠️ /teamspace/studios/this_studio/dataset/train/images/1-612-_jpg.rf.c52141714185c2bbf80f9504f16b5552.jpg: ignoring corrupt image/label: non-normalized or out of bounds coordinates [     1.0013      1.0023]\n",
      "\u001b[34m\u001b[1mtrain: \u001b[0mWARNING ⚠️ /teamspace/studios/this_studio/dataset/train/images/1-613-_jpg.rf.da585b502204a223fd2e03677ddfeded.jpg: ignoring corrupt image/label: non-normalized or out of bounds coordinates [     1.0241]\n",
      "\u001b[34m\u001b[1mtrain: \u001b[0mWARNING ⚠️ /teamspace/studios/this_studio/dataset/train/images/1-616-_jpg.rf.2132f582de26f2d7b737f5b3b419ad73.jpg: ignoring corrupt image/label: non-normalized or out of bounds coordinates [     1.1174]\n",
      "\u001b[34m\u001b[1mtrain: \u001b[0mWARNING ⚠️ /teamspace/studios/this_studio/dataset/train/images/1-616-_jpg.rf.ed335ac1f0caa8afa24250519f98851b.jpg: ignoring corrupt image/label: non-normalized or out of bounds coordinates [     1.1174]\n",
      "\u001b[34m\u001b[1mtrain: \u001b[0mWARNING ⚠️ /teamspace/studios/this_studio/dataset/train/images/1-632-_jpg.rf.d79a3ba709e4d762278f6a88429010c9.jpg: ignoring corrupt image/label: non-normalized or out of bounds coordinates [      1.001]\n",
      "\u001b[34m\u001b[1mtrain: \u001b[0mWARNING ⚠️ /teamspace/studios/this_studio/dataset/train/images/1-639-_jpg.rf.7f11ecfe18f7d4f7942db5db3de61480.jpg: ignoring corrupt image/label: non-normalized or out of bounds coordinates [     1.0006]\n",
      "\u001b[34m\u001b[1mtrain: \u001b[0mWARNING ⚠️ /teamspace/studios/this_studio/dataset/train/images/1-639-_jpg.rf.948c9f86b3aa95518fd846e38ea8c354.jpg: ignoring corrupt image/label: non-normalized or out of bounds coordinates [     1.0006]\n",
      "\u001b[34m\u001b[1mtrain: \u001b[0mWARNING ⚠️ /teamspace/studios/this_studio/dataset/train/images/1-64-_jpg.rf.0c59d04f2b94da51742393455fc61216.jpg: ignoring corrupt image/label: non-normalized or out of bounds coordinates [     1.0013]\n",
      "\u001b[34m\u001b[1mtrain: \u001b[0mWARNING ⚠️ /teamspace/studios/this_studio/dataset/train/images/1-64-_jpg.rf.0f8564ae9a3e1ffd33450a24f6bbe0e0.jpg: ignoring corrupt image/label: non-normalized or out of bounds coordinates [     1.0013]\n",
      "\u001b[34m\u001b[1mtrain: \u001b[0mWARNING ⚠️ /teamspace/studios/this_studio/dataset/train/images/1-642-_jpg.rf.fb6ec729fad8fa4c94babdc845468541.jpg: ignoring corrupt image/label: non-normalized or out of bounds coordinates [     1.0086]\n",
      "\u001b[34m\u001b[1mtrain: \u001b[0mWARNING ⚠️ /teamspace/studios/this_studio/dataset/train/images/1-644-_jpg.rf.7bfef895d1398230556e424a1846e448.jpg: ignoring corrupt image/label: non-normalized or out of bounds coordinates [     1.2533]\n",
      "\u001b[34m\u001b[1mtrain: \u001b[0mWARNING ⚠️ /teamspace/studios/this_studio/dataset/train/images/1-644-_jpg.rf.bd8539003cfc4ff009d9d4508f80a363.jpg: ignoring corrupt image/label: non-normalized or out of bounds coordinates [     1.2533]\n",
      "\u001b[34m\u001b[1mtrain: \u001b[0mWARNING ⚠️ /teamspace/studios/this_studio/dataset/train/images/1-671-_jpg.rf.7327c5e124dddd6e6785ea09e96f7f84.jpg: ignoring corrupt image/label: non-normalized or out of bounds coordinates [     1.0008]\n",
      "\u001b[34m\u001b[1mtrain: \u001b[0mWARNING ⚠️ /teamspace/studios/this_studio/dataset/train/images/1-671-_jpg.rf.7a511ee674202054a1c4d232e76f0f99.jpg: ignoring corrupt image/label: non-normalized or out of bounds coordinates [     1.0023]\n",
      "\u001b[34m\u001b[1mtrain: \u001b[0mWARNING ⚠️ /teamspace/studios/this_studio/dataset/train/images/1-677-_jpg.rf.7d1fdbbacf987095f51b9963de4b597c.jpg: ignoring corrupt image/label: non-normalized or out of bounds coordinates [     1.1626       1.481]\n",
      "\u001b[34m\u001b[1mtrain: \u001b[0mWARNING ⚠️ /teamspace/studios/this_studio/dataset/train/images/1-677-_jpg.rf.90dff9f446be34f48ecb30e4aeca5af1.jpg: ignoring corrupt image/label: non-normalized or out of bounds coordinates [     1.1626       1.481]\n",
      "\u001b[34m\u001b[1mtrain: \u001b[0mWARNING ⚠️ /teamspace/studios/this_studio/dataset/train/images/1-677-_jpg.rf.d2f8e757bb85dbbdf1df5da07ac4739f.jpg: ignoring corrupt image/label: non-normalized or out of bounds coordinates [     1.0482      1.0835      1.3558]\n",
      "\u001b[34m\u001b[1mtrain: \u001b[0mWARNING ⚠️ /teamspace/studios/this_studio/dataset/train/images/1-688-_jpg.rf.094b953d379f48ec2a787e1a49672655.jpg: ignoring corrupt image/label: non-normalized or out of bounds coordinates [     1.0001]\n",
      "\u001b[34m\u001b[1mtrain: \u001b[0mWARNING ⚠️ /teamspace/studios/this_studio/dataset/train/images/1-688-_jpg.rf.62bd15cb6c9b3225481fc25ecf7b45f3.jpg: ignoring corrupt image/label: non-normalized or out of bounds coordinates [     1.0001]\n",
      "\u001b[34m\u001b[1mtrain: \u001b[0mWARNING ⚠️ /teamspace/studios/this_studio/dataset/train/images/1-695-_jpg.rf.4457e0b1cba25263a7a962a8819576e0.jpg: ignoring corrupt image/label: non-normalized or out of bounds coordinates [     1.2175]\n",
      "\u001b[34m\u001b[1mtrain: \u001b[0mWARNING ⚠️ /teamspace/studios/this_studio/dataset/train/images/1-695-_jpg.rf.f7e6001532249068286ff35d413de130.jpg: ignoring corrupt image/label: non-normalized or out of bounds coordinates [     1.0364]\n",
      "\u001b[34m\u001b[1mtrain: \u001b[0mWARNING ⚠️ /teamspace/studios/this_studio/dataset/train/images/1-699-_jpg.rf.a14e10479ea0c1fa786571bfc2b94d2a.jpg: ignoring corrupt image/label: non-normalized or out of bounds coordinates [     1.0011]\n",
      "\u001b[34m\u001b[1mtrain: \u001b[0mWARNING ⚠️ /teamspace/studios/this_studio/dataset/train/images/1-699-_jpg.rf.e18f560173052a7b66f4f42bedd797b4.jpg: ignoring corrupt image/label: non-normalized or out of bounds coordinates [     1.0011]\n",
      "\u001b[34m\u001b[1mtrain: \u001b[0mWARNING ⚠️ /teamspace/studios/this_studio/dataset/train/images/1-704-_jpg.rf.a2c79ad7df4c8679d4f7a98cdb7adcc7.jpg: ignoring corrupt image/label: non-normalized or out of bounds coordinates [     1.0449]\n",
      "\u001b[34m\u001b[1mtrain: \u001b[0mWARNING ⚠️ /teamspace/studios/this_studio/dataset/train/images/1-707-_jpg.rf.619ef7f4c7e722ad1a5f4ef123fada60.jpg: ignoring corrupt image/label: non-normalized or out of bounds coordinates [      1.084]\n",
      "\u001b[34m\u001b[1mtrain: \u001b[0mWARNING ⚠️ /teamspace/studios/this_studio/dataset/train/images/1-715-_jpg.rf.43b031d63ec9c927691c3fb3ee1d4e0c.jpg: ignoring corrupt image/label: non-normalized or out of bounds coordinates [     1.0255]\n",
      "\u001b[34m\u001b[1mtrain: \u001b[0mWARNING ⚠️ /teamspace/studios/this_studio/dataset/train/images/1-715-_jpg.rf.7e8b10bf374eea10b74cbc834e96a702.jpg: ignoring corrupt image/label: non-normalized or out of bounds coordinates [     1.0255]\n",
      "\u001b[34m\u001b[1mtrain: \u001b[0mWARNING ⚠️ /teamspace/studios/this_studio/dataset/train/images/1-715-_jpg.rf.918a334d6c7234495c248242a5dce905.jpg: ignoring corrupt image/label: non-normalized or out of bounds coordinates [     1.1788]\n",
      "\u001b[34m\u001b[1mtrain: \u001b[0mWARNING ⚠️ /teamspace/studios/this_studio/dataset/train/images/1-717-_jpg.rf.273dd97063831e8faaae23e0db91c72c.jpg: ignoring corrupt image/label: non-normalized or out of bounds coordinates [     1.0552]\n",
      "\u001b[34m\u001b[1mtrain: \u001b[0mWARNING ⚠️ /teamspace/studios/this_studio/dataset/train/images/1-717-_jpg.rf.d7e237e7a4eb2866050e6001e017c1aa.jpg: ignoring corrupt image/label: non-normalized or out of bounds coordinates [      1.037]\n",
      "\u001b[34m\u001b[1mtrain: \u001b[0mWARNING ⚠️ /teamspace/studios/this_studio/dataset/train/images/1-737-_jpg.rf.d6bb487ca954a1fff97ca16192d2b64d.jpg: ignoring corrupt image/label: non-normalized or out of bounds coordinates [     1.0081]\n",
      "\u001b[34m\u001b[1mtrain: \u001b[0mWARNING ⚠️ /teamspace/studios/this_studio/dataset/train/images/1-741-_jpg.rf.2346cbf226d9cfdef5b3e99b775110ca.jpg: ignoring corrupt image/label: non-normalized or out of bounds coordinates [     1.0014]\n",
      "\u001b[34m\u001b[1mtrain: \u001b[0mWARNING ⚠️ /teamspace/studios/this_studio/dataset/train/images/1-741-_jpg.rf.f09e690db559bce0c2005f1f2da2e9de.jpg: ignoring corrupt image/label: non-normalized or out of bounds coordinates [     1.0014]\n",
      "\u001b[34m\u001b[1mtrain: \u001b[0mWARNING ⚠️ /teamspace/studios/this_studio/dataset/train/images/1-742-_jpg.rf.49fcc86b90eab6dc61e9d768d1194969.jpg: ignoring corrupt image/label: non-normalized or out of bounds coordinates [     1.0085]\n",
      "\u001b[34m\u001b[1mtrain: \u001b[0mWARNING ⚠️ /teamspace/studios/this_studio/dataset/train/images/1-747-_jpg.rf.225ee96212446b90a8dc39c8879f6718.jpg: ignoring corrupt image/label: non-normalized or out of bounds coordinates [     1.3178]\n",
      "\u001b[34m\u001b[1mtrain: \u001b[0mWARNING ⚠️ /teamspace/studios/this_studio/dataset/train/images/1-747-_jpg.rf.9e0dd5238033cd5c46025f5647e7cdb9.jpg: ignoring corrupt image/label: non-normalized or out of bounds coordinates [     1.3178]\n",
      "\u001b[34m\u001b[1mtrain: \u001b[0mWARNING ⚠️ /teamspace/studios/this_studio/dataset/train/images/1-747-_jpg.rf.a536ddbe3261bc0f689e44476dd1b5d6.jpg: ignoring corrupt image/label: non-normalized or out of bounds coordinates [     1.3178]\n",
      "\u001b[34m\u001b[1mtrain: \u001b[0mWARNING ⚠️ /teamspace/studios/this_studio/dataset/train/images/1-754-_jpg.rf.e550d4eff15570843b03a30e660ff9b6.jpg: ignoring corrupt image/label: non-normalized or out of bounds coordinates [     1.2576]\n",
      "\u001b[34m\u001b[1mtrain: \u001b[0mWARNING ⚠️ /teamspace/studios/this_studio/dataset/train/images/1-754-_jpg.rf.e76ea252cd14dbdf4793c659767bd6d7.jpg: ignoring corrupt image/label: non-normalized or out of bounds coordinates [     1.2697]\n",
      "\u001b[34m\u001b[1mtrain: \u001b[0mWARNING ⚠️ /teamspace/studios/this_studio/dataset/train/images/1-755-_jpg.rf.3cbd6144c01f863728cb7541ea4867bb.jpg: ignoring corrupt image/label: non-normalized or out of bounds coordinates [     1.0491]\n",
      "\u001b[34m\u001b[1mtrain: \u001b[0mWARNING ⚠️ /teamspace/studios/this_studio/dataset/train/images/1-755-_jpg.rf.76a0834cfed1d680b1e7c848fbb71010.jpg: ignoring corrupt image/label: non-normalized or out of bounds coordinates [     1.0311]\n",
      "\u001b[34m\u001b[1mtrain: \u001b[0mWARNING ⚠️ /teamspace/studios/this_studio/dataset/train/images/1-757-_jpg.rf.0409f44ccca575e79837a60b3af1f1c4.jpg: ignoring corrupt image/label: non-normalized or out of bounds coordinates [     1.0033       1.351]\n",
      "\u001b[34m\u001b[1mtrain: \u001b[0mWARNING ⚠️ /teamspace/studios/this_studio/dataset/train/images/1-757-_jpg.rf.50b7e8a9b999bc4779b0b6125e4fe76b.jpg: ignoring corrupt image/label: non-normalized or out of bounds coordinates [     1.1778]\n",
      "\u001b[34m\u001b[1mtrain: \u001b[0mWARNING ⚠️ /teamspace/studios/this_studio/dataset/train/images/1-757-_jpg.rf.8856287c5ccce1d663f00272334eb442.jpg: ignoring corrupt image/label: non-normalized or out of bounds coordinates [     1.1696]\n",
      "\u001b[34m\u001b[1mtrain: \u001b[0mWARNING ⚠️ /teamspace/studios/this_studio/dataset/train/images/1-758-_jpg.rf.1bb1ad1be6944c866f0f7dbb8ee37802.jpg: ignoring corrupt image/label: non-normalized or out of bounds coordinates [     1.0316]\n",
      "\u001b[34m\u001b[1mtrain: \u001b[0mWARNING ⚠️ /teamspace/studios/this_studio/dataset/train/images/1-758-_jpg.rf.8cf8be8b38688427e7712163905e07b9.jpg: ignoring corrupt image/label: non-normalized or out of bounds coordinates [     1.0334]\n",
      "\u001b[34m\u001b[1mtrain: \u001b[0mWARNING ⚠️ /teamspace/studios/this_studio/dataset/train/images/1-759-_jpg.rf.5bae798ae8c4f612247fa29eda8693d2.jpg: ignoring corrupt image/label: non-normalized or out of bounds coordinates [     1.1571]\n",
      "\u001b[34m\u001b[1mtrain: \u001b[0mWARNING ⚠️ /teamspace/studios/this_studio/dataset/train/images/1-759-_jpg.rf.661b51e3ffb8979000dae5626c24b47d.jpg: ignoring corrupt image/label: non-normalized or out of bounds coordinates [     1.1571]\n",
      "\u001b[34m\u001b[1mtrain: \u001b[0mWARNING ⚠️ /teamspace/studios/this_studio/dataset/train/images/1-770-_jpg.rf.4f8fe72d7d1728b2c2474ae564927478.jpg: ignoring corrupt image/label: non-normalized or out of bounds coordinates [     1.0002]\n",
      "\u001b[34m\u001b[1mtrain: \u001b[0mWARNING ⚠️ /teamspace/studios/this_studio/dataset/train/images/1-770-_jpg.rf.c8dd9233187361f1d5109b944cdd5843.jpg: ignoring corrupt image/label: non-normalized or out of bounds coordinates [     1.1035]\n",
      "\u001b[34m\u001b[1mtrain: \u001b[0mWARNING ⚠️ /teamspace/studios/this_studio/dataset/train/images/1-770-_jpg.rf.f13e7e8cd529cc063446ca3d8b4cb0df.jpg: ignoring corrupt image/label: non-normalized or out of bounds coordinates [     1.0002]\n",
      "\u001b[34m\u001b[1mtrain: \u001b[0mWARNING ⚠️ /teamspace/studios/this_studio/dataset/train/images/1-772-_jpg.rf.7621e9ea419abe1f0217b1254ee35a54.jpg: ignoring corrupt image/label: non-normalized or out of bounds coordinates [     1.0906]\n",
      "\u001b[34m\u001b[1mtrain: \u001b[0mWARNING ⚠️ /teamspace/studios/this_studio/dataset/train/images/1-772-_jpg.rf.9af64e23cea912fbd9609cd276f43e61.jpg: ignoring corrupt image/label: non-normalized or out of bounds coordinates [     1.0906]\n",
      "\u001b[34m\u001b[1mtrain: \u001b[0mWARNING ⚠️ /teamspace/studios/this_studio/dataset/train/images/1-772-_jpg.rf.e3395e51828a2bdc7c3a19e0b8aa1123.jpg: ignoring corrupt image/label: non-normalized or out of bounds coordinates [     1.1312]\n",
      "\u001b[34m\u001b[1mtrain: \u001b[0mWARNING ⚠️ /teamspace/studios/this_studio/dataset/train/images/1-773-_jpg.rf.59c382305e8b857d938e9e8ab4f6fd48.jpg: ignoring corrupt image/label: non-normalized or out of bounds coordinates [     1.0269]\n",
      "\u001b[34m\u001b[1mtrain: \u001b[0mWARNING ⚠️ /teamspace/studios/this_studio/dataset/train/images/1-775-_jpg.rf.5b445ded71d3e1a16215fa479dcbc880.jpg: ignoring corrupt image/label: non-normalized or out of bounds coordinates [     1.0147]\n",
      "\u001b[34m\u001b[1mtrain: \u001b[0mWARNING ⚠️ /teamspace/studios/this_studio/dataset/train/images/1-775-_jpg.rf.b69fa21daf8767b0acc9c103254417ae.jpg: ignoring corrupt image/label: non-normalized or out of bounds coordinates [     1.0147]\n",
      "\u001b[34m\u001b[1mtrain: \u001b[0mWARNING ⚠️ /teamspace/studios/this_studio/dataset/train/images/1-777-_jpg.rf.8bb90d95da1bf03e11dc92d12fdf8069.jpg: ignoring corrupt image/label: non-normalized or out of bounds coordinates [     1.0313]\n",
      "\u001b[34m\u001b[1mtrain: \u001b[0mWARNING ⚠️ /teamspace/studios/this_studio/dataset/train/images/1-777-_jpg.rf.c5f1a2ba96049b1da0133c9d64bf0d1e.jpg: ignoring corrupt image/label: non-normalized or out of bounds coordinates [     1.0313]\n",
      "\u001b[34m\u001b[1mtrain: \u001b[0mWARNING ⚠️ /teamspace/studios/this_studio/dataset/train/images/1-781-_jpg.rf.5a9d9fae873505d5972e3eeb036ace7a.jpg: ignoring corrupt image/label: non-normalized or out of bounds coordinates [     1.0396]\n",
      "\u001b[34m\u001b[1mtrain: \u001b[0mWARNING ⚠️ /teamspace/studios/this_studio/dataset/train/images/1-781-_jpg.rf.a5887a3410a67168b8a0d86f26438448.jpg: ignoring corrupt image/label: non-normalized or out of bounds coordinates [     1.0396]\n",
      "\u001b[34m\u001b[1mtrain: \u001b[0mWARNING ⚠️ /teamspace/studios/this_studio/dataset/train/images/1-785-_jpg.rf.24ce049a74374b9bd1a44ff5a5f0a8f8.jpg: ignoring corrupt image/label: non-normalized or out of bounds coordinates [     1.0006      1.0013]\n",
      "\u001b[34m\u001b[1mtrain: \u001b[0mWARNING ⚠️ /teamspace/studios/this_studio/dataset/train/images/1-787-_jpg.rf.6bfa5b3cb234e8fe93255d99b108b7db.jpg: ignoring corrupt image/label: non-normalized or out of bounds coordinates [     1.0817      1.4422]\n",
      "\u001b[34m\u001b[1mtrain: \u001b[0mWARNING ⚠️ /teamspace/studios/this_studio/dataset/train/images/1-787-_jpg.rf.f0f1030d5f2f151c61db159af42e434e.jpg: ignoring corrupt image/label: non-normalized or out of bounds coordinates [     1.0817      1.4422]\n",
      "\u001b[34m\u001b[1mtrain: \u001b[0mWARNING ⚠️ /teamspace/studios/this_studio/dataset/train/images/1-789-_jpg.rf.723bd4d9eb375b9889bd29c7ac51b222.jpg: ignoring corrupt image/label: non-normalized or out of bounds coordinates [     1.0007]\n",
      "\u001b[34m\u001b[1mtrain: \u001b[0mWARNING ⚠️ /teamspace/studios/this_studio/dataset/train/images/1-837-_jpg.rf.71efd6bd73cd9e11251c2d7cfb0f8e8e.jpg: ignoring corrupt image/label: non-normalized or out of bounds coordinates [     1.1485]\n",
      "\u001b[34m\u001b[1mtrain: \u001b[0mWARNING ⚠️ /teamspace/studios/this_studio/dataset/train/images/1-837-_jpg.rf.b7fe7f6bf76e779506b57bbcaa933552.jpg: ignoring corrupt image/label: non-normalized or out of bounds coordinates [     1.2201]\n",
      "\u001b[34m\u001b[1mtrain: \u001b[0mWARNING ⚠️ /teamspace/studios/this_studio/dataset/train/images/1-843-_jpg.rf.956c3644d8b569b15f618b2d177ebaf6.jpg: ignoring corrupt image/label: non-normalized or out of bounds coordinates [     1.0105]\n",
      "\u001b[34m\u001b[1mtrain: \u001b[0mWARNING ⚠️ /teamspace/studios/this_studio/dataset/train/images/101_png.rf.e8534938ff0203a1da5aac291cd63766.jpg: ignoring corrupt image/label: non-normalized or out of bounds coordinates [     1.0673]\n",
      "\u001b[34m\u001b[1mtrain: \u001b[0mWARNING ⚠️ /teamspace/studios/this_studio/dataset/train/images/101_png.rf.f19089e2e99a91aab623bea3638adba9.jpg: ignoring corrupt image/label: non-normalized or out of bounds coordinates [     1.0488]\n",
      "\u001b[34m\u001b[1mtrain: \u001b[0mWARNING ⚠️ /teamspace/studios/this_studio/dataset/train/images/104_png.rf.3e7911cabac2b021a1862ed37b138646.jpg: ignoring corrupt image/label: non-normalized or out of bounds coordinates [     1.1511]\n",
      "\u001b[34m\u001b[1mtrain: \u001b[0mWARNING ⚠️ /teamspace/studios/this_studio/dataset/train/images/104_png.rf.74b6c3e82c0119d29b3d27017b577f6c.jpg: ignoring corrupt image/label: non-normalized or out of bounds coordinates [     1.1511]\n",
      "\u001b[34m\u001b[1mtrain: \u001b[0mWARNING ⚠️ /teamspace/studios/this_studio/dataset/train/images/104_png.rf.f465505fac2e40e85717c53640a5df79.jpg: ignoring corrupt image/label: non-normalized or out of bounds coordinates [     1.1511]\n",
      "\u001b[34m\u001b[1mtrain: \u001b[0mWARNING ⚠️ /teamspace/studios/this_studio/dataset/train/images/10_jpg.rf.09fa6cc85a70b94dc6275e03bbbeba2f.jpg: ignoring corrupt image/label: non-normalized or out of bounds coordinates [     1.0119      1.0121]\n",
      "\u001b[34m\u001b[1mtrain: \u001b[0mWARNING ⚠️ /teamspace/studios/this_studio/dataset/train/images/10_jpg.rf.b2442f96b48da9800418375d8bbc2de7.jpg: ignoring corrupt image/label: non-normalized or out of bounds coordinates [     1.0119       1.019]\n",
      "\u001b[34m\u001b[1mtrain: \u001b[0mWARNING ⚠️ /teamspace/studios/this_studio/dataset/train/images/113_png.rf.508efd78ff38c373b0a460a8a1e6f33a.jpg: ignoring corrupt image/label: non-normalized or out of bounds coordinates [     1.3868]\n",
      "\u001b[34m\u001b[1mtrain: \u001b[0mWARNING ⚠️ /teamspace/studios/this_studio/dataset/train/images/113_png.rf.885ef9d3ea3c78ade867e56d56aa3f17.jpg: ignoring corrupt image/label: non-normalized or out of bounds coordinates [     1.3868]\n",
      "\u001b[34m\u001b[1mtrain: \u001b[0mWARNING ⚠️ /teamspace/studios/this_studio/dataset/train/images/113_png.rf.ad528c3d246c635c800d7f8f8c30c1d9.jpg: ignoring corrupt image/label: non-normalized or out of bounds coordinates [     1.3912]\n",
      "\u001b[34m\u001b[1mtrain: \u001b[0mWARNING ⚠️ /teamspace/studios/this_studio/dataset/train/images/116_png.rf.7fc7c669b01b1be1e96f20638abb3c63.jpg: ignoring corrupt image/label: non-normalized or out of bounds coordinates [     1.1068]\n",
      "\u001b[34m\u001b[1mtrain: \u001b[0mWARNING ⚠️ /teamspace/studios/this_studio/dataset/train/images/116_png.rf.d432b181825670555662f8f300d8469a.jpg: ignoring corrupt image/label: non-normalized or out of bounds coordinates [     1.1068]\n",
      "\u001b[34m\u001b[1mtrain: \u001b[0mWARNING ⚠️ /teamspace/studios/this_studio/dataset/train/images/11_png.rf.87a5cd0321b1c755bccfaff2b979a0d8.jpg: ignoring corrupt image/label: non-normalized or out of bounds coordinates [     1.2131]\n",
      "\u001b[34m\u001b[1mtrain: \u001b[0mWARNING ⚠️ /teamspace/studios/this_studio/dataset/train/images/11_png.rf.c6c168ddc72418468933b4b4aecf25ad.jpg: ignoring corrupt image/label: non-normalized or out of bounds coordinates [     1.2131]\n",
      "\u001b[34m\u001b[1mtrain: \u001b[0mWARNING ⚠️ /teamspace/studios/this_studio/dataset/train/images/11_png.rf.f94168e384b7b8091bfd2f64b4f5afec.jpg: ignoring corrupt image/label: non-normalized or out of bounds coordinates [     1.2131]\n",
      "\u001b[34m\u001b[1mtrain: \u001b[0mWARNING ⚠️ /teamspace/studios/this_studio/dataset/train/images/120_png.rf.b51b08e69af4b7512702c65f28a8ebbc.jpg: ignoring corrupt image/label: non-normalized or out of bounds coordinates [     1.0016]\n",
      "\u001b[34m\u001b[1mtrain: \u001b[0mWARNING ⚠️ /teamspace/studios/this_studio/dataset/train/images/120_png.rf.d0f16b627ff6c0f763f426d6247d4c81.jpg: ignoring corrupt image/label: non-normalized or out of bounds coordinates [     1.0016]\n",
      "\u001b[34m\u001b[1mtrain: \u001b[0mWARNING ⚠️ /teamspace/studios/this_studio/dataset/train/images/123_png.rf.07311abdee9f936c6282761ab9ee26cf.jpg: ignoring corrupt image/label: non-normalized or out of bounds coordinates [      1.208      1.1997]\n",
      "\u001b[34m\u001b[1mtrain: \u001b[0mWARNING ⚠️ /teamspace/studios/this_studio/dataset/train/images/123_png.rf.6d822a2086fe27f532f7990173215810.jpg: ignoring corrupt image/label: non-normalized or out of bounds coordinates [     1.2084      1.2003]\n",
      "\u001b[34m\u001b[1mtrain: \u001b[0mWARNING ⚠️ /teamspace/studios/this_studio/dataset/train/images/123_png.rf.8b0c32c3169502088963813322e3bbc6.jpg: ignoring corrupt image/label: non-normalized or out of bounds coordinates [     1.2003      1.2084]\n",
      "\u001b[34m\u001b[1mtrain: \u001b[0mWARNING ⚠️ /teamspace/studios/this_studio/dataset/train/images/126_png.rf.6c923c6173e59118ca5354bb5edc9d4d.jpg: ignoring corrupt image/label: non-normalized or out of bounds coordinates [     1.0012]\n",
      "\u001b[34m\u001b[1mtrain: \u001b[0mWARNING ⚠️ /teamspace/studios/this_studio/dataset/train/images/126_png.rf.7c1bebcf66448bd849c80424fa70c3dd.jpg: ignoring corrupt image/label: non-normalized or out of bounds coordinates [     1.0012]\n",
      "\u001b[34m\u001b[1mtrain: \u001b[0mWARNING ⚠️ /teamspace/studios/this_studio/dataset/train/images/126_png.rf.ac27a0645b78a64df25477c9d3f612e2.jpg: ignoring corrupt image/label: non-normalized or out of bounds coordinates [     1.0012]\n",
      "\u001b[34m\u001b[1mtrain: \u001b[0mWARNING ⚠️ /teamspace/studios/this_studio/dataset/train/images/128_png.rf.24acc2c9d80eab3f3db63e10be1ac987.jpg: ignoring corrupt image/label: non-normalized or out of bounds coordinates [     1.1283]\n",
      "\u001b[34m\u001b[1mtrain: \u001b[0mWARNING ⚠️ /teamspace/studios/this_studio/dataset/train/images/128_png.rf.4aa21662a54df53a1290599d70b89f66.jpg: ignoring corrupt image/label: non-normalized or out of bounds coordinates [     1.1267]\n",
      "\u001b[34m\u001b[1mtrain: \u001b[0mWARNING ⚠️ /teamspace/studios/this_studio/dataset/train/images/128_png.rf.7f7f3abb61ecd0f0266ff1dbeb69bd67.jpg: ignoring corrupt image/label: non-normalized or out of bounds coordinates [     1.1267]\n",
      "\u001b[34m\u001b[1mtrain: \u001b[0mWARNING ⚠️ /teamspace/studios/this_studio/dataset/train/images/137_png.rf.02f08f023eb467927f39f3433be636ca.jpg: ignoring corrupt image/label: non-normalized or out of bounds coordinates [      1.012]\n",
      "\u001b[34m\u001b[1mtrain: \u001b[0mWARNING ⚠️ /teamspace/studios/this_studio/dataset/train/images/137_png.rf.499dd6a8a492493af8098383987f5b6b.jpg: ignoring corrupt image/label: non-normalized or out of bounds coordinates [     1.0109]\n",
      "\u001b[34m\u001b[1mtrain: \u001b[0mWARNING ⚠️ /teamspace/studios/this_studio/dataset/train/images/137_png.rf.d06dc7e3b7b0029a470c8d5a082fb2b6.jpg: ignoring corrupt image/label: non-normalized or out of bounds coordinates [     1.0109]\n",
      "\u001b[34m\u001b[1mtrain: \u001b[0mWARNING ⚠️ /teamspace/studios/this_studio/dataset/train/images/152_png.rf.7cd52c31440039234fdd3fb7f5a0d8d9.jpg: ignoring corrupt image/label: non-normalized or out of bounds coordinates [     1.0154]\n",
      "\u001b[34m\u001b[1mtrain: \u001b[0mWARNING ⚠️ /teamspace/studios/this_studio/dataset/train/images/153_png.rf.38a10a692382cc579088332653e09f49.jpg: ignoring corrupt image/label: non-normalized or out of bounds coordinates [      1.002]\n",
      "\u001b[34m\u001b[1mtrain: \u001b[0mWARNING ⚠️ /teamspace/studios/this_studio/dataset/train/images/159_png.rf.1a597f9c63f36c05532448db848b4615.jpg: ignoring corrupt image/label: non-normalized or out of bounds coordinates [          1]\n",
      "\u001b[34m\u001b[1mtrain: \u001b[0mWARNING ⚠️ /teamspace/studios/this_studio/dataset/train/images/159_png.rf.5f4167ae9af65157051a93540285acdb.jpg: ignoring corrupt image/label: non-normalized or out of bounds coordinates [          1]\n",
      "\u001b[34m\u001b[1mtrain: \u001b[0mWARNING ⚠️ /teamspace/studios/this_studio/dataset/train/images/159_png.rf.d51a0dd26a4f969b40665910044fdc03.jpg: ignoring corrupt image/label: non-normalized or out of bounds coordinates [     1.0037]\n",
      "\u001b[34m\u001b[1mtrain: \u001b[0mWARNING ⚠️ /teamspace/studios/this_studio/dataset/train/images/162_png.rf.008907909425d33b1429647256380732.jpg: ignoring corrupt image/label: non-normalized or out of bounds coordinates [     1.0031]\n",
      "\u001b[34m\u001b[1mtrain: \u001b[0mWARNING ⚠️ /teamspace/studios/this_studio/dataset/train/images/162_png.rf.ddc36725a861634c0bf7bfdfc3436406.jpg: ignoring corrupt image/label: non-normalized or out of bounds coordinates [     1.0031]\n",
      "\u001b[34m\u001b[1mtrain: \u001b[0mWARNING ⚠️ /teamspace/studios/this_studio/dataset/train/images/162_png.rf.f5c50edf70858598c4ab5f231c906f63.jpg: ignoring corrupt image/label: non-normalized or out of bounds coordinates [     1.0031]\n",
      "\u001b[34m\u001b[1mtrain: \u001b[0mWARNING ⚠️ /teamspace/studios/this_studio/dataset/train/images/170_png.rf.3fa2ae50e975738c009ccc226b3c032f.jpg: ignoring corrupt image/label: non-normalized or out of bounds coordinates [     1.0742]\n",
      "\u001b[34m\u001b[1mtrain: \u001b[0mWARNING ⚠️ /teamspace/studios/this_studio/dataset/train/images/170_png.rf.7deb4734ad2d1ab8e9672c6bbbb53eb2.jpg: ignoring corrupt image/label: non-normalized or out of bounds coordinates [     1.0924]\n",
      "\u001b[34m\u001b[1mtrain: \u001b[0mWARNING ⚠️ /teamspace/studios/this_studio/dataset/train/images/177_jpg.rf.4e7fe3ee0ca8acc5f19a771259477e87.jpg: ignoring corrupt image/label: non-normalized or out of bounds coordinates [     1.0002]\n",
      "\u001b[34m\u001b[1mtrain: \u001b[0mWARNING ⚠️ /teamspace/studios/this_studio/dataset/train/images/177_jpg.rf.80602f6a724c1ba432e68c9326392dda.jpg: ignoring corrupt image/label: non-normalized or out of bounds coordinates [     1.0002]\n",
      "\u001b[34m\u001b[1mtrain: \u001b[0mWARNING ⚠️ /teamspace/studios/this_studio/dataset/train/images/177_png.rf.2379b82936e6d47cdd61cef761e0a074.jpg: ignoring corrupt image/label: non-normalized or out of bounds coordinates [     1.0029]\n",
      "\u001b[34m\u001b[1mtrain: \u001b[0mWARNING ⚠️ /teamspace/studios/this_studio/dataset/train/images/177_png.rf.e75a6b26962edf926e3496df2c6e1df5.jpg: ignoring corrupt image/label: non-normalized or out of bounds coordinates [     1.0029]\n",
      "\u001b[34m\u001b[1mtrain: \u001b[0mWARNING ⚠️ /teamspace/studios/this_studio/dataset/train/images/185_png.rf.3152ee455b61c2c8c9888bb7c72f8a72.jpg: ignoring corrupt image/label: non-normalized or out of bounds coordinates [     1.0582]\n",
      "\u001b[34m\u001b[1mtrain: \u001b[0mWARNING ⚠️ /teamspace/studios/this_studio/dataset/train/images/185_png.rf.4d42908ca51405fd5e2b548030efe73d.jpg: ignoring corrupt image/label: non-normalized or out of bounds coordinates [     1.0582]\n",
      "\u001b[34m\u001b[1mtrain: \u001b[0mWARNING ⚠️ /teamspace/studios/this_studio/dataset/train/images/185_png.rf.ade018109d1fece93f32da6b76f61553.jpg: ignoring corrupt image/label: non-normalized or out of bounds coordinates [     1.0582]\n",
      "\u001b[34m\u001b[1mtrain: \u001b[0mWARNING ⚠️ /teamspace/studios/this_studio/dataset/train/images/186_png.rf.32da0d817992d660180e581263ae217d.jpg: ignoring corrupt image/label: non-normalized or out of bounds coordinates [      1.001]\n",
      "\u001b[34m\u001b[1mtrain: \u001b[0mWARNING ⚠️ /teamspace/studios/this_studio/dataset/train/images/186_png.rf.5a9275263d0c1a7d70f1305b08bdcccd.jpg: ignoring corrupt image/label: non-normalized or out of bounds coordinates [      1.001]\n",
      "\u001b[34m\u001b[1mtrain: \u001b[0mWARNING ⚠️ /teamspace/studios/this_studio/dataset/train/images/191_png.rf.3a4f8d629abae4a20ed54cc948d5f0fe.jpg: ignoring corrupt image/label: non-normalized or out of bounds coordinates [     1.1378]\n",
      "\u001b[34m\u001b[1mtrain: \u001b[0mWARNING ⚠️ /teamspace/studios/this_studio/dataset/train/images/191_png.rf.bf1b9a12971693f9fed67398713e0ddf.jpg: ignoring corrupt image/label: non-normalized or out of bounds coordinates [     1.1378]\n",
      "\u001b[34m\u001b[1mtrain: \u001b[0mWARNING ⚠️ /teamspace/studios/this_studio/dataset/train/images/195_png.rf.0c9dfab4fb2b791e2055c1f55e1fee76.jpg: ignoring corrupt image/label: non-normalized or out of bounds coordinates [     1.0017]\n",
      "\u001b[34m\u001b[1mtrain: \u001b[0mWARNING ⚠️ /teamspace/studios/this_studio/dataset/train/images/195_png.rf.b98fffd548e02be6eaa6e7434fecab80.jpg: ignoring corrupt image/label: non-normalized or out of bounds coordinates [     1.0017]\n",
      "\u001b[34m\u001b[1mtrain: \u001b[0mWARNING ⚠️ /teamspace/studios/this_studio/dataset/train/images/198_png.rf.10b6b10a9e03dab7a3383f4df6180f0e.jpg: ignoring corrupt image/label: non-normalized or out of bounds coordinates [     1.0005]\n",
      "\u001b[34m\u001b[1mtrain: \u001b[0mWARNING ⚠️ /teamspace/studios/this_studio/dataset/train/images/198_png.rf.44480591af36461ddbb9646f16189f9c.jpg: ignoring corrupt image/label: non-normalized or out of bounds coordinates [     1.0005]\n",
      "\u001b[34m\u001b[1mtrain: \u001b[0mWARNING ⚠️ /teamspace/studios/this_studio/dataset/train/images/198_png.rf.48fdcee967a778313dfc312717bf54b7.jpg: ignoring corrupt image/label: non-normalized or out of bounds coordinates [     1.0005]\n",
      "\u001b[34m\u001b[1mtrain: \u001b[0mWARNING ⚠️ /teamspace/studios/this_studio/dataset/train/images/203_png.rf.2f4a9d51a312f1053cc54e14177d3adf.jpg: ignoring corrupt image/label: non-normalized or out of bounds coordinates [     1.2938]\n",
      "\u001b[34m\u001b[1mtrain: \u001b[0mWARNING ⚠️ /teamspace/studios/this_studio/dataset/train/images/203_png.rf.907c1bb53110048c88bf5596c0f66ebc.jpg: ignoring corrupt image/label: non-normalized or out of bounds coordinates [     1.2938]\n",
      "\u001b[34m\u001b[1mtrain: \u001b[0mWARNING ⚠️ /teamspace/studios/this_studio/dataset/train/images/203_png.rf.c195ae605259cf6180d93ac4b1bb6bb5.jpg: ignoring corrupt image/label: non-normalized or out of bounds coordinates [     1.3005]\n",
      "\u001b[34m\u001b[1mtrain: \u001b[0mWARNING ⚠️ /teamspace/studios/this_studio/dataset/train/images/214_jpg.rf.42cbd5a665f19d2491a52bb575b9c1d6.jpg: ignoring corrupt image/label: non-normalized or out of bounds coordinates [     1.0002]\n",
      "\u001b[34m\u001b[1mtrain: \u001b[0mWARNING ⚠️ /teamspace/studios/this_studio/dataset/train/images/214_jpg.rf.67ca97897cccafffa12e5216e671e2da.jpg: ignoring corrupt image/label: non-normalized or out of bounds coordinates [     1.0002]\n",
      "\u001b[34m\u001b[1mtrain: \u001b[0mWARNING ⚠️ /teamspace/studios/this_studio/dataset/train/images/214_jpg.rf.f5096204f549a6ba3f28e53c20a2c41d.jpg: ignoring corrupt image/label: non-normalized or out of bounds coordinates [     1.0002]\n",
      "\u001b[34m\u001b[1mtrain: \u001b[0mWARNING ⚠️ /teamspace/studios/this_studio/dataset/train/images/215_png.rf.37a83dec81009686548f487c8048c50d.jpg: ignoring corrupt image/label: non-normalized or out of bounds coordinates [     1.1351]\n",
      "\u001b[34m\u001b[1mtrain: \u001b[0mWARNING ⚠️ /teamspace/studios/this_studio/dataset/train/images/215_png.rf.a4cdb89fdc757c14ec80363f9f172607.jpg: ignoring corrupt image/label: non-normalized or out of bounds coordinates [     1.1351]\n",
      "\u001b[34m\u001b[1mtrain: \u001b[0mWARNING ⚠️ /teamspace/studios/this_studio/dataset/train/images/215_png.rf.d91c1e6874f3c595723439f0de86f001.jpg: ignoring corrupt image/label: non-normalized or out of bounds coordinates [     1.1351]\n",
      "\u001b[34m\u001b[1mtrain: \u001b[0mWARNING ⚠️ /teamspace/studios/this_studio/dataset/train/images/218_png.rf.490a4b52df49bf679a78c1200e9821cf.jpg: ignoring corrupt image/label: non-normalized or out of bounds coordinates [     1.2478]\n",
      "\u001b[34m\u001b[1mtrain: \u001b[0mWARNING ⚠️ /teamspace/studios/this_studio/dataset/train/images/218_png.rf.9e83ca8eb0b20266bec96de538da56b2.jpg: ignoring corrupt image/label: non-normalized or out of bounds coordinates [     1.2478]\n",
      "\u001b[34m\u001b[1mtrain: \u001b[0mWARNING ⚠️ /teamspace/studios/this_studio/dataset/train/images/230_png.rf.c489cab5e14763eedf08e64d3d2fc709.jpg: ignoring corrupt image/label: non-normalized or out of bounds coordinates [     1.2989]\n",
      "\u001b[34m\u001b[1mtrain: \u001b[0mWARNING ⚠️ /teamspace/studios/this_studio/dataset/train/images/230_png.rf.c6bbbdfac38d2f78ec030ebb83341cba.jpg: ignoring corrupt image/label: non-normalized or out of bounds coordinates [     1.2989]\n",
      "\u001b[34m\u001b[1mtrain: \u001b[0mWARNING ⚠️ /teamspace/studios/this_studio/dataset/train/images/231_png.rf.1a888a8af39559dd31d9568e029b1dbb.jpg: ignoring corrupt image/label: non-normalized or out of bounds coordinates [     1.0916      1.1544]\n",
      "\u001b[34m\u001b[1mtrain: \u001b[0mWARNING ⚠️ /teamspace/studios/this_studio/dataset/train/images/231_png.rf.7cf5ef0f7d5446b6649f4c392678ef8d.jpg: ignoring corrupt image/label: non-normalized or out of bounds coordinates [     1.1519      1.0726]\n",
      "\u001b[34m\u001b[1mtrain: \u001b[0mWARNING ⚠️ /teamspace/studios/this_studio/dataset/train/images/231_png.rf.99e52d9c2fb499989fd312a569c72919.jpg: ignoring corrupt image/label: non-normalized or out of bounds coordinates [     1.0916      1.1544]\n",
      "\u001b[34m\u001b[1mtrain: \u001b[0mWARNING ⚠️ /teamspace/studios/this_studio/dataset/train/images/236_jpg.rf.08b89481fb358b16607b591da3a6ada3.jpg: ignoring corrupt image/label: non-normalized or out of bounds coordinates [     1.0592]\n",
      "\u001b[34m\u001b[1mtrain: \u001b[0mWARNING ⚠️ /teamspace/studios/this_studio/dataset/train/images/236_jpg.rf.7179a1f28761c1e8950bcdb9097304f9.jpg: ignoring corrupt image/label: non-normalized or out of bounds coordinates [     1.0592]\n",
      "\u001b[34m\u001b[1mtrain: \u001b[0mWARNING ⚠️ /teamspace/studios/this_studio/dataset/train/images/238_png.rf.62c05460a3059ae3b2078c40c80f684a.jpg: ignoring corrupt image/label: non-normalized or out of bounds coordinates [     1.0068       1.004]\n",
      "\u001b[34m\u001b[1mtrain: \u001b[0mWARNING ⚠️ /teamspace/studios/this_studio/dataset/train/images/238_png.rf.a70c83c7c73c0f1d44bbd4d40ea91713.jpg: ignoring corrupt image/label: non-normalized or out of bounds coordinates [     1.0068       1.004]\n",
      "\u001b[34m\u001b[1mtrain: \u001b[0mWARNING ⚠️ /teamspace/studios/this_studio/dataset/train/images/260_png.rf.158a71b26ceb3c52e24259eb0ad0b6a8.jpg: ignoring corrupt image/label: non-normalized or out of bounds coordinates [     1.0295]\n",
      "\u001b[34m\u001b[1mtrain: \u001b[0mWARNING ⚠️ /teamspace/studios/this_studio/dataset/train/images/260_png.rf.99caf1265de98628ce78c4dfdc9813c0.jpg: ignoring corrupt image/label: non-normalized or out of bounds coordinates [     1.0295]\n",
      "\u001b[34m\u001b[1mtrain: \u001b[0mWARNING ⚠️ /teamspace/studios/this_studio/dataset/train/images/265_jpg.rf.297f9650f5d5ce1805587a80ec8e4046.jpg: ignoring corrupt image/label: non-normalized or out of bounds coordinates [     1.0833      1.0575]\n",
      "\u001b[34m\u001b[1mtrain: \u001b[0mWARNING ⚠️ /teamspace/studios/this_studio/dataset/train/images/265_jpg.rf.56273e2acdfe1d72027e5fc2d066adb3.jpg: ignoring corrupt image/label: non-normalized or out of bounds coordinates [     1.0408      1.0992]\n",
      "\u001b[34m\u001b[1mtrain: \u001b[0mWARNING ⚠️ /teamspace/studios/this_studio/dataset/train/images/265_jpg.rf.f277aab92795a47d6926fadb62faf30a.jpg: ignoring corrupt image/label: non-normalized or out of bounds coordinates [     1.0575      1.0833]\n",
      "\u001b[34m\u001b[1mtrain: \u001b[0mWARNING ⚠️ /teamspace/studios/this_studio/dataset/train/images/265_png.rf.07434589da1c240f12e1906bb590ee71.jpg: ignoring corrupt image/label: non-normalized or out of bounds coordinates [     1.0228]\n",
      "\u001b[34m\u001b[1mtrain: \u001b[0mWARNING ⚠️ /teamspace/studios/this_studio/dataset/train/images/265_png.rf.a96790c6f84a86c5ccb467461c0d368e.jpg: ignoring corrupt image/label: non-normalized or out of bounds coordinates [     1.0228]\n",
      "\u001b[34m\u001b[1mtrain: \u001b[0mWARNING ⚠️ /teamspace/studios/this_studio/dataset/train/images/267_jpg.rf.37a112eacef940f7a011a3dde6f138d6.jpg: ignoring corrupt image/label: non-normalized or out of bounds coordinates [     1.0009]\n",
      "\u001b[34m\u001b[1mtrain: \u001b[0mWARNING ⚠️ /teamspace/studios/this_studio/dataset/train/images/267_jpg.rf.70e6992240af77e409dadc0be787c506.jpg: ignoring corrupt image/label: non-normalized or out of bounds coordinates [     1.0009]\n",
      "\u001b[34m\u001b[1mtrain: \u001b[0mWARNING ⚠️ /teamspace/studios/this_studio/dataset/train/images/269_png.rf.7bf79468edfdaf4768f5e2b1d4029c22.jpg: ignoring corrupt image/label: non-normalized or out of bounds coordinates [     1.2608]\n",
      "\u001b[34m\u001b[1mtrain: \u001b[0mWARNING ⚠️ /teamspace/studios/this_studio/dataset/train/images/269_png.rf.95470e3b6ba25814462aeb5f0a175e54.jpg: ignoring corrupt image/label: non-normalized or out of bounds coordinates [     1.2558]\n",
      "\u001b[34m\u001b[1mtrain: \u001b[0mWARNING ⚠️ /teamspace/studios/this_studio/dataset/train/images/269_png.rf.9728888d094e011eada462249d3e6277.jpg: ignoring corrupt image/label: non-normalized or out of bounds coordinates [     1.2558]\n",
      "\u001b[34m\u001b[1mtrain: \u001b[0mWARNING ⚠️ /teamspace/studios/this_studio/dataset/train/images/26_png.rf.4a3de8faa32b606809c7a83fc8c1cca3.jpg: ignoring corrupt image/label: non-normalized or out of bounds coordinates [     1.0934]\n",
      "\u001b[34m\u001b[1mtrain: \u001b[0mWARNING ⚠️ /teamspace/studios/this_studio/dataset/train/images/26_png.rf.63a4ccb65ec913bdedb7d087ce41e2e5.jpg: ignoring corrupt image/label: non-normalized or out of bounds coordinates [     1.1444]\n",
      "\u001b[34m\u001b[1mtrain: \u001b[0mWARNING ⚠️ /teamspace/studios/this_studio/dataset/train/images/270_jpg.rf.1cb59e95eacf40f120056834bf1a36db.jpg: ignoring corrupt image/label: non-normalized or out of bounds coordinates [     1.0006]\n",
      "\u001b[34m\u001b[1mtrain: \u001b[0mWARNING ⚠️ /teamspace/studios/this_studio/dataset/train/images/273_png.rf.04e8b5cd98ff358eb49f561c9e1d75a1.jpg: ignoring corrupt image/label: non-normalized or out of bounds coordinates [      1.002]\n",
      "\u001b[34m\u001b[1mtrain: \u001b[0mWARNING ⚠️ /teamspace/studios/this_studio/dataset/train/images/273_png.rf.dcc530695b081b4348934aa86d6ad627.jpg: ignoring corrupt image/label: non-normalized or out of bounds coordinates [      1.002]\n",
      "\u001b[34m\u001b[1mtrain: \u001b[0mWARNING ⚠️ /teamspace/studios/this_studio/dataset/train/images/275_jpg.rf.34e3b8169dd300eda8a59ec03507252f.jpg: ignoring corrupt image/label: non-normalized or out of bounds coordinates [     1.0595]\n",
      "\u001b[34m\u001b[1mtrain: \u001b[0mWARNING ⚠️ /teamspace/studios/this_studio/dataset/train/images/275_jpg.rf.538843593ec43f48dabc629dc56a4b08.jpg: ignoring corrupt image/label: non-normalized or out of bounds coordinates [     1.0595]\n",
      "\u001b[34m\u001b[1mtrain: \u001b[0mWARNING ⚠️ /teamspace/studios/this_studio/dataset/train/images/275_jpg.rf.ad769341c1c00406855476ed0b793210.jpg: ignoring corrupt image/label: non-normalized or out of bounds coordinates [     1.0017]\n",
      "\u001b[34m\u001b[1mtrain: \u001b[0mWARNING ⚠️ /teamspace/studios/this_studio/dataset/train/images/28_jpg.rf.38898c2509214ef343d9d02cf11712de.jpg: ignoring corrupt image/label: non-normalized or out of bounds coordinates [     1.0006]\n",
      "\u001b[34m\u001b[1mtrain: \u001b[0mWARNING ⚠️ /teamspace/studios/this_studio/dataset/train/images/28_jpg.rf.5250b101bbb4d49768f028fc9afe2bf4.jpg: ignoring corrupt image/label: non-normalized or out of bounds coordinates [     1.0006]\n",
      "\u001b[34m\u001b[1mtrain: \u001b[0mWARNING ⚠️ /teamspace/studios/this_studio/dataset/train/images/28_jpg.rf.8f3f73b8690f5e772b4773b0baf03213.jpg: ignoring corrupt image/label: non-normalized or out of bounds coordinates [     1.0006]\n",
      "\u001b[34m\u001b[1mtrain: \u001b[0mWARNING ⚠️ /teamspace/studios/this_studio/dataset/train/images/296_png.rf.1fd6e673a3d70ea4f1d4e2c0839f143d.jpg: ignoring corrupt image/label: non-normalized or out of bounds coordinates [     1.3854]\n",
      "\u001b[34m\u001b[1mtrain: \u001b[0mWARNING ⚠️ /teamspace/studios/this_studio/dataset/train/images/296_png.rf.52b5cee1f60febe61560602c3a459081.jpg: ignoring corrupt image/label: non-normalized or out of bounds coordinates [     1.3907]\n",
      "\u001b[34m\u001b[1mtrain: \u001b[0mWARNING ⚠️ /teamspace/studios/this_studio/dataset/train/images/296_png.rf.cfaddb41e1be394806afd565a06ad87d.jpg: ignoring corrupt image/label: non-normalized or out of bounds coordinates [     1.3854]\n",
      "\u001b[34m\u001b[1mtrain: \u001b[0mWARNING ⚠️ /teamspace/studios/this_studio/dataset/train/images/297_png.rf.0fe29377e1f3b33f9c465adf7180d360.jpg: ignoring corrupt image/label: non-normalized or out of bounds coordinates [     1.0021      1.0011]\n",
      "\u001b[34m\u001b[1mtrain: \u001b[0mWARNING ⚠️ /teamspace/studios/this_studio/dataset/train/images/297_png.rf.f6c591b9bdaba3e1c994c5dabe9bdb2b.jpg: ignoring corrupt image/label: non-normalized or out of bounds coordinates [     1.0021      1.0011]\n",
      "\u001b[34m\u001b[1mtrain: \u001b[0mWARNING ⚠️ /teamspace/studios/this_studio/dataset/train/images/302_png.rf.4cb84f24e43a03107ba66c60f00a22bb.jpg: ignoring corrupt image/label: non-normalized or out of bounds coordinates [     1.2562]\n",
      "\u001b[34m\u001b[1mtrain: \u001b[0mWARNING ⚠️ /teamspace/studios/this_studio/dataset/train/images/302_png.rf.8ee66af6fd7ffa619345db18ebd0023c.jpg: ignoring corrupt image/label: non-normalized or out of bounds coordinates [     1.2671]\n",
      "\u001b[34m\u001b[1mtrain: \u001b[0mWARNING ⚠️ /teamspace/studios/this_studio/dataset/train/images/302_png.rf.d4cf190c0154a37ae6ef98f4b7751ef5.jpg: ignoring corrupt image/label: non-normalized or out of bounds coordinates [     1.2562]\n",
      "\u001b[34m\u001b[1mtrain: \u001b[0mWARNING ⚠️ /teamspace/studios/this_studio/dataset/train/images/303_png.rf.3b693639d789efda57ef5af188f4aae1.jpg: ignoring corrupt image/label: non-normalized or out of bounds coordinates [     1.0011]\n",
      "\u001b[34m\u001b[1mtrain: \u001b[0mWARNING ⚠️ /teamspace/studios/this_studio/dataset/train/images/303_png.rf.7820f61f750bb979b814a1f26839a7e3.jpg: ignoring corrupt image/label: non-normalized or out of bounds coordinates [     1.0007]\n",
      "\u001b[34m\u001b[1mtrain: \u001b[0mWARNING ⚠️ /teamspace/studios/this_studio/dataset/train/images/308_jpg.rf.1c9442c6a18d1f45e49b812d46dbca89.jpg: ignoring corrupt image/label: non-normalized or out of bounds coordinates [     1.0003]\n",
      "\u001b[34m\u001b[1mtrain: \u001b[0mWARNING ⚠️ /teamspace/studios/this_studio/dataset/train/images/308_jpg.rf.abddbbdef6213bda4328e2f6b9dd6d98.jpg: ignoring corrupt image/label: non-normalized or out of bounds coordinates [     1.0003]\n",
      "\u001b[34m\u001b[1mtrain: \u001b[0mWARNING ⚠️ /teamspace/studios/this_studio/dataset/train/images/311_jpg.rf.90c950cce537769bce2d086c2e031c2b.jpg: ignoring corrupt image/label: non-normalized or out of bounds coordinates [      1.007]\n",
      "\u001b[34m\u001b[1mtrain: \u001b[0mWARNING ⚠️ /teamspace/studios/this_studio/dataset/train/images/311_jpg.rf.921f9978149b9a06786425b448952495.jpg: ignoring corrupt image/label: non-normalized or out of bounds coordinates [      1.007]\n",
      "\u001b[34m\u001b[1mtrain: \u001b[0mWARNING ⚠️ /teamspace/studios/this_studio/dataset/train/images/311_jpg.rf.e6d55672a6e9fe18916ee5350dd3fc0e.jpg: ignoring corrupt image/label: non-normalized or out of bounds coordinates [     1.0066]\n",
      "\u001b[34m\u001b[1mtrain: \u001b[0mWARNING ⚠️ /teamspace/studios/this_studio/dataset/train/images/311_png.rf.44e5e6af0c0b949d9a2b42bca63b5dd5.jpg: ignoring corrupt image/label: non-normalized or out of bounds coordinates [     1.1224]\n",
      "\u001b[34m\u001b[1mtrain: \u001b[0mWARNING ⚠️ /teamspace/studios/this_studio/dataset/train/images/311_png.rf.8412864d720582907af2811d840b0355.jpg: ignoring corrupt image/label: non-normalized or out of bounds coordinates [     1.1264]\n",
      "\u001b[34m\u001b[1mtrain: \u001b[0mWARNING ⚠️ /teamspace/studios/this_studio/dataset/train/images/312_jpg.rf.15e890ff93df013b4d3b7f000a69f492.jpg: ignoring corrupt image/label: non-normalized or out of bounds coordinates [     1.1228]\n",
      "\u001b[34m\u001b[1mtrain: \u001b[0mWARNING ⚠️ /teamspace/studios/this_studio/dataset/train/images/312_jpg.rf.31d505c211771cccbd1da0168106a3c1.jpg: ignoring corrupt image/label: non-normalized or out of bounds coordinates [     1.1228]\n",
      "\u001b[34m\u001b[1mtrain: \u001b[0mWARNING ⚠️ /teamspace/studios/this_studio/dataset/train/images/312_jpg.rf.89dd9618e31341c97d77133ea0a1d5b8.jpg: ignoring corrupt image/label: non-normalized or out of bounds coordinates [     1.1559]\n",
      "\u001b[34m\u001b[1mtrain: \u001b[0mWARNING ⚠️ /teamspace/studios/this_studio/dataset/train/images/313_jpg.rf.6cff181ba036f5970afa78514be03575.jpg: ignoring corrupt image/label: non-normalized or out of bounds coordinates [     1.1533]\n",
      "\u001b[34m\u001b[1mtrain: \u001b[0mWARNING ⚠️ /teamspace/studios/this_studio/dataset/train/images/313_jpg.rf.f39975ab1328f0815133153a10aec489.jpg: ignoring corrupt image/label: non-normalized or out of bounds coordinates [     1.1533]\n",
      "\u001b[34m\u001b[1mtrain: \u001b[0mWARNING ⚠️ /teamspace/studios/this_studio/dataset/train/images/314_jpg.rf.423d94fcbee02fe62efa02f409555a0a.jpg: ignoring corrupt image/label: non-normalized or out of bounds coordinates [     1.1402]\n",
      "\u001b[34m\u001b[1mtrain: \u001b[0mWARNING ⚠️ /teamspace/studios/this_studio/dataset/train/images/314_jpg.rf.dae0825a31562ec3172039408d927ae4.jpg: ignoring corrupt image/label: non-normalized or out of bounds coordinates [     1.1113]\n",
      "\u001b[34m\u001b[1mtrain: \u001b[0mWARNING ⚠️ /teamspace/studios/this_studio/dataset/train/images/314_jpg.rf.f1166d4fb5e94ff3b23cc459293187f2.jpg: ignoring corrupt image/label: non-normalized or out of bounds coordinates [     1.1402]\n",
      "\u001b[34m\u001b[1mtrain: \u001b[0mWARNING ⚠️ /teamspace/studios/this_studio/dataset/train/images/321_jpg.rf.c1fce660ae05bfb9de7e67372eaf27af.jpg: ignoring corrupt image/label: non-normalized or out of bounds coordinates [          1]\n",
      "\u001b[34m\u001b[1mtrain: \u001b[0mWARNING ⚠️ /teamspace/studios/this_studio/dataset/train/images/321_jpg.rf.c9f232f6d466f29ca49bd92a030a1e8c.jpg: ignoring corrupt image/label: non-normalized or out of bounds coordinates [     1.0006]\n",
      "\u001b[34m\u001b[1mtrain: \u001b[0mWARNING ⚠️ /teamspace/studios/this_studio/dataset/train/images/321_jpg.rf.f75c21eb26f10e0b14c83cdee16af095.jpg: ignoring corrupt image/label: non-normalized or out of bounds coordinates [          1]\n",
      "\u001b[34m\u001b[1mtrain: \u001b[0mWARNING ⚠️ /teamspace/studios/this_studio/dataset/train/images/323_jpg.rf.37e8e614c25f30d5e12790e2058d084f.jpg: ignoring corrupt image/label: non-normalized or out of bounds coordinates [          1]\n",
      "\u001b[34m\u001b[1mtrain: \u001b[0mWARNING ⚠️ /teamspace/studios/this_studio/dataset/train/images/323_jpg.rf.9e951d899beb7d91366d2018b2ab6ff9.jpg: ignoring corrupt image/label: non-normalized or out of bounds coordinates [          1]\n",
      "\u001b[34m\u001b[1mtrain: \u001b[0mWARNING ⚠️ /teamspace/studios/this_studio/dataset/train/images/324_png.rf.5589300649210dffcdf7d1a9feddec58.jpg: ignoring corrupt image/label: non-normalized or out of bounds coordinates [     1.0021]\n",
      "\u001b[34m\u001b[1mtrain: \u001b[0mWARNING ⚠️ /teamspace/studios/this_studio/dataset/train/images/324_png.rf.93b4701dd26a958a66f92a37ab53574a.jpg: ignoring corrupt image/label: non-normalized or out of bounds coordinates [     1.0021]\n",
      "\u001b[34m\u001b[1mtrain: \u001b[0mWARNING ⚠️ /teamspace/studios/this_studio/dataset/train/images/324_png.rf.f3933127b3cfe1312855b8451acf53f7.jpg: ignoring corrupt image/label: non-normalized or out of bounds coordinates [     1.0021]\n",
      "\u001b[34m\u001b[1mtrain: \u001b[0mWARNING ⚠️ /teamspace/studios/this_studio/dataset/train/images/32_png.rf.07b6225701d0559d8db157e68ca627a5.jpg: ignoring corrupt image/label: non-normalized or out of bounds coordinates [     1.1692]\n",
      "\u001b[34m\u001b[1mtrain: \u001b[0mWARNING ⚠️ /teamspace/studios/this_studio/dataset/train/images/32_png.rf.a02a7bcd5c583b68ca97c2b6580d7e9b.jpg: ignoring corrupt image/label: non-normalized or out of bounds coordinates [     1.1559]\n",
      "\u001b[34m\u001b[1mtrain: \u001b[0mWARNING ⚠️ /teamspace/studios/this_studio/dataset/train/images/32_png.rf.c0246520140210feb7030524dda86862.jpg: ignoring corrupt image/label: non-normalized or out of bounds coordinates [     1.1692]\n",
      "\u001b[34m\u001b[1mtrain: \u001b[0mWARNING ⚠️ /teamspace/studios/this_studio/dataset/train/images/333_jpg.rf.6166fa5b86b403322e588194de11ca38.jpg: ignoring corrupt image/label: non-normalized or out of bounds coordinates [     1.0101]\n",
      "\u001b[34m\u001b[1mtrain: \u001b[0mWARNING ⚠️ /teamspace/studios/this_studio/dataset/train/images/336_jpg.rf.a827133ef0415ccae96b1b087c80e299.jpg: ignoring corrupt image/label: non-normalized or out of bounds coordinates [     1.0002]\n",
      "\u001b[34m\u001b[1mtrain: \u001b[0mWARNING ⚠️ /teamspace/studios/this_studio/dataset/train/images/336_jpg.rf.f5727d9f3207027dd3e1f7b5cc603395.jpg: ignoring corrupt image/label: non-normalized or out of bounds coordinates [     1.0002]\n",
      "\u001b[34m\u001b[1mtrain: \u001b[0mWARNING ⚠️ /teamspace/studios/this_studio/dataset/train/images/337_jpg.rf.960a262836dd6d83f24a4fed6aaa74e1.jpg: ignoring corrupt image/label: non-normalized or out of bounds coordinates [     1.0003]\n",
      "\u001b[34m\u001b[1mtrain: \u001b[0mWARNING ⚠️ /teamspace/studios/this_studio/dataset/train/images/337_jpg.rf.9821baf10a89832f8d2d6288c3e81c34.jpg: ignoring corrupt image/label: non-normalized or out of bounds coordinates [     1.0003]\n",
      "\u001b[34m\u001b[1mtrain: \u001b[0mWARNING ⚠️ /teamspace/studios/this_studio/dataset/train/images/350_png.rf.20bade0763e849272c8efbb3e87ea4cc.jpg: ignoring corrupt image/label: non-normalized or out of bounds coordinates [     1.1771]\n",
      "\u001b[34m\u001b[1mtrain: \u001b[0mWARNING ⚠️ /teamspace/studios/this_studio/dataset/train/images/350_png.rf.3d94d6436d4b20eaa5ed977ac372c83c.jpg: ignoring corrupt image/label: non-normalized or out of bounds coordinates [     1.1771]\n",
      "\u001b[34m\u001b[1mtrain: \u001b[0mWARNING ⚠️ /teamspace/studios/this_studio/dataset/train/images/350_png.rf.9007654e23b634a70f176628eda494d3.jpg: ignoring corrupt image/label: non-normalized or out of bounds coordinates [      1.171]\n",
      "\u001b[34m\u001b[1mtrain: \u001b[0mWARNING ⚠️ /teamspace/studios/this_studio/dataset/train/images/351_png.rf.22a92d835f5d05f283f5984940d4fa0c.jpg: ignoring corrupt image/label: non-normalized or out of bounds coordinates [     1.1337      1.2486]\n",
      "\u001b[34m\u001b[1mtrain: \u001b[0mWARNING ⚠️ /teamspace/studios/this_studio/dataset/train/images/356_png.rf.932cebd61c01a574cadc03be2510b5e0.jpg: ignoring corrupt image/label: non-normalized or out of bounds coordinates [     1.1646]\n",
      "\u001b[34m\u001b[1mtrain: \u001b[0mWARNING ⚠️ /teamspace/studios/this_studio/dataset/train/images/356_png.rf.a992082886f30b3e198035116196eca1.jpg: ignoring corrupt image/label: non-normalized or out of bounds coordinates [     1.1646]\n",
      "\u001b[34m\u001b[1mtrain: \u001b[0mWARNING ⚠️ /teamspace/studios/this_studio/dataset/train/images/356_png.rf.d6265dd05b1aab8f97b914e4622845d5.jpg: ignoring corrupt image/label: non-normalized or out of bounds coordinates [     1.1646]\n",
      "\u001b[34m\u001b[1mtrain: \u001b[0mWARNING ⚠️ /teamspace/studios/this_studio/dataset/train/images/357_png.rf.1063fa1090b5542a025787ca63e4a80e.jpg: ignoring corrupt image/label: non-normalized or out of bounds coordinates [     1.0005]\n",
      "\u001b[34m\u001b[1mtrain: \u001b[0mWARNING ⚠️ /teamspace/studios/this_studio/dataset/train/images/357_png.rf.40d8ad70c98dd473aff91eddc47c7c38.jpg: ignoring corrupt image/label: non-normalized or out of bounds coordinates [     1.0005]\n",
      "\u001b[34m\u001b[1mtrain: \u001b[0mWARNING ⚠️ /teamspace/studios/this_studio/dataset/train/images/357_png.rf.84ec77702cee60c05c2da24dc6b9b3f1.jpg: ignoring corrupt image/label: non-normalized or out of bounds coordinates [     1.0037]\n",
      "\u001b[34m\u001b[1mtrain: \u001b[0mWARNING ⚠️ /teamspace/studios/this_studio/dataset/train/images/35_png.rf.4415eb685efef5945bdbaad3aeaba2b5.jpg: ignoring corrupt image/label: non-normalized or out of bounds coordinates [     1.2722]\n",
      "\u001b[34m\u001b[1mtrain: \u001b[0mWARNING ⚠️ /teamspace/studios/this_studio/dataset/train/images/35_png.rf.a2e7b8d2bcb1a3fb2698eb568ba51a5c.jpg: ignoring corrupt image/label: non-normalized or out of bounds coordinates [      1.271]\n",
      "\u001b[34m\u001b[1mtrain: \u001b[0mWARNING ⚠️ /teamspace/studios/this_studio/dataset/train/images/35_png.rf.aa37a81a020df1cce32aa06551c6c930.jpg: ignoring corrupt image/label: non-normalized or out of bounds coordinates [      1.271]\n",
      "\u001b[34m\u001b[1mtrain: \u001b[0mWARNING ⚠️ /teamspace/studios/this_studio/dataset/train/images/374_png.rf.91fc3d5be6ffdf083f585a6655cdac5f.jpg: ignoring corrupt image/label: non-normalized or out of bounds coordinates [     1.0535]\n",
      "\u001b[34m\u001b[1mtrain: \u001b[0mWARNING ⚠️ /teamspace/studios/this_studio/dataset/train/images/374_png.rf.93d8dc3fab3219de563166c6fbfd8fef.jpg: ignoring corrupt image/label: non-normalized or out of bounds coordinates [     1.0637]\n",
      "\u001b[34m\u001b[1mtrain: \u001b[0mWARNING ⚠️ /teamspace/studios/this_studio/dataset/train/images/374_png.rf.bb4824e53ab36416f443a8c5f01e2fdf.jpg: ignoring corrupt image/label: non-normalized or out of bounds coordinates [     1.0535]\n",
      "\u001b[34m\u001b[1mtrain: \u001b[0mWARNING ⚠️ /teamspace/studios/this_studio/dataset/train/images/378_jpg.rf.5e2ab4139f04f0fb1b25bb1303b4153c.jpg: ignoring corrupt image/label: non-normalized or out of bounds coordinates [     1.0001]\n",
      "\u001b[34m\u001b[1mtrain: \u001b[0mWARNING ⚠️ /teamspace/studios/this_studio/dataset/train/images/378_jpg.rf.a09e5e6d00421677bc151d882b405b6e.jpg: ignoring corrupt image/label: non-normalized or out of bounds coordinates [     1.0001]\n",
      "\u001b[34m\u001b[1mtrain: \u001b[0mWARNING ⚠️ /teamspace/studios/this_studio/dataset/train/images/378_png.rf.73d8ac2115ace9da7d7bbee67b6a89aa.jpg: ignoring corrupt image/label: non-normalized or out of bounds coordinates [     1.0023      1.0001]\n",
      "\u001b[34m\u001b[1mtrain: \u001b[0mWARNING ⚠️ /teamspace/studios/this_studio/dataset/train/images/378_png.rf.ccae8c6c0234e451da97e617e7f79d99.jpg: ignoring corrupt image/label: non-normalized or out of bounds coordinates [     1.0023      1.0001]\n",
      "\u001b[34m\u001b[1mtrain: \u001b[0mWARNING ⚠️ /teamspace/studios/this_studio/dataset/train/images/399_png.rf.75ce4435ed2af1a8163b30a8c3a68ff2.jpg: ignoring corrupt image/label: non-normalized or out of bounds coordinates [     1.0005      1.0006]\n",
      "\u001b[34m\u001b[1mtrain: \u001b[0mWARNING ⚠️ /teamspace/studios/this_studio/dataset/train/images/399_png.rf.b1638cf4c537bfb47e06f5cbded642fd.jpg: ignoring corrupt image/label: non-normalized or out of bounds coordinates [     1.0006      1.0005]\n",
      "\u001b[34m\u001b[1mtrain: \u001b[0mWARNING ⚠️ /teamspace/studios/this_studio/dataset/train/images/3_png.rf.471cdb53502b0bbc9f1fed1bcaa66beb.jpg: ignoring corrupt image/label: non-normalized or out of bounds coordinates [     1.0024]\n",
      "\u001b[34m\u001b[1mtrain: \u001b[0mWARNING ⚠️ /teamspace/studios/this_studio/dataset/train/images/400_png.rf.87adfc8c7f56ec27fc4c27510e1fa9a9.jpg: ignoring corrupt image/label: non-normalized or out of bounds coordinates [     1.0167]\n",
      "\u001b[34m\u001b[1mtrain: \u001b[0mWARNING ⚠️ /teamspace/studios/this_studio/dataset/train/images/402_png.rf.371e3c8fb7724ed8c57b96f2c0474752.jpg: ignoring corrupt image/label: non-normalized or out of bounds coordinates [     1.0023]\n",
      "\u001b[34m\u001b[1mtrain: \u001b[0mWARNING ⚠️ /teamspace/studios/this_studio/dataset/train/images/402_png.rf.ab3eefad20b5d82588b3c6382de3337d.jpg: ignoring corrupt image/label: non-normalized or out of bounds coordinates [     1.0023]\n",
      "\u001b[34m\u001b[1mtrain: \u001b[0mWARNING ⚠️ /teamspace/studios/this_studio/dataset/train/images/404_png.rf.3ffd7a5dd8e6037053e10841a0ffefa1.jpg: ignoring corrupt image/label: non-normalized or out of bounds coordinates [     1.1467]\n",
      "\u001b[34m\u001b[1mtrain: \u001b[0mWARNING ⚠️ /teamspace/studios/this_studio/dataset/train/images/404_png.rf.66a8fe059450209c79e07fc300a492c4.jpg: ignoring corrupt image/label: non-normalized or out of bounds coordinates [     1.1467]\n",
      "\u001b[34m\u001b[1mtrain: \u001b[0mWARNING ⚠️ /teamspace/studios/this_studio/dataset/train/images/434_png.rf.36330af138736799fd4599401601f202.jpg: ignoring corrupt image/label: non-normalized or out of bounds coordinates [     1.2185]\n",
      "\u001b[34m\u001b[1mtrain: \u001b[0mWARNING ⚠️ /teamspace/studios/this_studio/dataset/train/images/434_png.rf.4298372fede6a8e8e8e8e3f90e1c683b.jpg: ignoring corrupt image/label: non-normalized or out of bounds coordinates [      1.218]\n",
      "\u001b[34m\u001b[1mtrain: \u001b[0mWARNING ⚠️ /teamspace/studios/this_studio/dataset/train/images/452_png.rf.41d2c71362c56fe714522f2aeb637c38.jpg: ignoring corrupt image/label: non-normalized or out of bounds coordinates [     1.0999]\n",
      "\u001b[34m\u001b[1mtrain: \u001b[0mWARNING ⚠️ /teamspace/studios/this_studio/dataset/train/images/452_png.rf.57799efd4fdb1c757e5dfcdca61698ce.jpg: ignoring corrupt image/label: non-normalized or out of bounds coordinates [     1.0973]\n",
      "\u001b[34m\u001b[1mtrain: \u001b[0mWARNING ⚠️ /teamspace/studios/this_studio/dataset/train/images/452_png.rf.f4da4b51cdd591a406c9f471b1b84815.jpg: ignoring corrupt image/label: non-normalized or out of bounds coordinates [     1.0999]\n",
      "\u001b[34m\u001b[1mtrain: \u001b[0mWARNING ⚠️ /teamspace/studios/this_studio/dataset/train/images/476_png.rf.4fa56540df98d61bca3f150adddf009b.jpg: ignoring corrupt image/label: non-normalized or out of bounds coordinates [     1.1691]\n",
      "\u001b[34m\u001b[1mtrain: \u001b[0mWARNING ⚠️ /teamspace/studios/this_studio/dataset/train/images/476_png.rf.6289e5b1e2869a33a1e54b7e82c3cda7.jpg: ignoring corrupt image/label: non-normalized or out of bounds coordinates [     1.1691]\n",
      "\u001b[34m\u001b[1mtrain: \u001b[0mWARNING ⚠️ /teamspace/studios/this_studio/dataset/train/images/476_png.rf.ea2e444b06224fd7294b15c666316140.jpg: ignoring corrupt image/label: non-normalized or out of bounds coordinates [     1.1691]\n",
      "\u001b[34m\u001b[1mtrain: \u001b[0mWARNING ⚠️ /teamspace/studios/this_studio/dataset/train/images/483_png.rf.1c8d619f2bb85ca75f3c251798c30369.jpg: ignoring corrupt image/label: non-normalized or out of bounds coordinates [     1.0012]\n",
      "\u001b[34m\u001b[1mtrain: \u001b[0mWARNING ⚠️ /teamspace/studios/this_studio/dataset/train/images/483_png.rf.7cd03ac5e03f35689c9599dfe789874c.jpg: ignoring corrupt image/label: non-normalized or out of bounds coordinates [     1.0012]\n",
      "\u001b[34m\u001b[1mtrain: \u001b[0mWARNING ⚠️ /teamspace/studios/this_studio/dataset/train/images/504_png.rf.e365e9d547f820896b387072a189fcdf.jpg: ignoring corrupt image/label: non-normalized or out of bounds coordinates [      1.004]\n",
      "\u001b[34m\u001b[1mtrain: \u001b[0mWARNING ⚠️ /teamspace/studios/this_studio/dataset/train/images/508_jpg.rf.7f3eceea05faea31a86d7f55b2a4d420.jpg: ignoring corrupt image/label: non-normalized or out of bounds coordinates [      1.001]\n",
      "\u001b[34m\u001b[1mtrain: \u001b[0mWARNING ⚠️ /teamspace/studios/this_studio/dataset/train/images/509_png.rf.1dbbb93377dbb95a9f4696b67fbf5e9d.jpg: ignoring corrupt image/label: non-normalized or out of bounds coordinates [      1.259]\n",
      "\u001b[34m\u001b[1mtrain: \u001b[0mWARNING ⚠️ /teamspace/studios/this_studio/dataset/train/images/509_png.rf.8f4bd825598c4cfee77d630cebacfb89.jpg: ignoring corrupt image/label: non-normalized or out of bounds coordinates [      1.259]\n",
      "\u001b[34m\u001b[1mtrain: \u001b[0mWARNING ⚠️ /teamspace/studios/this_studio/dataset/train/images/510_png.rf.1532c35b607ce8f7244fb93e7b0502c5.jpg: ignoring corrupt image/label: non-normalized or out of bounds coordinates [     1.0044]\n",
      "\u001b[34m\u001b[1mtrain: \u001b[0mWARNING ⚠️ /teamspace/studios/this_studio/dataset/train/images/510_png.rf.aac8b7312a473f2d368672e28c2e5aed.jpg: ignoring corrupt image/label: non-normalized or out of bounds coordinates [     1.0044]\n",
      "\u001b[34m\u001b[1mtrain: \u001b[0mWARNING ⚠️ /teamspace/studios/this_studio/dataset/train/images/512_jpg.rf.3f7dad5e5474444da44ae3c3d2d0a406.jpg: ignoring corrupt image/label: non-normalized or out of bounds coordinates [          1]\n",
      "\u001b[34m\u001b[1mtrain: \u001b[0mWARNING ⚠️ /teamspace/studios/this_studio/dataset/train/images/512_jpg.rf.b57def9bd39b520770c85d34c27cf4f5.jpg: ignoring corrupt image/label: non-normalized or out of bounds coordinates [          1]\n",
      "\u001b[34m\u001b[1mtrain: \u001b[0mWARNING ⚠️ /teamspace/studios/this_studio/dataset/train/images/517_jpg.rf.22b294e321477e271ef9669f01dc4950.jpg: ignoring corrupt image/label: non-normalized or out of bounds coordinates [     1.0005]\n",
      "\u001b[34m\u001b[1mtrain: \u001b[0mWARNING ⚠️ /teamspace/studios/this_studio/dataset/train/images/517_jpg.rf.32e1b03189d2ca1a687ad3110afe58d6.jpg: ignoring corrupt image/label: non-normalized or out of bounds coordinates [     1.0005]\n",
      "\u001b[34m\u001b[1mtrain: \u001b[0mWARNING ⚠️ /teamspace/studios/this_studio/dataset/train/images/517_jpg.rf.645d83bd264484f9f1d91b49e34249e0.jpg: ignoring corrupt image/label: non-normalized or out of bounds coordinates [     1.0005]\n",
      "\u001b[34m\u001b[1mtrain: \u001b[0mWARNING ⚠️ /teamspace/studios/this_studio/dataset/train/images/520_png.rf.2840b742944f131da4cb85df80010f63.jpg: ignoring corrupt image/label: non-normalized or out of bounds coordinates [     1.0217]\n",
      "\u001b[34m\u001b[1mtrain: \u001b[0mWARNING ⚠️ /teamspace/studios/this_studio/dataset/train/images/520_png.rf.2fa5a675f983703a502b84cd791c8c6a.jpg: ignoring corrupt image/label: non-normalized or out of bounds coordinates [     1.0217]\n",
      "\u001b[34m\u001b[1mtrain: \u001b[0mWARNING ⚠️ /teamspace/studios/this_studio/dataset/train/images/520_png.rf.d0ac3c3ac15e1448fcc901ecf742e890.jpg: ignoring corrupt image/label: non-normalized or out of bounds coordinates [     1.0275]\n",
      "\u001b[34m\u001b[1mtrain: \u001b[0mWARNING ⚠️ /teamspace/studios/this_studio/dataset/train/images/524_png.rf.3a09463ac203f16b76ab3e8b2d631ad6.jpg: ignoring corrupt image/label: non-normalized or out of bounds coordinates [     1.0417]\n",
      "\u001b[34m\u001b[1mtrain: \u001b[0mWARNING ⚠️ /teamspace/studios/this_studio/dataset/train/images/524_png.rf.9dc7147cb0d50dbbeb18edd662d86f60.jpg: ignoring corrupt image/label: non-normalized or out of bounds coordinates [      1.041]\n",
      "\u001b[34m\u001b[1mtrain: \u001b[0mWARNING ⚠️ /teamspace/studios/this_studio/dataset/train/images/524_png.rf.ea6ad90e3a71e9ee3c9a3d2f3ffa7fe2.jpg: ignoring corrupt image/label: non-normalized or out of bounds coordinates [     1.0417]\n",
      "\u001b[34m\u001b[1mtrain: \u001b[0mWARNING ⚠️ /teamspace/studios/this_studio/dataset/train/images/531_png.rf.6f0c2d0c588d9b2834f5d0477caa1e79.jpg: ignoring corrupt image/label: non-normalized or out of bounds coordinates [     1.0352]\n",
      "\u001b[34m\u001b[1mtrain: \u001b[0mWARNING ⚠️ /teamspace/studios/this_studio/dataset/train/images/531_png.rf.8d0e0ab4503c3ee6fe01ac847bda2d41.jpg: ignoring corrupt image/label: non-normalized or out of bounds coordinates [     1.0352]\n",
      "\u001b[34m\u001b[1mtrain: \u001b[0mWARNING ⚠️ /teamspace/studios/this_studio/dataset/train/images/53_jpg.rf.38a042cf4408043798e3153d4ed0f4ae.jpg: ignoring corrupt image/label: non-normalized or out of bounds coordinates [     1.0141]\n",
      "\u001b[34m\u001b[1mtrain: \u001b[0mWARNING ⚠️ /teamspace/studios/this_studio/dataset/train/images/53_jpg.rf.50bae3fffd71ca69d9103ae162ff9d82.jpg: ignoring corrupt image/label: non-normalized or out of bounds coordinates [     1.0141]\n",
      "\u001b[34m\u001b[1mtrain: \u001b[0mWARNING ⚠️ /teamspace/studios/this_studio/dataset/train/images/53_png.rf.76b22b7f1f0e5b35558a9413e677f67c.jpg: ignoring corrupt image/label: non-normalized or out of bounds coordinates [     1.1708]\n",
      "\u001b[34m\u001b[1mtrain: \u001b[0mWARNING ⚠️ /teamspace/studios/this_studio/dataset/train/images/53_png.rf.b43cdbfb136dcd2a09a667af2a186026.jpg: ignoring corrupt image/label: non-normalized or out of bounds coordinates [     1.1708]\n",
      "\u001b[34m\u001b[1mtrain: \u001b[0mWARNING ⚠️ /teamspace/studios/this_studio/dataset/train/images/53_png.rf.bccdcbf0bd05697f9f24a77271af7269.jpg: ignoring corrupt image/label: non-normalized or out of bounds coordinates [      1.171]\n",
      "\u001b[34m\u001b[1mtrain: \u001b[0mWARNING ⚠️ /teamspace/studios/this_studio/dataset/train/images/557_png.rf.4391454e497c5c40114c078d45c4fedb.jpg: ignoring corrupt image/label: non-normalized or out of bounds coordinates [     1.1347]\n",
      "\u001b[34m\u001b[1mtrain: \u001b[0mWARNING ⚠️ /teamspace/studios/this_studio/dataset/train/images/557_png.rf.44f39893a467c99a07b0062a3f60a76a.jpg: ignoring corrupt image/label: non-normalized or out of bounds coordinates [     1.1347]\n",
      "\u001b[34m\u001b[1mtrain: \u001b[0mWARNING ⚠️ /teamspace/studios/this_studio/dataset/train/images/557_png.rf.65e582ac3cb6b6d498ed6c5471c0455e.jpg: ignoring corrupt image/label: non-normalized or out of bounds coordinates [     1.1347]\n",
      "\u001b[34m\u001b[1mtrain: \u001b[0mWARNING ⚠️ /teamspace/studios/this_studio/dataset/train/images/569_png.rf.182965bbc66dad4ccfb13cf8084577bb.jpg: ignoring corrupt image/label: non-normalized or out of bounds coordinates [     1.1931]\n",
      "\u001b[34m\u001b[1mtrain: \u001b[0mWARNING ⚠️ /teamspace/studios/this_studio/dataset/train/images/569_png.rf.1c2df589e1a3254e31b902955b418667.jpg: ignoring corrupt image/label: non-normalized or out of bounds coordinates [     1.2143]\n",
      "\u001b[34m\u001b[1mtrain: \u001b[0mWARNING ⚠️ /teamspace/studios/this_studio/dataset/train/images/569_png.rf.bad0e9a8c17ee3108cba3225f691fcb4.jpg: ignoring corrupt image/label: non-normalized or out of bounds coordinates [     1.1931]\n",
      "\u001b[34m\u001b[1mtrain: \u001b[0mWARNING ⚠️ /teamspace/studios/this_studio/dataset/train/images/57_jpg.rf.0251c2f5e7ee1de69924a98841d8be22.jpg: ignoring corrupt image/label: non-normalized or out of bounds coordinates [     1.0009]\n",
      "\u001b[34m\u001b[1mtrain: \u001b[0mWARNING ⚠️ /teamspace/studios/this_studio/dataset/train/images/57_jpg.rf.0ee7a9762af9cba50d7ea205dc0199f7.jpg: ignoring corrupt image/label: non-normalized or out of bounds coordinates [     1.0009]\n",
      "\u001b[34m\u001b[1mtrain: \u001b[0mWARNING ⚠️ /teamspace/studios/this_studio/dataset/train/images/57_jpg.rf.b18f41968d0f1508c620b51877d4aeac.jpg: ignoring corrupt image/label: non-normalized or out of bounds coordinates [     1.0009]\n",
      "\u001b[34m\u001b[1mtrain: \u001b[0mWARNING ⚠️ /teamspace/studios/this_studio/dataset/train/images/599_png.rf.1a163e0da0cc5a1da9c44d2b5cdfb3d7.jpg: ignoring corrupt image/label: non-normalized or out of bounds coordinates [     1.1643]\n",
      "\u001b[34m\u001b[1mtrain: \u001b[0mWARNING ⚠️ /teamspace/studios/this_studio/dataset/train/images/599_png.rf.31a2e99874dc39b38a7927a24d7c056b.jpg: ignoring corrupt image/label: non-normalized or out of bounds coordinates [     1.1643]\n",
      "\u001b[34m\u001b[1mtrain: \u001b[0mWARNING ⚠️ /teamspace/studios/this_studio/dataset/train/images/599_png.rf.8af7d43d36375b2eec7c7fd32925ac07.jpg: ignoring corrupt image/label: non-normalized or out of bounds coordinates [     1.1643]\n",
      "\u001b[34m\u001b[1mtrain: \u001b[0mWARNING ⚠️ /teamspace/studios/this_studio/dataset/train/images/59_png.rf.087aaa49a06d033a51cb1d256cf0d1dd.jpg: ignoring corrupt image/label: non-normalized or out of bounds coordinates [     1.1868]\n",
      "\u001b[34m\u001b[1mtrain: \u001b[0mWARNING ⚠️ /teamspace/studios/this_studio/dataset/train/images/59_png.rf.6b7603539c64bc6210824b7374e9d0a7.jpg: ignoring corrupt image/label: non-normalized or out of bounds coordinates [     1.1868]\n",
      "\u001b[34m\u001b[1mtrain: \u001b[0mWARNING ⚠️ /teamspace/studios/this_studio/dataset/train/images/59_png.rf.e26500572e2ae95dd984150fdeb670b0.jpg: ignoring corrupt image/label: non-normalized or out of bounds coordinates [     1.1868]\n",
      "\u001b[34m\u001b[1mtrain: \u001b[0mWARNING ⚠️ /teamspace/studios/this_studio/dataset/train/images/5_jpg.rf.65a2cb189848ba59ca355949fa530669.jpg: ignoring corrupt image/label: non-normalized or out of bounds coordinates [     1.1401]\n",
      "\u001b[34m\u001b[1mtrain: \u001b[0mWARNING ⚠️ /teamspace/studios/this_studio/dataset/train/images/5_jpg.rf.c884ce1493d4b864d53e52243234b1b5.jpg: ignoring corrupt image/label: non-normalized or out of bounds coordinates [     1.1401]\n",
      "\u001b[34m\u001b[1mtrain: \u001b[0mWARNING ⚠️ /teamspace/studios/this_studio/dataset/train/images/5_jpg.rf.ff2fbdbb2f957a1e12923d19e88443b3.jpg: ignoring corrupt image/label: non-normalized or out of bounds coordinates [     1.1401]\n",
      "\u001b[34m\u001b[1mtrain: \u001b[0mWARNING ⚠️ /teamspace/studios/this_studio/dataset/train/images/602_png.rf.5bb4e9615b6a7e0f5e34c16be9444452.jpg: ignoring corrupt image/label: non-normalized or out of bounds coordinates [     1.1702]\n",
      "\u001b[34m\u001b[1mtrain: \u001b[0mWARNING ⚠️ /teamspace/studios/this_studio/dataset/train/images/602_png.rf.78a2f547d9a1ae6a1500b2d748debd44.jpg: ignoring corrupt image/label: non-normalized or out of bounds coordinates [     1.1702]\n",
      "\u001b[34m\u001b[1mtrain: \u001b[0mWARNING ⚠️ /teamspace/studios/this_studio/dataset/train/images/602_png.rf.b78703816eb798f1845b5066f74ba0af.jpg: ignoring corrupt image/label: non-normalized or out of bounds coordinates [     1.1713]\n",
      "\u001b[34m\u001b[1mtrain: \u001b[0mWARNING ⚠️ /teamspace/studios/this_studio/dataset/train/images/603_jpg.rf.08fabd942c01a2406f46e51614def405.jpg: ignoring corrupt image/label: non-normalized or out of bounds coordinates [     1.0004]\n",
      "\u001b[34m\u001b[1mtrain: \u001b[0mWARNING ⚠️ /teamspace/studios/this_studio/dataset/train/images/603_jpg.rf.52c75174e739898707acbf19c720f7ba.jpg: ignoring corrupt image/label: non-normalized or out of bounds coordinates [     1.0002]\n",
      "\u001b[34m\u001b[1mtrain: \u001b[0mWARNING ⚠️ /teamspace/studios/this_studio/dataset/train/images/603_jpg.rf.7c669ca7665fdc577ef38c646060eefa.jpg: ignoring corrupt image/label: non-normalized or out of bounds coordinates [     1.0004]\n",
      "\u001b[34m\u001b[1mtrain: \u001b[0mWARNING ⚠️ /teamspace/studios/this_studio/dataset/train/images/605_png.rf.1adc8ae601e39665f00b5a275fd69631.jpg: ignoring corrupt image/label: non-normalized or out of bounds coordinates [     1.0444]\n",
      "\u001b[34m\u001b[1mtrain: \u001b[0mWARNING ⚠️ /teamspace/studios/this_studio/dataset/train/images/608_png.rf.03a75d15ddfec2cd2fe6f813adefbc91.jpg: ignoring corrupt image/label: non-normalized or out of bounds coordinates [     1.1503]\n",
      "\u001b[34m\u001b[1mtrain: \u001b[0mWARNING ⚠️ /teamspace/studios/this_studio/dataset/train/images/608_png.rf.72fbe9310a3c2ef3fce62cb34d1e832a.jpg: ignoring corrupt image/label: non-normalized or out of bounds coordinates [     1.1503]\n",
      "\u001b[34m\u001b[1mtrain: \u001b[0mWARNING ⚠️ /teamspace/studios/this_studio/dataset/train/images/614_png.rf.57f62d7aec751ff93b0c24f67ae75eab.jpg: ignoring corrupt image/label: non-normalized or out of bounds coordinates [     1.2995]\n",
      "\u001b[34m\u001b[1mtrain: \u001b[0mWARNING ⚠️ /teamspace/studios/this_studio/dataset/train/images/614_png.rf.aa805eba04d1edf039bbeeec4d86202d.jpg: ignoring corrupt image/label: non-normalized or out of bounds coordinates [     1.2995]\n",
      "\u001b[34m\u001b[1mtrain: \u001b[0mWARNING ⚠️ /teamspace/studios/this_studio/dataset/train/images/614_png.rf.f75ec0e49d38d204363fcdd051566d3a.jpg: ignoring corrupt image/label: non-normalized or out of bounds coordinates [     1.2995]\n",
      "\u001b[34m\u001b[1mtrain: \u001b[0mWARNING ⚠️ /teamspace/studios/this_studio/dataset/train/images/615_png.rf.87a4445e3f3c26476b35b621845510ed.jpg: ignoring corrupt image/label: non-normalized or out of bounds coordinates [     1.0015]\n",
      "\u001b[34m\u001b[1mtrain: \u001b[0mWARNING ⚠️ /teamspace/studios/this_studio/dataset/train/images/615_png.rf.c65eaebf428638cdb74530ecf554e0a0.jpg: ignoring corrupt image/label: non-normalized or out of bounds coordinates [     1.0015]\n",
      "\u001b[34m\u001b[1mtrain: \u001b[0mWARNING ⚠️ /teamspace/studios/this_studio/dataset/train/images/620_png.rf.7122eef6078437b47be6c217df301b66.jpg: ignoring corrupt image/label: non-normalized or out of bounds coordinates [     1.1707]\n",
      "\u001b[34m\u001b[1mtrain: \u001b[0mWARNING ⚠️ /teamspace/studios/this_studio/dataset/train/images/620_png.rf.a7f59de1a43333706be7df2cb70aaee6.jpg: ignoring corrupt image/label: non-normalized or out of bounds coordinates [     1.1649]\n",
      "\u001b[34m\u001b[1mtrain: \u001b[0mWARNING ⚠️ /teamspace/studios/this_studio/dataset/train/images/620_png.rf.e7c940f5d2c422fad67f03f4b7de3535.jpg: ignoring corrupt image/label: non-normalized or out of bounds coordinates [     1.1649]\n",
      "\u001b[34m\u001b[1mtrain: \u001b[0mWARNING ⚠️ /teamspace/studios/this_studio/dataset/train/images/653_png.rf.4885de54700929da0c33c2ee18ff90f6.jpg: ignoring corrupt image/label: non-normalized or out of bounds coordinates [     1.0597]\n",
      "\u001b[34m\u001b[1mtrain: \u001b[0mWARNING ⚠️ /teamspace/studios/this_studio/dataset/train/images/653_png.rf.98f77438fce5325336a1ba4a6bef7e90.jpg: ignoring corrupt image/label: non-normalized or out of bounds coordinates [      1.061]\n",
      "\u001b[34m\u001b[1mtrain: \u001b[0mWARNING ⚠️ /teamspace/studios/this_studio/dataset/train/images/653_png.rf.c0d82996b57efe0984069480aa969d1a.jpg: ignoring corrupt image/label: non-normalized or out of bounds coordinates [      1.061]\n",
      "\u001b[34m\u001b[1mtrain: \u001b[0mWARNING ⚠️ /teamspace/studios/this_studio/dataset/train/images/655_png.rf.3915c8e5058c899e8adb38f8db6d5c24.jpg: ignoring corrupt image/label: non-normalized or out of bounds coordinates [      1.003]\n",
      "\u001b[34m\u001b[1mtrain: \u001b[0mWARNING ⚠️ /teamspace/studios/this_studio/dataset/train/images/655_png.rf.a656392118e2c02ec9ad16a95929cfb7.jpg: ignoring corrupt image/label: non-normalized or out of bounds coordinates [      1.003]\n",
      "\u001b[34m\u001b[1mtrain: \u001b[0mWARNING ⚠️ /teamspace/studios/this_studio/dataset/train/images/665_png.rf.110409085cd7445fb09e03ac52ebc431.jpg: ignoring corrupt image/label: non-normalized or out of bounds coordinates [      1.066]\n",
      "\u001b[34m\u001b[1mtrain: \u001b[0mWARNING ⚠️ /teamspace/studios/this_studio/dataset/train/images/665_png.rf.37bd6ea9b9a0ffe9456b5b8c783d5959.jpg: ignoring corrupt image/label: non-normalized or out of bounds coordinates [      1.066]\n",
      "\u001b[34m\u001b[1mtrain: \u001b[0mWARNING ⚠️ /teamspace/studios/this_studio/dataset/train/images/665_png.rf.df7288be62bf53f31938fa2cb83b9393.jpg: ignoring corrupt image/label: non-normalized or out of bounds coordinates [      1.066]\n",
      "\u001b[34m\u001b[1mtrain: \u001b[0mWARNING ⚠️ /teamspace/studios/this_studio/dataset/train/images/667_jpg.rf.347367a69faf0540b1f054cdf1863c16.jpg: ignoring corrupt image/label: non-normalized or out of bounds coordinates [      1.115]\n",
      "\u001b[34m\u001b[1mtrain: \u001b[0mWARNING ⚠️ /teamspace/studios/this_studio/dataset/train/images/667_jpg.rf.3f2c1d695b4541c5347a858ee4a5869b.jpg: ignoring corrupt image/label: non-normalized or out of bounds coordinates [      1.115]\n",
      "\u001b[34m\u001b[1mtrain: \u001b[0mWARNING ⚠️ /teamspace/studios/this_studio/dataset/train/images/667_jpg.rf.b1402ac026423f818bd4ba40c0e43f2b.jpg: ignoring corrupt image/label: non-normalized or out of bounds coordinates [      1.115]\n",
      "\u001b[34m\u001b[1mtrain: \u001b[0mWARNING ⚠️ /teamspace/studios/this_studio/dataset/train/images/668_jpg.rf.60bae20d3add228b22ff997d3b19f930.jpg: ignoring corrupt image/label: non-normalized or out of bounds coordinates [       1.19]\n",
      "\u001b[34m\u001b[1mtrain: \u001b[0mWARNING ⚠️ /teamspace/studios/this_studio/dataset/train/images/668_jpg.rf.77cc428f9ceb47e186e2665d6e842815.jpg: ignoring corrupt image/label: non-normalized or out of bounds coordinates [     1.1786]\n",
      "\u001b[34m\u001b[1mtrain: \u001b[0mWARNING ⚠️ /teamspace/studios/this_studio/dataset/train/images/668_jpg.rf.c456a72d11d8f8b335c5a62d5cb3e24c.jpg: ignoring corrupt image/label: non-normalized or out of bounds coordinates [       1.19]\n",
      "\u001b[34m\u001b[1mtrain: \u001b[0mWARNING ⚠️ /teamspace/studios/this_studio/dataset/train/images/674_jpg.rf.4140005f945ddd59b36b2c9945ec583f.jpg: ignoring corrupt image/label: non-normalized or out of bounds coordinates [     1.0008]\n",
      "\u001b[34m\u001b[1mtrain: \u001b[0mWARNING ⚠️ /teamspace/studios/this_studio/dataset/train/images/675_png.rf.67635385d01a05b59d9c34b8780e2a2c.jpg: ignoring corrupt image/label: non-normalized or out of bounds coordinates [     1.0054]\n",
      "\u001b[34m\u001b[1mtrain: \u001b[0mWARNING ⚠️ /teamspace/studios/this_studio/dataset/train/images/675_png.rf.7e297b8ed5adefacae93fbd72bd3428a.jpg: ignoring corrupt image/label: non-normalized or out of bounds coordinates [     1.0054]\n",
      "\u001b[34m\u001b[1mtrain: \u001b[0mWARNING ⚠️ /teamspace/studios/this_studio/dataset/train/images/681_jpg.rf.0a58aeb15fc81f27f5cc35f6fff8abae.jpg: ignoring corrupt image/label: non-normalized or out of bounds coordinates [          1]\n",
      "\u001b[34m\u001b[1mtrain: \u001b[0mWARNING ⚠️ /teamspace/studios/this_studio/dataset/train/images/681_jpg.rf.5f37ac373158d743ef2a8fabe2654dcd.jpg: ignoring corrupt image/label: non-normalized or out of bounds coordinates [          1]\n",
      "\u001b[34m\u001b[1mtrain: \u001b[0mWARNING ⚠️ /teamspace/studios/this_studio/dataset/train/images/681_jpg.rf.e4ff56f8b429efd07ee4764b51156821.jpg: ignoring corrupt image/label: non-normalized or out of bounds coordinates [          1]\n",
      "\u001b[34m\u001b[1mtrain: \u001b[0mWARNING ⚠️ /teamspace/studios/this_studio/dataset/train/images/695_png.rf.08e4bd10ddafa00a5b78f374d2932dcf.jpg: ignoring corrupt image/label: non-normalized or out of bounds coordinates [     1.0845]\n",
      "\u001b[34m\u001b[1mtrain: \u001b[0mWARNING ⚠️ /teamspace/studios/this_studio/dataset/train/images/695_png.rf.bffe1043a0d6303dc58f053b67329ad6.jpg: ignoring corrupt image/label: non-normalized or out of bounds coordinates [     1.0845]\n",
      "\u001b[34m\u001b[1mtrain: \u001b[0mWARNING ⚠️ /teamspace/studios/this_studio/dataset/train/images/695_png.rf.caf8390cf856a7052bf21308fb457a2b.jpg: ignoring corrupt image/label: non-normalized or out of bounds coordinates [     1.0845]\n",
      "\u001b[34m\u001b[1mtrain: \u001b[0mWARNING ⚠️ /teamspace/studios/this_studio/dataset/train/images/6_jpg.rf.dcc68a4f114fa617ec4391f06ac275c1.jpg: ignoring corrupt image/label: non-normalized or out of bounds coordinates [     1.0375]\n",
      "\u001b[34m\u001b[1mtrain: \u001b[0mWARNING ⚠️ /teamspace/studios/this_studio/dataset/train/images/702_png.rf.252cf64beb88c67e3d66d1f99a0e81f1.jpg: ignoring corrupt image/label: non-normalized or out of bounds coordinates [     1.0046]\n",
      "\u001b[34m\u001b[1mtrain: \u001b[0mWARNING ⚠️ /teamspace/studios/this_studio/dataset/train/images/702_png.rf.8a835da77f6e41fb13a5e0788dcf96f7.jpg: ignoring corrupt image/label: non-normalized or out of bounds coordinates [     1.0046]\n",
      "\u001b[34m\u001b[1mtrain: \u001b[0mWARNING ⚠️ /teamspace/studios/this_studio/dataset/train/images/707_jpg.rf.3c09d637c59fc09a31e4ddcf80518f20.jpg: ignoring corrupt image/label: non-normalized or out of bounds coordinates [     1.0005]\n",
      "\u001b[34m\u001b[1mtrain: \u001b[0mWARNING ⚠️ /teamspace/studios/this_studio/dataset/train/images/707_jpg.rf.b6f949bfaf7180f9938cebfe9f54d95c.jpg: ignoring corrupt image/label: non-normalized or out of bounds coordinates [     1.0003]\n",
      "\u001b[34m\u001b[1mtrain: \u001b[0mWARNING ⚠️ /teamspace/studios/this_studio/dataset/train/images/707_jpg.rf.e1298759eee2645adb2669a721e73176.jpg: ignoring corrupt image/label: non-normalized or out of bounds coordinates [     1.0003]\n",
      "\u001b[34m\u001b[1mtrain: \u001b[0mWARNING ⚠️ /teamspace/studios/this_studio/dataset/train/images/716_jpg.rf.8d4b57fa6add13145ccdd58891120c41.jpg: ignoring corrupt image/label: non-normalized or out of bounds coordinates [     1.0004      1.0001]\n",
      "\u001b[34m\u001b[1mtrain: \u001b[0mWARNING ⚠️ /teamspace/studios/this_studio/dataset/train/images/716_jpg.rf.a96cfd2469b052a0903ac04a3b080a77.jpg: ignoring corrupt image/label: non-normalized or out of bounds coordinates [     1.0004      1.0001]\n",
      "\u001b[34m\u001b[1mtrain: \u001b[0mWARNING ⚠️ /teamspace/studios/this_studio/dataset/train/images/716_jpg.rf.b643d1bebbcf33dc42d77963276d44ed.jpg: ignoring corrupt image/label: non-normalized or out of bounds coordinates [     1.0001]\n",
      "\u001b[34m\u001b[1mtrain: \u001b[0mWARNING ⚠️ /teamspace/studios/this_studio/dataset/train/images/717_png.rf.996f4253645853e8a538b6ecae0bd1ad.jpg: ignoring corrupt image/label: non-normalized or out of bounds coordinates [     1.0003]\n",
      "\u001b[34m\u001b[1mtrain: \u001b[0mWARNING ⚠️ /teamspace/studios/this_studio/dataset/train/images/717_png.rf.af933e4e060ac199f4190f07cc9556c5.jpg: ignoring corrupt image/label: non-normalized or out of bounds coordinates [     1.0002]\n",
      "\u001b[34m\u001b[1mtrain: \u001b[0mWARNING ⚠️ /teamspace/studios/this_studio/dataset/train/images/7_jpg.rf.162fc77a9ca31e848151cf9a5e130df0.jpg: ignoring corrupt image/label: non-normalized or out of bounds coordinates [     1.0009]\n",
      "\u001b[34m\u001b[1mtrain: \u001b[0mWARNING ⚠️ /teamspace/studios/this_studio/dataset/train/images/7_jpg.rf.8a79aac332ae9c5b0f82d05bb6212926.jpg: ignoring corrupt image/label: non-normalized or out of bounds coordinates [     1.0009]\n",
      "\u001b[34m\u001b[1mtrain: \u001b[0mWARNING ⚠️ /teamspace/studios/this_studio/dataset/train/images/7_jpg.rf.95506f66a37a2b7db2b4e1847f787358.jpg: ignoring corrupt image/label: non-normalized or out of bounds coordinates [     1.0216]\n",
      "\u001b[34m\u001b[1mtrain: \u001b[0mWARNING ⚠️ /teamspace/studios/this_studio/dataset/train/images/847_jpg.rf.7a620792cfdbf172fa625109213da946.jpg: ignoring corrupt image/label: non-normalized or out of bounds coordinates [     1.0001]\n",
      "\u001b[34m\u001b[1mtrain: \u001b[0mWARNING ⚠️ /teamspace/studios/this_studio/dataset/train/images/847_jpg.rf.9e906b99143ad616787629593c848013.jpg: ignoring corrupt image/label: non-normalized or out of bounds coordinates [     1.0001]\n",
      "\u001b[34m\u001b[1mtrain: \u001b[0mWARNING ⚠️ /teamspace/studios/this_studio/dataset/train/images/847_jpg.rf.bec8d7ce9fc6892f25e6ac075b9e7374.jpg: ignoring corrupt image/label: non-normalized or out of bounds coordinates [     1.0001]\n",
      "\u001b[34m\u001b[1mtrain: \u001b[0mWARNING ⚠️ /teamspace/studios/this_studio/dataset/train/images/859_jpg.rf.4b620de62b1e8345999cdb87a217f359.jpg: ignoring corrupt image/label: non-normalized or out of bounds coordinates [     1.0008      1.0003]\n",
      "\u001b[34m\u001b[1mtrain: \u001b[0mWARNING ⚠️ /teamspace/studios/this_studio/dataset/train/images/859_jpg.rf.cd7418b43fc8e03a5a339ab7e60ed176.jpg: ignoring corrupt image/label: non-normalized or out of bounds coordinates [     1.0008      1.0003]\n",
      "\u001b[34m\u001b[1mtrain: \u001b[0mWARNING ⚠️ /teamspace/studios/this_studio/dataset/train/images/864_jpg.rf.77267562369370f9c19dae545ba15004.jpg: ignoring corrupt image/label: non-normalized or out of bounds coordinates [     1.0008]\n",
      "\u001b[34m\u001b[1mtrain: \u001b[0mWARNING ⚠️ /teamspace/studios/this_studio/dataset/train/images/864_jpg.rf.7ea519065ba627928f041ca65cb30875.jpg: ignoring corrupt image/label: non-normalized or out of bounds coordinates [     1.0008]\n",
      "\u001b[34m\u001b[1mtrain: \u001b[0mWARNING ⚠️ /teamspace/studios/this_studio/dataset/train/images/864_jpg.rf.84a77cc282ca28eb956531383c194cdc.jpg: ignoring corrupt image/label: non-normalized or out of bounds coordinates [     1.0008]\n",
      "\u001b[34m\u001b[1mtrain: \u001b[0mWARNING ⚠️ /teamspace/studios/this_studio/dataset/train/images/878_jpg.rf.45d099ed88c702ace6751b3c7833e12a.jpg: ignoring corrupt image/label: non-normalized or out of bounds coordinates [     1.3094      1.3833]\n",
      "\u001b[34m\u001b[1mtrain: \u001b[0mWARNING ⚠️ /teamspace/studios/this_studio/dataset/train/images/878_jpg.rf.df16805d7a86e0ae70d7b46c66299903.jpg: ignoring corrupt image/label: non-normalized or out of bounds coordinates [     1.3764      1.3177]\n",
      "\u001b[34m\u001b[1mtrain: \u001b[0mWARNING ⚠️ /teamspace/studios/this_studio/dataset/train/images/878_jpg.rf.e033ebf2c69624b6a5e1820d7f953229.jpg: ignoring corrupt image/label: non-normalized or out of bounds coordinates [     1.3094      1.3833]\n",
      "\u001b[34m\u001b[1mtrain: \u001b[0mWARNING ⚠️ /teamspace/studios/this_studio/dataset/train/images/883_jpg.rf.c0832ac801049dd85bba47defca4b0c1.jpg: ignoring corrupt image/label: non-normalized or out of bounds coordinates [          1]\n",
      "\u001b[34m\u001b[1mtrain: \u001b[0mWARNING ⚠️ /teamspace/studios/this_studio/dataset/train/images/883_jpg.rf.cf4f11cde0afaab4b1e03921a2be4902.jpg: ignoring corrupt image/label: non-normalized or out of bounds coordinates [          1]\n",
      "\u001b[34m\u001b[1mtrain: \u001b[0mWARNING ⚠️ /teamspace/studios/this_studio/dataset/train/images/883_jpg.rf.ffaf396903c986e71505e904bd1c14e7.jpg: ignoring corrupt image/label: non-normalized or out of bounds coordinates [          1]\n",
      "\u001b[34m\u001b[1mtrain: \u001b[0mWARNING ⚠️ /teamspace/studios/this_studio/dataset/train/images/884_jpg.rf.5b2ce6aefd2110e20e4c9e555f00e073.jpg: ignoring corrupt image/label: non-normalized or out of bounds coordinates [     1.0006]\n",
      "\u001b[34m\u001b[1mtrain: \u001b[0mWARNING ⚠️ /teamspace/studios/this_studio/dataset/train/images/889_jpg.rf.3a397ef7db8e33ba266e52b1325ce4b4.jpg: ignoring corrupt image/label: non-normalized or out of bounds coordinates [     1.0008]\n",
      "\u001b[34m\u001b[1mtrain: \u001b[0mWARNING ⚠️ /teamspace/studios/this_studio/dataset/train/images/890_jpg.rf.b8140c1afe89f956d7c5d403a9992348.jpg: ignoring corrupt image/label: non-normalized or out of bounds coordinates [     1.0882]\n",
      "\u001b[34m\u001b[1mtrain: \u001b[0mWARNING ⚠️ /teamspace/studios/this_studio/dataset/train/images/890_jpg.rf.dd19b52f47d950e3f995a0427d741fb9.jpg: ignoring corrupt image/label: non-normalized or out of bounds coordinates [     1.0015]\n",
      "\u001b[34m\u001b[1mtrain: \u001b[0mWARNING ⚠️ /teamspace/studios/this_studio/dataset/train/images/895_jpg.rf.0cfe0260474366c96b188ecbde26a6e7.jpg: ignoring corrupt image/label: non-normalized or out of bounds coordinates [     1.0004]\n",
      "\u001b[34m\u001b[1mtrain: \u001b[0mWARNING ⚠️ /teamspace/studios/this_studio/dataset/train/images/895_jpg.rf.c3406f1875bdec19218e74d8beb8c11a.jpg: ignoring corrupt image/label: non-normalized or out of bounds coordinates [     1.0004]\n",
      "\u001b[34m\u001b[1mtrain: \u001b[0mWARNING ⚠️ /teamspace/studios/this_studio/dataset/train/images/904_jpg.rf.870bcfe02b6342db1b258d27f233002d.jpg: ignoring corrupt image/label: non-normalized or out of bounds coordinates [          1]\n",
      "\u001b[34m\u001b[1mtrain: \u001b[0mWARNING ⚠️ /teamspace/studios/this_studio/dataset/train/images/904_jpg.rf.b92f1e3f2360e2f149d526dd54ce93d5.jpg: ignoring corrupt image/label: non-normalized or out of bounds coordinates [          1]\n",
      "\u001b[34m\u001b[1mtrain: \u001b[0mWARNING ⚠️ /teamspace/studios/this_studio/dataset/train/images/919_jpg.rf.50abcc62fa7a55347913d95f8ebb6f0c.jpg: ignoring corrupt image/label: non-normalized or out of bounds coordinates [     1.0004]\n",
      "\u001b[34m\u001b[1mtrain: \u001b[0mWARNING ⚠️ /teamspace/studios/this_studio/dataset/train/images/919_jpg.rf.801315a38b17f3f18aa329e799fa3f23.jpg: ignoring corrupt image/label: non-normalized or out of bounds coordinates [     1.0004]\n",
      "\u001b[34m\u001b[1mtrain: \u001b[0mWARNING ⚠️ /teamspace/studios/this_studio/dataset/train/images/923_jpg.rf.30934edf141b00859cd4b93feb1ec995.jpg: ignoring corrupt image/label: non-normalized or out of bounds coordinates [     1.0018]\n",
      "\u001b[34m\u001b[1mtrain: \u001b[0mWARNING ⚠️ /teamspace/studios/this_studio/dataset/train/images/923_jpg.rf.52e09a52994a91a7c13d61721b92761d.jpg: ignoring corrupt image/label: non-normalized or out of bounds coordinates [     1.0012]\n",
      "\u001b[34m\u001b[1mtrain: \u001b[0mWARNING ⚠️ /teamspace/studios/this_studio/dataset/train/images/923_jpg.rf.d67a60805b4927b71c6907f63a0e3695.jpg: ignoring corrupt image/label: non-normalized or out of bounds coordinates [     1.0012]\n",
      "\u001b[34m\u001b[1mtrain: \u001b[0mWARNING ⚠️ /teamspace/studios/this_studio/dataset/train/images/929_jpg.rf.427a7933f41a26420b2f15ab06ac36ed.jpg: ignoring corrupt image/label: non-normalized or out of bounds coordinates [     1.0002]\n",
      "\u001b[34m\u001b[1mtrain: \u001b[0mWARNING ⚠️ /teamspace/studios/this_studio/dataset/train/images/929_jpg.rf.f254d9f8fdfc1fc516eb2946985eedd2.jpg: ignoring corrupt image/label: non-normalized or out of bounds coordinates [     1.0002]\n",
      "\u001b[34m\u001b[1mtrain: \u001b[0mWARNING ⚠️ /teamspace/studios/this_studio/dataset/train/images/936_jpg.rf.3c5d32aae56fc2c3c4b9fbea7c5c56dd.jpg: ignoring corrupt image/label: non-normalized or out of bounds coordinates [     1.0005]\n",
      "\u001b[34m\u001b[1mtrain: \u001b[0mWARNING ⚠️ /teamspace/studios/this_studio/dataset/train/images/936_jpg.rf.760c39e7d702ba426023212523e63395.jpg: ignoring corrupt image/label: non-normalized or out of bounds coordinates [     1.0005]\n",
      "\u001b[34m\u001b[1mtrain: \u001b[0mWARNING ⚠️ /teamspace/studios/this_studio/dataset/train/images/937_jpg.rf.72dac99558bbeeb2b1b0aa2c43359134.jpg: ignoring corrupt image/label: non-normalized or out of bounds coordinates [     1.0124      1.0301]\n",
      "\u001b[34m\u001b[1mtrain: \u001b[0mWARNING ⚠️ /teamspace/studios/this_studio/dataset/train/images/937_jpg.rf.8af89fdecae848b84737840df3fb7b4e.jpg: ignoring corrupt image/label: non-normalized or out of bounds coordinates [     1.0411]\n",
      "\u001b[34m\u001b[1mtrain: \u001b[0mWARNING ⚠️ /teamspace/studios/this_studio/dataset/train/images/937_jpg.rf.dee15e9643dc5a389e7107b3161a33c8.jpg: ignoring corrupt image/label: non-normalized or out of bounds coordinates [     1.0124      1.0301]\n",
      "\u001b[34m\u001b[1mtrain: \u001b[0mWARNING ⚠️ /teamspace/studios/this_studio/dataset/train/images/94_jpg.rf.5c2066ae4102b33720caf5d354fad759.jpg: ignoring corrupt image/label: non-normalized or out of bounds coordinates [     1.2102]\n",
      "\u001b[34m\u001b[1mtrain: \u001b[0mWARNING ⚠️ /teamspace/studios/this_studio/dataset/train/images/94_jpg.rf.cf0028ddd1eed404fe025a08f1afb1c1.jpg: ignoring corrupt image/label: non-normalized or out of bounds coordinates [     1.2102]\n",
      "\u001b[34m\u001b[1mtrain: \u001b[0mWARNING ⚠️ /teamspace/studios/this_studio/dataset/train/images/972_jpg.rf.a1cbaa300ee982ba42b7f486294c8148.jpg: ignoring corrupt image/label: non-normalized or out of bounds coordinates [     1.0007]\n",
      "\u001b[34m\u001b[1mtrain: \u001b[0mWARNING ⚠️ /teamspace/studios/this_studio/dataset/train/images/972_jpg.rf.e1a2e2f6642dc298e4f1c173fae6cf44.jpg: ignoring corrupt image/label: non-normalized or out of bounds coordinates [     1.0007]\n",
      "\u001b[34m\u001b[1mtrain: \u001b[0mWARNING ⚠️ /teamspace/studios/this_studio/dataset/train/images/972_jpg.rf.e2e8181352c4d7f88d5f1429fe8c4ee4.jpg: ignoring corrupt image/label: non-normalized or out of bounds coordinates [     1.0007]\n",
      "\u001b[34m\u001b[1mtrain: \u001b[0mWARNING ⚠️ /teamspace/studios/this_studio/dataset/train/images/976_jpg.rf.1b7616f296e5b82daf4dd1b4dc1c417f.jpg: ignoring corrupt image/label: non-normalized or out of bounds coordinates [     1.0006]\n",
      "\u001b[34m\u001b[1mtrain: \u001b[0mWARNING ⚠️ /teamspace/studios/this_studio/dataset/train/images/976_jpg.rf.256f478acc2a8858e3dc4741ffd42362.jpg: ignoring corrupt image/label: non-normalized or out of bounds coordinates [     1.0004]\n",
      "\u001b[34m\u001b[1mtrain: \u001b[0mWARNING ⚠️ /teamspace/studios/this_studio/dataset/train/images/976_jpg.rf.4eb7fcaa3dff261695a5718ca3527e4f.jpg: ignoring corrupt image/label: non-normalized or out of bounds coordinates [     1.0004]\n",
      "\u001b[34m\u001b[1mtrain: \u001b[0mWARNING ⚠️ /teamspace/studios/this_studio/dataset/train/images/991_jpg.rf.485c3a91a5c5fd7d19aee47f11354de3.jpg: ignoring corrupt image/label: non-normalized or out of bounds coordinates [     1.0258]\n",
      "\u001b[34m\u001b[1mtrain: \u001b[0mWARNING ⚠️ /teamspace/studios/this_studio/dataset/train/images/991_jpg.rf.b2e30c1985d63173826b61e9cbb1b6c6.jpg: ignoring corrupt image/label: non-normalized or out of bounds coordinates [     1.0258]\n",
      "\u001b[34m\u001b[1mtrain: \u001b[0mWARNING ⚠️ /teamspace/studios/this_studio/dataset/train/images/998_jpg.rf.4037b5e791026527d26895862f657620.jpg: ignoring corrupt image/label: non-normalized or out of bounds coordinates [     1.0014]\n"
     ]
    },
    {
     "name": "stderr",
     "output_type": "stream",
     "text": [
      "\n"
     ]
    },
    {
     "name": "stdout",
     "output_type": "stream",
     "text": [
      "\u001b[34m\u001b[1mtrain: \u001b[0mNew cache created: /teamspace/studios/this_studio/dataset/train/labels.cache\n"
     ]
    },
    {
     "name": "stderr",
     "output_type": "stream",
     "text": [
      "\u001b[34m\u001b[1mval: \u001b[0mScanning /teamspace/studios/this_studio/dataset/valid/labels... 434 images, 0 backgrounds, 66 corrupt: 100%|██████████| 434/434 [00:00<00:00, 1127.82it/s]"
     ]
    },
    {
     "name": "stdout",
     "output_type": "stream",
     "text": [
      "\u001b[34m\u001b[1mval: \u001b[0mWARNING ⚠️ /teamspace/studios/this_studio/dataset/valid/images/1-101-_jpg.rf.3cc6ffb8a4eb46308ec3e20b8b502d24.jpg: ignoring corrupt image/label: non-normalized or out of bounds coordinates [     1.1106]\n",
      "\u001b[34m\u001b[1mval: \u001b[0mWARNING ⚠️ /teamspace/studios/this_studio/dataset/valid/images/1-138-_jpg.rf.ccb1e230da6d101bcc319617bcbdc0c3.jpg: ignoring corrupt image/label: non-normalized or out of bounds coordinates [     1.0008]\n",
      "\u001b[34m\u001b[1mval: \u001b[0mWARNING ⚠️ /teamspace/studios/this_studio/dataset/valid/images/1-152-_jpg.rf.c138f87721c733b784dc6eae79fa6138.jpg: ignoring corrupt image/label: non-normalized or out of bounds coordinates [     1.0016]\n",
      "\u001b[34m\u001b[1mval: \u001b[0mWARNING ⚠️ /teamspace/studios/this_studio/dataset/valid/images/1-191-_jpg.rf.e5f365078c1fcd87a78cbb5f54d446ad.jpg: ignoring corrupt image/label: non-normalized or out of bounds coordinates [     1.0007]\n",
      "\u001b[34m\u001b[1mval: \u001b[0mWARNING ⚠️ /teamspace/studios/this_studio/dataset/valid/images/1-243-_jpg.rf.192ee01cb996072b7baddc83a3bfb4e6.jpg: ignoring corrupt image/label: non-normalized or out of bounds coordinates [     1.0014]\n",
      "\u001b[34m\u001b[1mval: \u001b[0mWARNING ⚠️ /teamspace/studios/this_studio/dataset/valid/images/1-249-_jpg.rf.20bf098d57209ebf4f4d1200cb6f1739.jpg: ignoring corrupt image/label: non-normalized or out of bounds coordinates [     1.0009]\n",
      "\u001b[34m\u001b[1mval: \u001b[0mWARNING ⚠️ /teamspace/studios/this_studio/dataset/valid/images/1-25-_jpg.rf.926473042ad2c77382bdb54830e1fc8c.jpg: ignoring corrupt image/label: non-normalized or out of bounds coordinates [      1.116]\n",
      "\u001b[34m\u001b[1mval: \u001b[0mWARNING ⚠️ /teamspace/studios/this_studio/dataset/valid/images/1-252-_jpg.rf.2704d73c5df15a28563a0555ad71f6d0.jpg: ignoring corrupt image/label: non-normalized or out of bounds coordinates [     1.4485]\n",
      "\u001b[34m\u001b[1mval: \u001b[0mWARNING ⚠️ /teamspace/studios/this_studio/dataset/valid/images/1-338-_jpg.rf.1766efefcb914ff9ed42e87561837561.jpg: ignoring corrupt image/label: non-normalized or out of bounds coordinates [      1.051]\n",
      "\u001b[34m\u001b[1mval: \u001b[0mWARNING ⚠️ /teamspace/studios/this_studio/dataset/valid/images/1-400-_jpg.rf.235bd7654240bd7ac99c9812f4bd8712.jpg: ignoring corrupt image/label: non-normalized or out of bounds coordinates [     1.2536]\n",
      "\u001b[34m\u001b[1mval: \u001b[0mWARNING ⚠️ /teamspace/studios/this_studio/dataset/valid/images/1-427-_jpg.rf.4e38c86217fb308bb0acfd39d516e4ab.jpg: ignoring corrupt image/label: non-normalized or out of bounds coordinates [     1.1729]\n",
      "\u001b[34m\u001b[1mval: \u001b[0mWARNING ⚠️ /teamspace/studios/this_studio/dataset/valid/images/1-438-_jpg.rf.9f4c9d3856930b0910540ff325c44e14.jpg: ignoring corrupt image/label: non-normalized or out of bounds coordinates [     1.0073]\n",
      "\u001b[34m\u001b[1mval: \u001b[0mWARNING ⚠️ /teamspace/studios/this_studio/dataset/valid/images/1-457-_jpg.rf.ccad2d210f1e05d5045f6fa8faaefb7a.jpg: ignoring corrupt image/label: non-normalized or out of bounds coordinates [     1.0801]\n",
      "\u001b[34m\u001b[1mval: \u001b[0mWARNING ⚠️ /teamspace/studios/this_studio/dataset/valid/images/1-471-_jpg.rf.7619a77f261d6940c81d5b1660016e24.jpg: ignoring corrupt image/label: non-normalized or out of bounds coordinates [     1.1752      1.6036]\n",
      "\u001b[34m\u001b[1mval: \u001b[0mWARNING ⚠️ /teamspace/studios/this_studio/dataset/valid/images/1-488-_jpg.rf.ee52a0c920efd34b00ada438452c1a62.jpg: ignoring corrupt image/label: non-normalized or out of bounds coordinates [     1.0009]\n",
      "\u001b[34m\u001b[1mval: \u001b[0mWARNING ⚠️ /teamspace/studios/this_studio/dataset/valid/images/1-517-_jpg.rf.56f1d7ce80a059808e68509494f14d40.jpg: ignoring corrupt image/label: non-normalized or out of bounds coordinates [     1.2236]\n",
      "\u001b[34m\u001b[1mval: \u001b[0mWARNING ⚠️ /teamspace/studios/this_studio/dataset/valid/images/1-529-_jpg.rf.eda8923c0c6093e0feae75ad182e718c.jpg: ignoring corrupt image/label: non-normalized or out of bounds coordinates [     1.0308      1.3519]\n",
      "\u001b[34m\u001b[1mval: \u001b[0mWARNING ⚠️ /teamspace/studios/this_studio/dataset/valid/images/1-541-_jpg.rf.eda49c197ea7c97bdce8883d29bdda56.jpg: ignoring corrupt image/label: non-normalized or out of bounds coordinates [     1.0012]\n",
      "\u001b[34m\u001b[1mval: \u001b[0mWARNING ⚠️ /teamspace/studios/this_studio/dataset/valid/images/1-543-_jpg.rf.a53c84a99b318667213622efcc66099b.jpg: ignoring corrupt image/label: non-normalized or out of bounds coordinates [     1.1468      1.0086]\n",
      "\u001b[34m\u001b[1mval: \u001b[0mWARNING ⚠️ /teamspace/studios/this_studio/dataset/valid/images/1-544-_jpg.rf.74357fbb590740d1401bd174f3134893.jpg: ignoring corrupt image/label: non-normalized or out of bounds coordinates [     1.0012]\n",
      "\u001b[34m\u001b[1mval: \u001b[0mWARNING ⚠️ /teamspace/studios/this_studio/dataset/valid/images/1-574-_jpg.rf.aaaedd50a68816bbe450a0386687274c.jpg: ignoring corrupt image/label: non-normalized or out of bounds coordinates [     1.0079]\n",
      "\u001b[34m\u001b[1mval: \u001b[0mWARNING ⚠️ /teamspace/studios/this_studio/dataset/valid/images/1-638-_jpg.rf.93a31a796c958761711246359be5c0e9.jpg: ignoring corrupt image/label: non-normalized or out of bounds coordinates [     1.0523      1.0135]\n",
      "\u001b[34m\u001b[1mval: \u001b[0mWARNING ⚠️ /teamspace/studios/this_studio/dataset/valid/images/1-674-_jpg.rf.61c30c15c7af294ad8ca22feb995fe4c.jpg: ignoring corrupt image/label: non-normalized or out of bounds coordinates [     1.0001]\n",
      "\u001b[34m\u001b[1mval: \u001b[0mWARNING ⚠️ /teamspace/studios/this_studio/dataset/valid/images/1-708-_jpg.rf.ab35c973fd5608917737d549e69fa92f.jpg: ignoring corrupt image/label: non-normalized or out of bounds coordinates [     1.0809]\n",
      "\u001b[34m\u001b[1mval: \u001b[0mWARNING ⚠️ /teamspace/studios/this_studio/dataset/valid/images/1-766-_jpg.rf.35500e052967cdaebef01e3870649f88.jpg: ignoring corrupt image/label: non-normalized or out of bounds coordinates [     1.0381]\n",
      "\u001b[34m\u001b[1mval: \u001b[0mWARNING ⚠️ /teamspace/studios/this_studio/dataset/valid/images/1-774-_jpg.rf.bfb2a08c6459e1d36dda1bad21c4608f.jpg: ignoring corrupt image/label: non-normalized or out of bounds coordinates [     1.0843]\n",
      "\u001b[34m\u001b[1mval: \u001b[0mWARNING ⚠️ /teamspace/studios/this_studio/dataset/valid/images/1-780-_jpg.rf.ae378d4765ac89c035ca3a8ae781d750.jpg: ignoring corrupt image/label: non-normalized or out of bounds coordinates [     1.0087]\n",
      "\u001b[34m\u001b[1mval: \u001b[0mWARNING ⚠️ /teamspace/studios/this_studio/dataset/valid/images/1-802-_jpg.rf.ed278025dee9b47f89bd3d6844e9d203.jpg: ignoring corrupt image/label: non-normalized or out of bounds coordinates [     1.0259]\n",
      "\u001b[34m\u001b[1mval: \u001b[0mWARNING ⚠️ /teamspace/studios/this_studio/dataset/valid/images/102_png.rf.cc8e84ccd6d2b4b7b54be8d0c23dfa9a.jpg: ignoring corrupt image/label: non-normalized or out of bounds coordinates [     1.0009]\n",
      "\u001b[34m\u001b[1mval: \u001b[0mWARNING ⚠️ /teamspace/studios/this_studio/dataset/valid/images/105_png.rf.75b73e9482ce03f85943b0a8506c433b.jpg: ignoring corrupt image/label: non-normalized or out of bounds coordinates [     1.0014]\n",
      "\u001b[34m\u001b[1mval: \u001b[0mWARNING ⚠️ /teamspace/studios/this_studio/dataset/valid/images/117_png.rf.a54efc8c1a82848618c4e46fa428a89d.jpg: ignoring corrupt image/label: non-normalized or out of bounds coordinates [     1.1705]\n",
      "\u001b[34m\u001b[1mval: \u001b[0mWARNING ⚠️ /teamspace/studios/this_studio/dataset/valid/images/12_png.rf.a0abaf3a04ba0cdfd48198dc4c42ecd9.jpg: ignoring corrupt image/label: non-normalized or out of bounds coordinates [     1.0011]\n",
      "\u001b[34m\u001b[1mval: \u001b[0mWARNING ⚠️ /teamspace/studios/this_studio/dataset/valid/images/131_png.rf.0cdf2902e8526cff8b260b797f31ff93.jpg: ignoring corrupt image/label: non-normalized or out of bounds coordinates [     1.3169]\n",
      "\u001b[34m\u001b[1mval: \u001b[0mWARNING ⚠️ /teamspace/studios/this_studio/dataset/valid/images/134_png.rf.6e2ccd764eec00cc2c128a6997c8fef0.jpg: ignoring corrupt image/label: non-normalized or out of bounds coordinates [     1.3887]\n",
      "\u001b[34m\u001b[1mval: \u001b[0mWARNING ⚠️ /teamspace/studios/this_studio/dataset/valid/images/150_png.rf.8e63c461d0cca637159fa1c2cb4aac74.jpg: ignoring corrupt image/label: non-normalized or out of bounds coordinates [     1.0006]\n",
      "\u001b[34m\u001b[1mval: \u001b[0mWARNING ⚠️ /teamspace/studios/this_studio/dataset/valid/images/156_png.rf.68ecb557c8bd73d948b6c44a43a79022.jpg: ignoring corrupt image/label: non-normalized or out of bounds coordinates [     1.0002]\n",
      "\u001b[34m\u001b[1mval: \u001b[0mWARNING ⚠️ /teamspace/studios/this_studio/dataset/valid/images/158_png.rf.a91a59f519cb93b9fe7983bd97ae52e5.jpg: ignoring corrupt image/label: non-normalized or out of bounds coordinates [     1.0631]\n",
      "\u001b[34m\u001b[1mval: \u001b[0mWARNING ⚠️ /teamspace/studios/this_studio/dataset/valid/images/165_png.rf.a6625cdf345e56d6155fe8973abaaa63.jpg: ignoring corrupt image/label: non-normalized or out of bounds coordinates [     1.0017]\n",
      "\u001b[34m\u001b[1mval: \u001b[0mWARNING ⚠️ /teamspace/studios/this_studio/dataset/valid/images/173_png.rf.d81e0356c62a3e9b3fe3c4b8785b0168.jpg: ignoring corrupt image/label: non-normalized or out of bounds coordinates [     1.0678]\n",
      "\u001b[34m\u001b[1mval: \u001b[0mWARNING ⚠️ /teamspace/studios/this_studio/dataset/valid/images/207_png.rf.17c4f354691b1e5fb11b7a022d049551.jpg: ignoring corrupt image/label: non-normalized or out of bounds coordinates [     1.0014]\n",
      "\u001b[34m\u001b[1mval: \u001b[0mWARNING ⚠️ /teamspace/studios/this_studio/dataset/valid/images/219_png.rf.cfe1189c2aa80761ee006e2f14376091.jpg: ignoring corrupt image/label: non-normalized or out of bounds coordinates [     1.0007      1.0005]\n",
      "\u001b[34m\u001b[1mval: \u001b[0mWARNING ⚠️ /teamspace/studios/this_studio/dataset/valid/images/224_png.rf.acdfa4870f32d2b277d1b1638e755751.jpg: ignoring corrupt image/label: non-normalized or out of bounds coordinates [     1.2043]\n",
      "\u001b[34m\u001b[1mval: \u001b[0mWARNING ⚠️ /teamspace/studios/this_studio/dataset/valid/images/259_jpg.rf.1449798595dca38a4eedf8cc43b61637.jpg: ignoring corrupt image/label: non-normalized or out of bounds coordinates [      1.062]\n",
      "\u001b[34m\u001b[1mval: \u001b[0mWARNING ⚠️ /teamspace/studios/this_studio/dataset/valid/images/260_jpg.rf.cddc5c37bdad394e56aa50f99c39069e.jpg: ignoring corrupt image/label: non-normalized or out of bounds coordinates [     1.1014      1.1754]\n",
      "\u001b[34m\u001b[1mval: \u001b[0mWARNING ⚠️ /teamspace/studios/this_studio/dataset/valid/images/264_png.rf.9823e23d2427a73c7aafee2c0b529706.jpg: ignoring corrupt image/label: non-normalized or out of bounds coordinates [     1.0018      1.0016]\n",
      "\u001b[34m\u001b[1mval: \u001b[0mWARNING ⚠️ /teamspace/studios/this_studio/dataset/valid/images/274_jpg.rf.85a65f57eb8983254fbb857d8463b449.jpg: ignoring corrupt image/label: non-normalized or out of bounds coordinates [      1.001      1.0004]\n",
      "\u001b[34m\u001b[1mval: \u001b[0mWARNING ⚠️ /teamspace/studios/this_studio/dataset/valid/images/285_png.rf.71cfaaae39040eabfe03a67d1d4baa0e.jpg: ignoring corrupt image/label: non-normalized or out of bounds coordinates [     1.0004]\n",
      "\u001b[34m\u001b[1mval: \u001b[0mWARNING ⚠️ /teamspace/studios/this_studio/dataset/valid/images/291_png.rf.87f1ed9ed5113b157a0a31850bc3732a.jpg: ignoring corrupt image/label: non-normalized or out of bounds coordinates [     1.0003]\n",
      "\u001b[34m\u001b[1mval: \u001b[0mWARNING ⚠️ /teamspace/studios/this_studio/dataset/valid/images/294_png.rf.4dfa52a8f596c6129ea65680201e33d1.jpg: ignoring corrupt image/label: non-normalized or out of bounds coordinates [     1.0016]\n",
      "\u001b[34m\u001b[1mval: \u001b[0mWARNING ⚠️ /teamspace/studios/this_studio/dataset/valid/images/29_png.rf.4ce7f62b2d41e9e3ead169878ae74e23.jpg: ignoring corrupt image/label: non-normalized or out of bounds coordinates [     1.3938]\n",
      "\u001b[34m\u001b[1mval: \u001b[0mWARNING ⚠️ /teamspace/studios/this_studio/dataset/valid/images/317_jpg.rf.138a99f637ac888b11474d0f1c5f8ef5.jpg: ignoring corrupt image/label: non-normalized or out of bounds coordinates [     1.0286]\n",
      "\u001b[34m\u001b[1mval: \u001b[0mWARNING ⚠️ /teamspace/studios/this_studio/dataset/valid/images/338_png.rf.b1d37d7cf2809aeaec7c373ffd94d3d7.jpg: ignoring corrupt image/label: non-normalized or out of bounds coordinates [     1.1313]\n",
      "\u001b[34m\u001b[1mval: \u001b[0mWARNING ⚠️ /teamspace/studios/this_studio/dataset/valid/images/348_png.rf.8ed27525e07557c66e33f7bf56b87bf6.jpg: ignoring corrupt image/label: non-normalized or out of bounds coordinates [     1.0019]\n",
      "\u001b[34m\u001b[1mval: \u001b[0mWARNING ⚠️ /teamspace/studios/this_studio/dataset/valid/images/373_jpg.rf.e38a8c87a1d8e799fdecd175564e1fc7.jpg: ignoring corrupt image/label: non-normalized or out of bounds coordinates [     1.0002]\n",
      "\u001b[34m\u001b[1mval: \u001b[0mWARNING ⚠️ /teamspace/studios/this_studio/dataset/valid/images/422_png.rf.a8fd2df3c775883c95a8983d1947ea75.jpg: ignoring corrupt image/label: non-normalized or out of bounds coordinates [     1.2859]\n",
      "\u001b[34m\u001b[1mval: \u001b[0mWARNING ⚠️ /teamspace/studios/this_studio/dataset/valid/images/603_png.rf.2ac4734602d26a663d6936788a1143d8.jpg: ignoring corrupt image/label: non-normalized or out of bounds coordinates [      1.001]\n",
      "\u001b[34m\u001b[1mval: \u001b[0mWARNING ⚠️ /teamspace/studios/this_studio/dataset/valid/images/626_png.rf.0fa2737d3d107fe9d82a374bfcfe36de.jpg: ignoring corrupt image/label: non-normalized or out of bounds coordinates [      1.058      1.1106]\n",
      "\u001b[34m\u001b[1mval: \u001b[0mWARNING ⚠️ /teamspace/studios/this_studio/dataset/valid/images/646_png.rf.e152e97219ba8f55d40611185e3ebc7c.jpg: ignoring corrupt image/label: non-normalized or out of bounds coordinates [     1.0043]\n",
      "\u001b[34m\u001b[1mval: \u001b[0mWARNING ⚠️ /teamspace/studios/this_studio/dataset/valid/images/663_jpg.rf.1b540833aff8865246d483cebb55a8ce.jpg: ignoring corrupt image/label: non-normalized or out of bounds coordinates [      1.165      1.1186]\n",
      "\u001b[34m\u001b[1mval: \u001b[0mWARNING ⚠️ /teamspace/studios/this_studio/dataset/valid/images/670_jpg.rf.e9e616056fe10e3cdd60e14766069571.jpg: ignoring corrupt image/label: non-normalized or out of bounds coordinates [     1.0011]\n",
      "\u001b[34m\u001b[1mval: \u001b[0mWARNING ⚠️ /teamspace/studios/this_studio/dataset/valid/images/711_jpg.rf.304492fb33dee5c3bd84c91751d2679c.jpg: ignoring corrupt image/label: non-normalized or out of bounds coordinates [     1.0076]\n",
      "\u001b[34m\u001b[1mval: \u001b[0mWARNING ⚠️ /teamspace/studios/this_studio/dataset/valid/images/839_jpg.rf.3c6fd1283dd28d3e440f8cd4fdead025.jpg: ignoring corrupt image/label: non-normalized or out of bounds coordinates [     1.0003]\n",
      "\u001b[34m\u001b[1mval: \u001b[0mWARNING ⚠️ /teamspace/studios/this_studio/dataset/valid/images/843_jpg.rf.4cae9dcafd25b9961dabb3db8305311e.jpg: ignoring corrupt image/label: non-normalized or out of bounds coordinates [     1.0004]\n",
      "\u001b[34m\u001b[1mval: \u001b[0mWARNING ⚠️ /teamspace/studios/this_studio/dataset/valid/images/893_jpg.rf.890e0c39b4d3a6ca3a62b9227f4a47c3.jpg: ignoring corrupt image/label: non-normalized or out of bounds coordinates [     1.0003]\n",
      "\u001b[34m\u001b[1mval: \u001b[0mWARNING ⚠️ /teamspace/studios/this_studio/dataset/valid/images/940_jpg.rf.976b65c37c91f1fe8685dd13a92790fb.jpg: ignoring corrupt image/label: non-normalized or out of bounds coordinates [     1.0006]\n",
      "\u001b[34m\u001b[1mval: \u001b[0mWARNING ⚠️ /teamspace/studios/this_studio/dataset/valid/images/981_jpg.rf.263b82c2ec412b13dc4695f6c04bded5.jpg: ignoring corrupt image/label: non-normalized or out of bounds coordinates [     1.0176      1.1814]\n"
     ]
    },
    {
     "name": "stderr",
     "output_type": "stream",
     "text": [
      "\n"
     ]
    },
    {
     "name": "stdout",
     "output_type": "stream",
     "text": [
      "\u001b[34m\u001b[1mval: \u001b[0mNew cache created: /teamspace/studios/this_studio/dataset/valid/labels.cache\n",
      "Plotting labels to /teamspace/studios/this_studio/Coral_Exp1/labels.jpg... \n",
      "\u001b[34m\u001b[1moptimizer:\u001b[0m 'optimizer=auto' found, ignoring 'lr0=0.01' and 'momentum=0.937' and determining best 'optimizer', 'lr0' and 'momentum' automatically... \n",
      "\u001b[34m\u001b[1moptimizer:\u001b[0m AdamW(lr=0.0005, momentum=0.9) with parameter groups 57 weight(decay=0.0), 64 weight(decay=0.0005), 63 bias(decay=0.0)\n",
      "\u001b[34m\u001b[1mTensorBoard: \u001b[0mmodel graph visualization added ✅\n",
      "Image sizes 640 train, 640 val\n",
      "Using 8 dataloader workers\n",
      "Logging results to \u001b[1m/teamspace/studios/this_studio/Coral_Exp1\u001b[0m\n",
      "Starting training for 20 epochs...\n",
      "\n",
      "      Epoch    GPU_mem   box_loss   cls_loss   dfl_loss  Instances       Size\n"
     ]
    },
    {
     "name": "stderr",
     "output_type": "stream",
     "text": [
      "       1/20       1.2G      1.462      3.472      1.797         54        640: 100%|██████████| 460/460 [00:50<00:00,  9.17it/s]\n",
      "                 Class     Images  Instances      Box(P          R      mAP50  mAP50-95): 100%|██████████| 23/23 [00:03<00:00,  6.05it/s]"
     ]
    },
    {
     "name": "stdout",
     "output_type": "stream",
     "text": [
      "                   all        368        611      0.334      0.223      0.161     0.0871\n"
     ]
    },
    {
     "name": "stderr",
     "output_type": "stream",
     "text": [
      "\n"
     ]
    },
    {
     "name": "stdout",
     "output_type": "stream",
     "text": [
      "\n",
      "      Epoch    GPU_mem   box_loss   cls_loss   dfl_loss  Instances       Size\n"
     ]
    },
    {
     "name": "stderr",
     "output_type": "stream",
     "text": [
      "       2/20      1.42G      1.435      2.694       1.76         27        640: 100%|██████████| 460/460 [00:45<00:00, 10.14it/s]\n",
      "                 Class     Images  Instances      Box(P          R      mAP50  mAP50-95): 100%|██████████| 23/23 [00:02<00:00,  9.53it/s]"
     ]
    },
    {
     "name": "stdout",
     "output_type": "stream",
     "text": [
      "                   all        368        611       0.43      0.293      0.254      0.131\n"
     ]
    },
    {
     "name": "stderr",
     "output_type": "stream",
     "text": [
      "\n"
     ]
    },
    {
     "name": "stdout",
     "output_type": "stream",
     "text": [
      "\n",
      "      Epoch    GPU_mem   box_loss   cls_loss   dfl_loss  Instances       Size\n"
     ]
    },
    {
     "name": "stderr",
     "output_type": "stream",
     "text": [
      "       3/20      1.44G      1.427       2.48      1.742         35        640: 100%|██████████| 460/460 [00:44<00:00, 10.34it/s]\n",
      "                 Class     Images  Instances      Box(P          R      mAP50  mAP50-95): 100%|██████████| 23/23 [00:02<00:00,  9.36it/s]"
     ]
    },
    {
     "name": "stdout",
     "output_type": "stream",
     "text": [
      "                   all        368        611      0.434      0.318      0.248      0.133\n"
     ]
    },
    {
     "name": "stderr",
     "output_type": "stream",
     "text": [
      "\n"
     ]
    },
    {
     "name": "stdout",
     "output_type": "stream",
     "text": [
      "\n",
      "      Epoch    GPU_mem   box_loss   cls_loss   dfl_loss  Instances       Size\n"
     ]
    },
    {
     "name": "stderr",
     "output_type": "stream",
     "text": [
      "       4/20      1.45G      1.395        2.3      1.713         30        640: 100%|██████████| 460/460 [00:44<00:00, 10.34it/s]\n",
      "                 Class     Images  Instances      Box(P          R      mAP50  mAP50-95): 100%|██████████| 23/23 [00:02<00:00,  9.65it/s]"
     ]
    },
    {
     "name": "stdout",
     "output_type": "stream",
     "text": [
      "                   all        368        611      0.599      0.272      0.267      0.149\n"
     ]
    },
    {
     "name": "stderr",
     "output_type": "stream",
     "text": [
      "\n"
     ]
    },
    {
     "name": "stdout",
     "output_type": "stream",
     "text": [
      "\n",
      "      Epoch    GPU_mem   box_loss   cls_loss   dfl_loss  Instances       Size\n"
     ]
    },
    {
     "name": "stderr",
     "output_type": "stream",
     "text": [
      "       5/20      1.47G      1.385      2.226      1.698         28        640: 100%|██████████| 460/460 [00:42<00:00, 10.70it/s]\n",
      "                 Class     Images  Instances      Box(P          R      mAP50  mAP50-95): 100%|██████████| 23/23 [00:02<00:00,  9.78it/s]"
     ]
    },
    {
     "name": "stdout",
     "output_type": "stream",
     "text": [
      "                   all        368        611      0.473      0.355      0.317      0.176\n"
     ]
    },
    {
     "name": "stderr",
     "output_type": "stream",
     "text": [
      "\n"
     ]
    },
    {
     "name": "stdout",
     "output_type": "stream",
     "text": [
      "\n",
      "      Epoch    GPU_mem   box_loss   cls_loss   dfl_loss  Instances       Size\n"
     ]
    },
    {
     "name": "stderr",
     "output_type": "stream",
     "text": [
      "       6/20      1.49G      1.337      2.101      1.675         18        640: 100%|██████████| 460/460 [00:43<00:00, 10.46it/s]\n",
      "                 Class     Images  Instances      Box(P          R      mAP50  mAP50-95): 100%|██████████| 23/23 [00:02<00:00,  9.50it/s]"
     ]
    },
    {
     "name": "stdout",
     "output_type": "stream",
     "text": [
      "                   all        368        611      0.529      0.332      0.329      0.172\n"
     ]
    },
    {
     "name": "stderr",
     "output_type": "stream",
     "text": [
      "\n"
     ]
    },
    {
     "name": "stdout",
     "output_type": "stream",
     "text": [
      "\n",
      "      Epoch    GPU_mem   box_loss   cls_loss   dfl_loss  Instances       Size\n"
     ]
    },
    {
     "name": "stderr",
     "output_type": "stream",
     "text": [
      "       7/20       1.5G      1.338      2.044      1.668         23        640: 100%|██████████| 460/460 [00:43<00:00, 10.55it/s]\n",
      "                 Class     Images  Instances      Box(P          R      mAP50  mAP50-95): 100%|██████████| 23/23 [00:02<00:00,  9.59it/s]"
     ]
    },
    {
     "name": "stdout",
     "output_type": "stream",
     "text": [
      "                   all        368        611      0.607      0.306        0.3      0.164\n"
     ]
    },
    {
     "name": "stderr",
     "output_type": "stream",
     "text": [
      "\n"
     ]
    },
    {
     "name": "stdout",
     "output_type": "stream",
     "text": [
      "\n",
      "      Epoch    GPU_mem   box_loss   cls_loss   dfl_loss  Instances       Size\n"
     ]
    },
    {
     "name": "stderr",
     "output_type": "stream",
     "text": [
      "       8/20      1.52G      1.319      1.986      1.645         31        640: 100%|██████████| 460/460 [00:43<00:00, 10.46it/s]\n",
      "                 Class     Images  Instances      Box(P          R      mAP50  mAP50-95): 100%|██████████| 23/23 [00:02<00:00, 10.43it/s]\n"
     ]
    },
    {
     "name": "stdout",
     "output_type": "stream",
     "text": [
      "                   all        368        611      0.331      0.351      0.321      0.173\n",
      "\n",
      "      Epoch    GPU_mem   box_loss   cls_loss   dfl_loss  Instances       Size\n"
     ]
    },
    {
     "name": "stderr",
     "output_type": "stream",
     "text": [
      "       9/20      1.64G      1.308      1.924      1.631         31        640: 100%|██████████| 460/460 [00:43<00:00, 10.60it/s]\n",
      "                 Class     Images  Instances      Box(P          R      mAP50  mAP50-95): 100%|██████████| 23/23 [00:02<00:00, 10.41it/s]"
     ]
    },
    {
     "name": "stdout",
     "output_type": "stream",
     "text": [
      "                   all        368        611      0.559      0.295      0.338      0.184\n"
     ]
    },
    {
     "name": "stderr",
     "output_type": "stream",
     "text": [
      "\n"
     ]
    },
    {
     "name": "stdout",
     "output_type": "stream",
     "text": [
      "\n",
      "      Epoch    GPU_mem   box_loss   cls_loss   dfl_loss  Instances       Size\n"
     ]
    },
    {
     "name": "stderr",
     "output_type": "stream",
     "text": [
      "      10/20      1.66G      1.295       1.87      1.625         39        640: 100%|██████████| 460/460 [00:43<00:00, 10.62it/s]\n",
      "                 Class     Images  Instances      Box(P          R      mAP50  mAP50-95): 100%|██████████| 23/23 [00:02<00:00,  9.92it/s]"
     ]
    },
    {
     "name": "stdout",
     "output_type": "stream",
     "text": [
      "                   all        368        611      0.696      0.292      0.344      0.196\n"
     ]
    },
    {
     "name": "stderr",
     "output_type": "stream",
     "text": [
      "\n"
     ]
    },
    {
     "name": "stdout",
     "output_type": "stream",
     "text": [
      "Closing dataloader mosaic\n",
      "\n",
      "      Epoch    GPU_mem   box_loss   cls_loss   dfl_loss  Instances       Size\n"
     ]
    },
    {
     "name": "stderr",
     "output_type": "stream",
     "text": [
      "      11/20      1.68G      1.259      1.914      1.795          9        640: 100%|██████████| 460/460 [00:42<00:00, 10.72it/s]\n",
      "                 Class     Images  Instances      Box(P          R      mAP50  mAP50-95): 100%|██████████| 23/23 [00:02<00:00,  9.75it/s]"
     ]
    },
    {
     "name": "stdout",
     "output_type": "stream",
     "text": [
      "                   all        368        611       0.67      0.297      0.317      0.173\n"
     ]
    },
    {
     "name": "stderr",
     "output_type": "stream",
     "text": [
      "\n"
     ]
    },
    {
     "name": "stdout",
     "output_type": "stream",
     "text": [
      "\n",
      "      Epoch    GPU_mem   box_loss   cls_loss   dfl_loss  Instances       Size\n"
     ]
    },
    {
     "name": "stderr",
     "output_type": "stream",
     "text": [
      "      12/20       1.7G      1.233      1.789      1.773         15        640: 100%|██████████| 460/460 [00:42<00:00, 10.84it/s]\n",
      "                 Class     Images  Instances      Box(P          R      mAP50  mAP50-95): 100%|██████████| 23/23 [00:02<00:00,  9.66it/s]"
     ]
    },
    {
     "name": "stdout",
     "output_type": "stream",
     "text": [
      "                   all        368        611      0.341      0.431      0.391      0.214\n"
     ]
    },
    {
     "name": "stderr",
     "output_type": "stream",
     "text": [
      "\n"
     ]
    },
    {
     "name": "stdout",
     "output_type": "stream",
     "text": [
      "\n",
      "      Epoch    GPU_mem   box_loss   cls_loss   dfl_loss  Instances       Size\n"
     ]
    },
    {
     "name": "stderr",
     "output_type": "stream",
     "text": [
      "      13/20      1.71G        1.2      1.697      1.741         15        640: 100%|██████████| 460/460 [00:42<00:00, 10.94it/s]\n",
      "                 Class     Images  Instances      Box(P          R      mAP50  mAP50-95): 100%|██████████| 23/23 [00:02<00:00, 10.18it/s]"
     ]
    },
    {
     "name": "stdout",
     "output_type": "stream",
     "text": [
      "                   all        368        611      0.692      0.339       0.39      0.217\n"
     ]
    },
    {
     "name": "stderr",
     "output_type": "stream",
     "text": [
      "\n"
     ]
    },
    {
     "name": "stdout",
     "output_type": "stream",
     "text": [
      "\n",
      "      Epoch    GPU_mem   box_loss   cls_loss   dfl_loss  Instances       Size\n"
     ]
    },
    {
     "name": "stderr",
     "output_type": "stream",
     "text": [
      "      14/20      1.73G      1.165      1.603      1.706         18        640: 100%|██████████| 460/460 [00:42<00:00, 10.81it/s]\n",
      "                 Class     Images  Instances      Box(P          R      mAP50  mAP50-95): 100%|██████████| 23/23 [00:02<00:00,  9.97it/s]"
     ]
    },
    {
     "name": "stdout",
     "output_type": "stream",
     "text": [
      "                   all        368        611      0.598      0.365      0.355       0.19\n"
     ]
    },
    {
     "name": "stderr",
     "output_type": "stream",
     "text": [
      "\n"
     ]
    },
    {
     "name": "stdout",
     "output_type": "stream",
     "text": [
      "\n",
      "      Epoch    GPU_mem   box_loss   cls_loss   dfl_loss  Instances       Size\n"
     ]
    },
    {
     "name": "stderr",
     "output_type": "stream",
     "text": [
      "      15/20      1.75G      1.145      1.553      1.684          9        640: 100%|██████████| 460/460 [00:42<00:00, 10.90it/s]\n",
      "                 Class     Images  Instances      Box(P          R      mAP50  mAP50-95): 100%|██████████| 23/23 [00:02<00:00,  9.65it/s]\n"
     ]
    },
    {
     "name": "stdout",
     "output_type": "stream",
     "text": [
      "                   all        368        611       0.42      0.373      0.378      0.195\n",
      "\n",
      "      Epoch    GPU_mem   box_loss   cls_loss   dfl_loss  Instances       Size\n"
     ]
    },
    {
     "name": "stderr",
     "output_type": "stream",
     "text": [
      "      16/20      1.76G      1.126      1.505      1.668         16        640: 100%|██████████| 460/460 [00:42<00:00, 10.88it/s]\n",
      "                 Class     Images  Instances      Box(P          R      mAP50  mAP50-95): 100%|██████████| 23/23 [00:02<00:00, 10.10it/s]"
     ]
    },
    {
     "name": "stdout",
     "output_type": "stream",
     "text": [
      "                   all        368        611      0.366      0.444       0.36       0.19\n"
     ]
    },
    {
     "name": "stderr",
     "output_type": "stream",
     "text": [
      "\n"
     ]
    },
    {
     "name": "stdout",
     "output_type": "stream",
     "text": [
      "\n",
      "      Epoch    GPU_mem   box_loss   cls_loss   dfl_loss  Instances       Size\n"
     ]
    },
    {
     "name": "stderr",
     "output_type": "stream",
     "text": [
      "      17/20      1.78G      1.106      1.457      1.651         12        640: 100%|██████████| 460/460 [00:42<00:00, 10.84it/s]\n",
      "                 Class     Images  Instances      Box(P          R      mAP50  mAP50-95): 100%|██████████| 23/23 [00:02<00:00, 10.10it/s]"
     ]
    },
    {
     "name": "stdout",
     "output_type": "stream",
     "text": [
      "                   all        368        611      0.468      0.331      0.359      0.201\n"
     ]
    },
    {
     "name": "stderr",
     "output_type": "stream",
     "text": [
      "\n"
     ]
    },
    {
     "name": "stdout",
     "output_type": "stream",
     "text": [
      "\n",
      "      Epoch    GPU_mem   box_loss   cls_loss   dfl_loss  Instances       Size\n"
     ]
    },
    {
     "name": "stderr",
     "output_type": "stream",
     "text": [
      "      18/20       1.8G      1.084      1.398      1.628         10        640: 100%|██████████| 460/460 [00:42<00:00, 10.87it/s]\n",
      "                 Class     Images  Instances      Box(P          R      mAP50  mAP50-95): 100%|██████████| 23/23 [00:02<00:00,  9.92it/s]"
     ]
    },
    {
     "name": "stdout",
     "output_type": "stream",
     "text": [
      "                   all        368        611      0.425      0.384      0.391      0.207\n"
     ]
    },
    {
     "name": "stderr",
     "output_type": "stream",
     "text": [
      "\n"
     ]
    },
    {
     "name": "stdout",
     "output_type": "stream",
     "text": [
      "\n",
      "      Epoch    GPU_mem   box_loss   cls_loss   dfl_loss  Instances       Size\n"
     ]
    },
    {
     "name": "stderr",
     "output_type": "stream",
     "text": [
      "      19/20      1.81G      1.055      1.343      1.609          9        640: 100%|██████████| 460/460 [00:43<00:00, 10.69it/s]\n",
      "                 Class     Images  Instances      Box(P          R      mAP50  mAP50-95): 100%|██████████| 23/23 [00:02<00:00,  9.61it/s]"
     ]
    },
    {
     "name": "stdout",
     "output_type": "stream",
     "text": [
      "                   all        368        611      0.437      0.337      0.359        0.2\n"
     ]
    },
    {
     "name": "stderr",
     "output_type": "stream",
     "text": [
      "\n"
     ]
    },
    {
     "name": "stdout",
     "output_type": "stream",
     "text": [
      "\n",
      "      Epoch    GPU_mem   box_loss   cls_loss   dfl_loss  Instances       Size\n"
     ]
    },
    {
     "name": "stderr",
     "output_type": "stream",
     "text": [
      "      20/20      1.83G      1.047      1.322      1.592         16        640: 100%|██████████| 460/460 [00:42<00:00, 10.80it/s]\n",
      "                 Class     Images  Instances      Box(P          R      mAP50  mAP50-95): 100%|██████████| 23/23 [00:02<00:00, 10.40it/s]"
     ]
    },
    {
     "name": "stdout",
     "output_type": "stream",
     "text": [
      "                   all        368        611      0.474       0.36       0.38      0.203\n"
     ]
    },
    {
     "name": "stderr",
     "output_type": "stream",
     "text": [
      "\n"
     ]
    },
    {
     "name": "stdout",
     "output_type": "stream",
     "text": [
      "\n",
      "20 epochs completed in 0.258 hours.\n",
      "Optimizer stripped from /teamspace/studios/this_studio/Coral_Exp1/weights/last.pt, 6.3MB\n",
      "Optimizer stripped from /teamspace/studios/this_studio/Coral_Exp1/weights/best.pt, 6.3MB\n",
      "\n",
      "Validating /teamspace/studios/this_studio/Coral_Exp1/weights/best.pt...\n",
      "Ultralytics 8.3.96 🚀 Python-3.10.10 torch-2.6.0+cu124 CUDA:0 (Tesla T4, 15102MiB)\n",
      "Model summary (fused): 72 layers, 3,008,768 parameters, 0 gradients, 8.1 GFLOPs\n"
     ]
    },
    {
     "name": "stderr",
     "output_type": "stream",
     "text": [
      "                 Class     Images  Instances      Box(P          R      mAP50  mAP50-95): 100%|██████████| 23/23 [00:03<00:00,  7.36it/s]\n"
     ]
    },
    {
     "name": "stdout",
     "output_type": "stream",
     "text": [
      "                   all        368        611      0.687      0.335      0.382      0.217\n",
      "          Band disease         40         43      0.662      0.419      0.401      0.186\n",
      "      Bleached disease         74         97      0.662      0.454      0.551        0.3\n",
      "      Bleached-disease         17         29          1          0     0.0626     0.0318\n",
      "            Dead Coral         30         31      0.449      0.387      0.357      0.189\n",
      "         Healthy Coral         78         91      0.583      0.604      0.594      0.385\n",
      "     White Pox Disease          8         10       0.67        0.1      0.182      0.099\n",
      "       bleached_corals        134        310       0.78      0.384      0.528      0.326\n",
      "Speed: 0.3ms preprocess, 1.8ms inference, 0.0ms loss, 2.5ms postprocess per image\n",
      "Results saved to \u001b[1m/teamspace/studios/this_studio/Coral_Exp1\u001b[0m\n",
      "✅ Training complete. Weights and logs are saved in /teamspace/studios/this_studio/Coral_Exp2 (e.g., 'best.pt').\n"
     ]
    }
   ],
   "source": [
    "# Replace with your actual Roboflow API key, workspace, and project info\n",
    "rf = Roboflow(api_key=\"DH9DhedtpaU5EFfumJgc\")\n",
    "project = rf.workspace(\"coral-research\").project(\"coral-pathology-vtwfg\")\n",
    "version = project.version(1)\n",
    "\n",
    "# Download dataset to your VM's local directory\n",
    "dataset_path = \"/teamspace/studios/this_studio/dataset\"\n",
    "dataset = version.download(\n",
    "    model_format=\"yolov8-obb\",\n",
    "    location=dataset_path\n",
    ")\n",
    "\n",
    "# Load a pretrained YOLOv8 Nano model\n",
    "yolo_model = YOLO(\"yolov8n.pt\")\n",
    "\n",
    "# Train the model and store outputs in your VM's directory\n",
    "results = yolo_model.train(\n",
    "    data=os.path.join(dataset.location, 'data.yaml'),  # Properly reference data.yaml\n",
    "    epochs=20,\n",
    "    batch=8,\n",
    "    imgsz=640,\n",
    "    project=\"/teamspace/studios/this_studio\",          # Training outputs go here\n",
    "    name=\"Coral_Exp1\"                                   # Creates Coral_Exp2 folder inside project\n",
    ")\n",
    "\n",
    "print(\"✅ Training complete. Weights and logs are saved in /teamspace/studios/this_studio/Coral_Exp2 (e.g., 'best.pt').\")"
   ]
  },
  {
   "cell_type": "code",
   "execution_count": null,
   "id": "c8f5e1d6-371e-4172-8d01-e3f692312557",
   "metadata": {},
   "outputs": [],
   "source": []
  },
  {
   "cell_type": "code",
   "execution_count": null,
   "id": "c304ae69-5174-46f3-856f-bd735bf8f63e",
   "metadata": {},
   "outputs": [],
   "source": []
  }
 ],
 "metadata": {
  "kernelspec": {
   "display_name": "Python 3",
   "language": "python",
   "name": "python3"
  },
  "language_info": {
   "codemirror_mode": {
    "name": "ipython",
    "version": 3
   },
   "file_extension": ".py",
   "mimetype": "text/x-python",
   "name": "python",
   "nbconvert_exporter": "python",
   "pygments_lexer": "ipython3",
   "version": "3.10.10"
  }
 },
 "nbformat": 4,
 "nbformat_minor": 5
}
